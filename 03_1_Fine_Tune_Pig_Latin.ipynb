{
  "cells": [
    {
      "cell_type": "markdown",
      "metadata": {
        "id": "view-in-github",
        "colab_type": "text"
      },
      "source": [
        "<a href=\"https://colab.research.google.com/github/shahabday/DSR-LLM-finetuning/blob/main/03_1_Fine_Tune_Pig_Latin.ipynb\" target=\"_parent\"><img src=\"https://colab.research.google.com/assets/colab-badge.svg\" alt=\"Open In Colab\"/></a>"
      ]
    },
    {
      "cell_type": "code",
      "execution_count": null,
      "id": "a8b9b585",
      "metadata": {
        "colab": {
          "base_uri": "https://localhost:8080/"
        },
        "id": "a8b9b585",
        "outputId": "a5ef88e6-1e37-457f-b206-1ad71617cd3c"
      },
      "outputs": [
        {
          "output_type": "stream",
          "name": "stdout",
          "text": [
            "Requirement already satisfied: accelerate in /usr/local/lib/python3.11/dist-packages (1.3.0)\n",
            "Collecting datasets\n",
            "  Downloading datasets-3.3.2-py3-none-any.whl.metadata (19 kB)\n",
            "Requirement already satisfied: peft in /usr/local/lib/python3.11/dist-packages (0.14.0)\n",
            "Collecting trl\n",
            "  Downloading trl-0.15.2-py3-none-any.whl.metadata (11 kB)\n",
            "Collecting bitsandbytes\n",
            "  Downloading bitsandbytes-0.45.3-py3-none-manylinux_2_24_x86_64.whl.metadata (5.0 kB)\n",
            "Requirement already satisfied: matplotlib in /usr/local/lib/python3.11/dist-packages (3.10.0)\n",
            "Requirement already satisfied: numpy<3.0.0,>=1.17 in /usr/local/lib/python3.11/dist-packages (from accelerate) (1.26.4)\n",
            "Requirement already satisfied: packaging>=20.0 in /usr/local/lib/python3.11/dist-packages (from accelerate) (24.2)\n",
            "Requirement already satisfied: psutil in /usr/local/lib/python3.11/dist-packages (from accelerate) (5.9.5)\n",
            "Requirement already satisfied: pyyaml in /usr/local/lib/python3.11/dist-packages (from accelerate) (6.0.2)\n",
            "Requirement already satisfied: torch>=2.0.0 in /usr/local/lib/python3.11/dist-packages (from accelerate) (2.5.1+cu124)\n",
            "Requirement already satisfied: huggingface-hub>=0.21.0 in /usr/local/lib/python3.11/dist-packages (from accelerate) (0.28.1)\n",
            "Requirement already satisfied: safetensors>=0.4.3 in /usr/local/lib/python3.11/dist-packages (from accelerate) (0.5.3)\n",
            "Requirement already satisfied: filelock in /usr/local/lib/python3.11/dist-packages (from datasets) (3.17.0)\n",
            "Requirement already satisfied: pyarrow>=15.0.0 in /usr/local/lib/python3.11/dist-packages (from datasets) (18.1.0)\n",
            "Collecting dill<0.3.9,>=0.3.0 (from datasets)\n",
            "  Downloading dill-0.3.8-py3-none-any.whl.metadata (10 kB)\n",
            "Requirement already satisfied: pandas in /usr/local/lib/python3.11/dist-packages (from datasets) (2.2.2)\n",
            "Requirement already satisfied: requests>=2.32.2 in /usr/local/lib/python3.11/dist-packages (from datasets) (2.32.3)\n",
            "Requirement already satisfied: tqdm>=4.66.3 in /usr/local/lib/python3.11/dist-packages (from datasets) (4.67.1)\n",
            "Collecting xxhash (from datasets)\n",
            "  Downloading xxhash-3.5.0-cp311-cp311-manylinux_2_17_x86_64.manylinux2014_x86_64.whl.metadata (12 kB)\n",
            "Collecting multiprocess<0.70.17 (from datasets)\n",
            "  Downloading multiprocess-0.70.16-py311-none-any.whl.metadata (7.2 kB)\n",
            "Requirement already satisfied: fsspec<=2024.12.0,>=2023.1.0 in /usr/local/lib/python3.11/dist-packages (from fsspec[http]<=2024.12.0,>=2023.1.0->datasets) (2024.10.0)\n",
            "Requirement already satisfied: aiohttp in /usr/local/lib/python3.11/dist-packages (from datasets) (3.11.13)\n",
            "Requirement already satisfied: transformers in /usr/local/lib/python3.11/dist-packages (from peft) (4.48.3)\n",
            "Requirement already satisfied: rich in /usr/local/lib/python3.11/dist-packages (from trl) (13.9.4)\n",
            "Requirement already satisfied: contourpy>=1.0.1 in /usr/local/lib/python3.11/dist-packages (from matplotlib) (1.3.1)\n",
            "Requirement already satisfied: cycler>=0.10 in /usr/local/lib/python3.11/dist-packages (from matplotlib) (0.12.1)\n",
            "Requirement already satisfied: fonttools>=4.22.0 in /usr/local/lib/python3.11/dist-packages (from matplotlib) (4.56.0)\n",
            "Requirement already satisfied: kiwisolver>=1.3.1 in /usr/local/lib/python3.11/dist-packages (from matplotlib) (1.4.8)\n",
            "Requirement already satisfied: pillow>=8 in /usr/local/lib/python3.11/dist-packages (from matplotlib) (11.1.0)\n",
            "Requirement already satisfied: pyparsing>=2.3.1 in /usr/local/lib/python3.11/dist-packages (from matplotlib) (3.2.1)\n",
            "Requirement already satisfied: python-dateutil>=2.7 in /usr/local/lib/python3.11/dist-packages (from matplotlib) (2.8.2)\n",
            "Requirement already satisfied: aiohappyeyeballs>=2.3.0 in /usr/local/lib/python3.11/dist-packages (from aiohttp->datasets) (2.4.6)\n",
            "Requirement already satisfied: aiosignal>=1.1.2 in /usr/local/lib/python3.11/dist-packages (from aiohttp->datasets) (1.3.2)\n",
            "Requirement already satisfied: attrs>=17.3.0 in /usr/local/lib/python3.11/dist-packages (from aiohttp->datasets) (25.1.0)\n",
            "Requirement already satisfied: frozenlist>=1.1.1 in /usr/local/lib/python3.11/dist-packages (from aiohttp->datasets) (1.5.0)\n",
            "Requirement already satisfied: multidict<7.0,>=4.5 in /usr/local/lib/python3.11/dist-packages (from aiohttp->datasets) (6.1.0)\n",
            "Requirement already satisfied: propcache>=0.2.0 in /usr/local/lib/python3.11/dist-packages (from aiohttp->datasets) (0.3.0)\n",
            "Requirement already satisfied: yarl<2.0,>=1.17.0 in /usr/local/lib/python3.11/dist-packages (from aiohttp->datasets) (1.18.3)\n",
            "Requirement already satisfied: typing-extensions>=3.7.4.3 in /usr/local/lib/python3.11/dist-packages (from huggingface-hub>=0.21.0->accelerate) (4.12.2)\n",
            "Requirement already satisfied: six>=1.5 in /usr/local/lib/python3.11/dist-packages (from python-dateutil>=2.7->matplotlib) (1.17.0)\n",
            "Requirement already satisfied: charset-normalizer<4,>=2 in /usr/local/lib/python3.11/dist-packages (from requests>=2.32.2->datasets) (3.4.1)\n",
            "Requirement already satisfied: idna<4,>=2.5 in /usr/local/lib/python3.11/dist-packages (from requests>=2.32.2->datasets) (3.10)\n",
            "Requirement already satisfied: urllib3<3,>=1.21.1 in /usr/local/lib/python3.11/dist-packages (from requests>=2.32.2->datasets) (2.3.0)\n",
            "Requirement already satisfied: certifi>=2017.4.17 in /usr/local/lib/python3.11/dist-packages (from requests>=2.32.2->datasets) (2025.1.31)\n",
            "Requirement already satisfied: networkx in /usr/local/lib/python3.11/dist-packages (from torch>=2.0.0->accelerate) (3.4.2)\n",
            "Requirement already satisfied: jinja2 in /usr/local/lib/python3.11/dist-packages (from torch>=2.0.0->accelerate) (3.1.5)\n",
            "Collecting nvidia-cuda-nvrtc-cu12==12.4.127 (from torch>=2.0.0->accelerate)\n",
            "  Downloading nvidia_cuda_nvrtc_cu12-12.4.127-py3-none-manylinux2014_x86_64.whl.metadata (1.5 kB)\n",
            "Collecting nvidia-cuda-runtime-cu12==12.4.127 (from torch>=2.0.0->accelerate)\n",
            "  Downloading nvidia_cuda_runtime_cu12-12.4.127-py3-none-manylinux2014_x86_64.whl.metadata (1.5 kB)\n",
            "Collecting nvidia-cuda-cupti-cu12==12.4.127 (from torch>=2.0.0->accelerate)\n",
            "  Downloading nvidia_cuda_cupti_cu12-12.4.127-py3-none-manylinux2014_x86_64.whl.metadata (1.6 kB)\n",
            "Collecting nvidia-cudnn-cu12==9.1.0.70 (from torch>=2.0.0->accelerate)\n",
            "  Downloading nvidia_cudnn_cu12-9.1.0.70-py3-none-manylinux2014_x86_64.whl.metadata (1.6 kB)\n",
            "Collecting nvidia-cublas-cu12==12.4.5.8 (from torch>=2.0.0->accelerate)\n",
            "  Downloading nvidia_cublas_cu12-12.4.5.8-py3-none-manylinux2014_x86_64.whl.metadata (1.5 kB)\n",
            "Collecting nvidia-cufft-cu12==11.2.1.3 (from torch>=2.0.0->accelerate)\n",
            "  Downloading nvidia_cufft_cu12-11.2.1.3-py3-none-manylinux2014_x86_64.whl.metadata (1.5 kB)\n",
            "Collecting nvidia-curand-cu12==10.3.5.147 (from torch>=2.0.0->accelerate)\n",
            "  Downloading nvidia_curand_cu12-10.3.5.147-py3-none-manylinux2014_x86_64.whl.metadata (1.5 kB)\n",
            "Collecting nvidia-cusolver-cu12==11.6.1.9 (from torch>=2.0.0->accelerate)\n",
            "  Downloading nvidia_cusolver_cu12-11.6.1.9-py3-none-manylinux2014_x86_64.whl.metadata (1.6 kB)\n",
            "Collecting nvidia-cusparse-cu12==12.3.1.170 (from torch>=2.0.0->accelerate)\n",
            "  Downloading nvidia_cusparse_cu12-12.3.1.170-py3-none-manylinux2014_x86_64.whl.metadata (1.6 kB)\n",
            "Requirement already satisfied: nvidia-nccl-cu12==2.21.5 in /usr/local/lib/python3.11/dist-packages (from torch>=2.0.0->accelerate) (2.21.5)\n",
            "Requirement already satisfied: nvidia-nvtx-cu12==12.4.127 in /usr/local/lib/python3.11/dist-packages (from torch>=2.0.0->accelerate) (12.4.127)\n",
            "Collecting nvidia-nvjitlink-cu12==12.4.127 (from torch>=2.0.0->accelerate)\n",
            "  Downloading nvidia_nvjitlink_cu12-12.4.127-py3-none-manylinux2014_x86_64.whl.metadata (1.5 kB)\n",
            "Requirement already satisfied: triton==3.1.0 in /usr/local/lib/python3.11/dist-packages (from torch>=2.0.0->accelerate) (3.1.0)\n",
            "Requirement already satisfied: sympy==1.13.1 in /usr/local/lib/python3.11/dist-packages (from torch>=2.0.0->accelerate) (1.13.1)\n",
            "Requirement already satisfied: mpmath<1.4,>=1.1.0 in /usr/local/lib/python3.11/dist-packages (from sympy==1.13.1->torch>=2.0.0->accelerate) (1.3.0)\n",
            "Requirement already satisfied: regex!=2019.12.17 in /usr/local/lib/python3.11/dist-packages (from transformers->peft) (2024.11.6)\n",
            "Requirement already satisfied: tokenizers<0.22,>=0.21 in /usr/local/lib/python3.11/dist-packages (from transformers->peft) (0.21.0)\n",
            "Requirement already satisfied: pytz>=2020.1 in /usr/local/lib/python3.11/dist-packages (from pandas->datasets) (2025.1)\n",
            "Requirement already satisfied: tzdata>=2022.7 in /usr/local/lib/python3.11/dist-packages (from pandas->datasets) (2025.1)\n",
            "Requirement already satisfied: markdown-it-py>=2.2.0 in /usr/local/lib/python3.11/dist-packages (from rich->trl) (3.0.0)\n",
            "Requirement already satisfied: pygments<3.0.0,>=2.13.0 in /usr/local/lib/python3.11/dist-packages (from rich->trl) (2.18.0)\n",
            "Requirement already satisfied: mdurl~=0.1 in /usr/local/lib/python3.11/dist-packages (from markdown-it-py>=2.2.0->rich->trl) (0.1.2)\n",
            "Requirement already satisfied: MarkupSafe>=2.0 in /usr/local/lib/python3.11/dist-packages (from jinja2->torch>=2.0.0->accelerate) (3.0.2)\n",
            "Downloading datasets-3.3.2-py3-none-any.whl (485 kB)\n",
            "\u001b[2K   \u001b[90m━━━━━━━━━━━━━━━━━━━━━━━━━━━━━━━━━━━━━━━━\u001b[0m \u001b[32m485.4/485.4 kB\u001b[0m \u001b[31m28.1 MB/s\u001b[0m eta \u001b[36m0:00:00\u001b[0m\n",
            "\u001b[?25hDownloading trl-0.15.2-py3-none-any.whl (318 kB)\n",
            "\u001b[2K   \u001b[90m━━━━━━━━━━━━━━━━━━━━━━━━━━━━━━━━━━━━━━━━\u001b[0m \u001b[32m318.9/318.9 kB\u001b[0m \u001b[31m24.9 MB/s\u001b[0m eta \u001b[36m0:00:00\u001b[0m\n",
            "\u001b[?25hDownloading bitsandbytes-0.45.3-py3-none-manylinux_2_24_x86_64.whl (76.1 MB)\n",
            "\u001b[2K   \u001b[90m━━━━━━━━━━━━━━━━━━━━━━━━━━━━━━━━━━━━━━━━\u001b[0m \u001b[32m76.1/76.1 MB\u001b[0m \u001b[31m10.1 MB/s\u001b[0m eta \u001b[36m0:00:00\u001b[0m\n",
            "\u001b[?25hDownloading dill-0.3.8-py3-none-any.whl (116 kB)\n",
            "\u001b[2K   \u001b[90m━━━━━━━━━━━━━━━━━━━━━━━━━━━━━━━━━━━━━━━━\u001b[0m \u001b[32m116.3/116.3 kB\u001b[0m \u001b[31m9.6 MB/s\u001b[0m eta \u001b[36m0:00:00\u001b[0m\n",
            "\u001b[?25hDownloading multiprocess-0.70.16-py311-none-any.whl (143 kB)\n",
            "\u001b[2K   \u001b[90m━━━━━━━━━━━━━━━━━━━━━━━━━━━━━━━━━━━━━━━━\u001b[0m \u001b[32m143.5/143.5 kB\u001b[0m \u001b[31m12.9 MB/s\u001b[0m eta \u001b[36m0:00:00\u001b[0m\n",
            "\u001b[?25hDownloading nvidia_cublas_cu12-12.4.5.8-py3-none-manylinux2014_x86_64.whl (363.4 MB)\n",
            "\u001b[2K   \u001b[90m━━━━━━━━━━━━━━━━━━━━━━━━━━━━━━━━━━━━━━━━\u001b[0m \u001b[32m363.4/363.4 MB\u001b[0m \u001b[31m3.8 MB/s\u001b[0m eta \u001b[36m0:00:00\u001b[0m\n",
            "\u001b[?25hDownloading nvidia_cuda_cupti_cu12-12.4.127-py3-none-manylinux2014_x86_64.whl (13.8 MB)\n",
            "\u001b[2K   \u001b[90m━━━━━━━━━━━━━━━━━━━━━━━━━━━━━━━━━━━━━━━━\u001b[0m \u001b[32m13.8/13.8 MB\u001b[0m \u001b[31m50.6 MB/s\u001b[0m eta \u001b[36m0:00:00\u001b[0m\n",
            "\u001b[?25hDownloading nvidia_cuda_nvrtc_cu12-12.4.127-py3-none-manylinux2014_x86_64.whl (24.6 MB)\n",
            "\u001b[2K   \u001b[90m━━━━━━━━━━━━━━━━━━━━━━━━━━━━━━━━━━━━━━━━\u001b[0m \u001b[32m24.6/24.6 MB\u001b[0m \u001b[31m28.3 MB/s\u001b[0m eta \u001b[36m0:00:00\u001b[0m\n",
            "\u001b[?25hDownloading nvidia_cuda_runtime_cu12-12.4.127-py3-none-manylinux2014_x86_64.whl (883 kB)\n",
            "\u001b[2K   \u001b[90m━━━━━━━━━━━━━━━━━━━━━━━━━━━━━━━━━━━━━━━━\u001b[0m \u001b[32m883.7/883.7 kB\u001b[0m \u001b[31m45.5 MB/s\u001b[0m eta \u001b[36m0:00:00\u001b[0m\n",
            "\u001b[?25hDownloading nvidia_cudnn_cu12-9.1.0.70-py3-none-manylinux2014_x86_64.whl (664.8 MB)\n",
            "\u001b[2K   \u001b[90m━━━━━━━━━━━━━━━━━━━━━━━━━━━━━━━━━━━━━━━━\u001b[0m \u001b[32m664.8/664.8 MB\u001b[0m \u001b[31m2.6 MB/s\u001b[0m eta \u001b[36m0:00:00\u001b[0m\n",
            "\u001b[?25hDownloading nvidia_cufft_cu12-11.2.1.3-py3-none-manylinux2014_x86_64.whl (211.5 MB)\n",
            "\u001b[2K   \u001b[90m━━━━━━━━━━━━━━━━━━━━━━━━━━━━━━━━━━━━━━━━\u001b[0m \u001b[32m211.5/211.5 MB\u001b[0m \u001b[31m5.7 MB/s\u001b[0m eta \u001b[36m0:00:00\u001b[0m\n",
            "\u001b[?25hDownloading nvidia_curand_cu12-10.3.5.147-py3-none-manylinux2014_x86_64.whl (56.3 MB)\n",
            "\u001b[2K   \u001b[90m━━━━━━━━━━━━━━━━━━━━━━━━━━━━━━━━━━━━━━━━\u001b[0m \u001b[32m56.3/56.3 MB\u001b[0m \u001b[31m17.2 MB/s\u001b[0m eta \u001b[36m0:00:00\u001b[0m\n",
            "\u001b[?25hDownloading nvidia_cusolver_cu12-11.6.1.9-py3-none-manylinux2014_x86_64.whl (127.9 MB)\n",
            "\u001b[2K   \u001b[90m━━━━━━━━━━━━━━━━━━━━━━━━━━━━━━━━━━━━━━━━\u001b[0m \u001b[32m127.9/127.9 MB\u001b[0m \u001b[31m8.2 MB/s\u001b[0m eta \u001b[36m0:00:00\u001b[0m\n",
            "\u001b[?25hDownloading nvidia_cusparse_cu12-12.3.1.170-py3-none-manylinux2014_x86_64.whl (207.5 MB)\n",
            "\u001b[2K   \u001b[90m━━━━━━━━━━━━━━━━━━━━━━━━━━━━━━━━━━━━━━━━\u001b[0m \u001b[32m207.5/207.5 MB\u001b[0m \u001b[31m5.8 MB/s\u001b[0m eta \u001b[36m0:00:00\u001b[0m\n",
            "\u001b[?25hDownloading nvidia_nvjitlink_cu12-12.4.127-py3-none-manylinux2014_x86_64.whl (21.1 MB)\n",
            "\u001b[2K   \u001b[90m━━━━━━━━━━━━━━━━━━━━━━━━━━━━━━━━━━━━━━━━\u001b[0m \u001b[32m21.1/21.1 MB\u001b[0m \u001b[31m94.3 MB/s\u001b[0m eta \u001b[36m0:00:00\u001b[0m\n",
            "\u001b[?25hDownloading xxhash-3.5.0-cp311-cp311-manylinux_2_17_x86_64.manylinux2014_x86_64.whl (194 kB)\n",
            "\u001b[2K   \u001b[90m━━━━━━━━━━━━━━━━━━━━━━━━━━━━━━━━━━━━━━━━\u001b[0m \u001b[32m194.8/194.8 kB\u001b[0m \u001b[31m18.8 MB/s\u001b[0m eta \u001b[36m0:00:00\u001b[0m\n",
            "\u001b[?25hInstalling collected packages: xxhash, nvidia-nvjitlink-cu12, nvidia-curand-cu12, nvidia-cufft-cu12, nvidia-cuda-runtime-cu12, nvidia-cuda-nvrtc-cu12, nvidia-cuda-cupti-cu12, nvidia-cublas-cu12, dill, nvidia-cusparse-cu12, nvidia-cudnn-cu12, multiprocess, nvidia-cusolver-cu12, datasets, bitsandbytes, trl\n",
            "  Attempting uninstall: nvidia-nvjitlink-cu12\n",
            "    Found existing installation: nvidia-nvjitlink-cu12 12.5.82\n",
            "    Uninstalling nvidia-nvjitlink-cu12-12.5.82:\n",
            "      Successfully uninstalled nvidia-nvjitlink-cu12-12.5.82\n",
            "  Attempting uninstall: nvidia-curand-cu12\n",
            "    Found existing installation: nvidia-curand-cu12 10.3.6.82\n",
            "    Uninstalling nvidia-curand-cu12-10.3.6.82:\n",
            "      Successfully uninstalled nvidia-curand-cu12-10.3.6.82\n",
            "  Attempting uninstall: nvidia-cufft-cu12\n",
            "    Found existing installation: nvidia-cufft-cu12 11.2.3.61\n",
            "    Uninstalling nvidia-cufft-cu12-11.2.3.61:\n",
            "      Successfully uninstalled nvidia-cufft-cu12-11.2.3.61\n",
            "  Attempting uninstall: nvidia-cuda-runtime-cu12\n",
            "    Found existing installation: nvidia-cuda-runtime-cu12 12.5.82\n",
            "    Uninstalling nvidia-cuda-runtime-cu12-12.5.82:\n",
            "      Successfully uninstalled nvidia-cuda-runtime-cu12-12.5.82\n",
            "  Attempting uninstall: nvidia-cuda-nvrtc-cu12\n",
            "    Found existing installation: nvidia-cuda-nvrtc-cu12 12.5.82\n",
            "    Uninstalling nvidia-cuda-nvrtc-cu12-12.5.82:\n",
            "      Successfully uninstalled nvidia-cuda-nvrtc-cu12-12.5.82\n",
            "  Attempting uninstall: nvidia-cuda-cupti-cu12\n",
            "    Found existing installation: nvidia-cuda-cupti-cu12 12.5.82\n",
            "    Uninstalling nvidia-cuda-cupti-cu12-12.5.82:\n",
            "      Successfully uninstalled nvidia-cuda-cupti-cu12-12.5.82\n",
            "  Attempting uninstall: nvidia-cublas-cu12\n",
            "    Found existing installation: nvidia-cublas-cu12 12.5.3.2\n",
            "    Uninstalling nvidia-cublas-cu12-12.5.3.2:\n",
            "      Successfully uninstalled nvidia-cublas-cu12-12.5.3.2\n",
            "  Attempting uninstall: nvidia-cusparse-cu12\n",
            "    Found existing installation: nvidia-cusparse-cu12 12.5.1.3\n",
            "    Uninstalling nvidia-cusparse-cu12-12.5.1.3:\n",
            "      Successfully uninstalled nvidia-cusparse-cu12-12.5.1.3\n",
            "  Attempting uninstall: nvidia-cudnn-cu12\n",
            "    Found existing installation: nvidia-cudnn-cu12 9.3.0.75\n",
            "    Uninstalling nvidia-cudnn-cu12-9.3.0.75:\n",
            "      Successfully uninstalled nvidia-cudnn-cu12-9.3.0.75\n",
            "  Attempting uninstall: nvidia-cusolver-cu12\n",
            "    Found existing installation: nvidia-cusolver-cu12 11.6.3.83\n",
            "    Uninstalling nvidia-cusolver-cu12-11.6.3.83:\n",
            "      Successfully uninstalled nvidia-cusolver-cu12-11.6.3.83\n",
            "Successfully installed bitsandbytes-0.45.3 datasets-3.3.2 dill-0.3.8 multiprocess-0.70.16 nvidia-cublas-cu12-12.4.5.8 nvidia-cuda-cupti-cu12-12.4.127 nvidia-cuda-nvrtc-cu12-12.4.127 nvidia-cuda-runtime-cu12-12.4.127 nvidia-cudnn-cu12-9.1.0.70 nvidia-cufft-cu12-11.2.1.3 nvidia-curand-cu12-10.3.5.147 nvidia-cusolver-cu12-11.6.1.9 nvidia-cusparse-cu12-12.3.1.170 nvidia-nvjitlink-cu12-12.4.127 trl-0.15.2 xxhash-3.5.0\n"
          ]
        }
      ],
      "source": [
        "!pip install accelerate datasets peft trl bitsandbytes matplotlib"
      ]
    },
    {
      "cell_type": "markdown",
      "id": "fb7abeeb",
      "metadata": {
        "id": "fb7abeeb"
      },
      "source": [
        "## Harvard Sentences"
      ]
    },
    {
      "cell_type": "markdown",
      "id": "6a358e1d",
      "metadata": {
        "id": "6a358e1d"
      },
      "source": [
        "Conditions of use: The material on this site is freely available for use in VoIP testing, research, development, marketing and any other reasonable application. The material may be copied, downloaded, broadcast, modified, incorporated into web sites or test equipment. We do require that you identify the source of the speech materials as \"Open Speech Repository\"..\n",
        "\n",
        "https://www.cs.columbia.edu/~hgs/audio/harvard.html"
      ]
    },
    {
      "cell_type": "markdown",
      "id": "c8a9b1fc",
      "metadata": {
        "id": "c8a9b1fc"
      },
      "source": [
        "## Pig Latin"
      ]
    },
    {
      "cell_type": "code",
      "execution_count": null,
      "id": "13e15eb8",
      "metadata": {
        "id": "13e15eb8"
      },
      "outputs": [],
      "source": [
        "import re\n",
        "from string import punctuation\n",
        "\n",
        "def pig_latin(sentence):\n",
        "    toks = [t.lower() for t in re.findall(r'\\w+|[^\\s\\w]+', sentence) if len(t) > 0]\n",
        "\n",
        "    def convert(string):\n",
        "        # if starts with a vowel, just add \"ay\"\n",
        "        # else move the consonants to the end and add \"ay\"\n",
        "        if string in punctuation:\n",
        "            return string\n",
        "        elif string[0].lower() in {'a', 'e', 'i', 'o', 'u'}:\n",
        "            return ' ' + string + 'way'\n",
        "        else:\n",
        "            beginning_consonants = []\n",
        "            for i in range(len(string)):\n",
        "                if string[i].lower() in {'a', 'e', 'i', 'o', 'u'}:\n",
        "                    break\n",
        "                beginning_consonants.append(string[i])\n",
        "            return ' ' + string[i:] + ''.join(beginning_consonants) + 'ay'\n",
        "\n",
        "    return ''.join([convert(t) for t in toks]).strip()"
      ]
    },
    {
      "cell_type": "code",
      "execution_count": null,
      "id": "8d2fd6cf",
      "metadata": {
        "colab": {
          "base_uri": "https://localhost:8080/",
          "height": 35
        },
        "id": "8d2fd6cf",
        "outputId": "ad4b8976-3b0e-42d4-a2c7-b9329f13fb3c"
      },
      "outputs": [
        {
          "output_type": "execute_result",
          "data": {
            "text/plain": [
              "'owhay areway ouyay oingday odaytay?'"
            ],
            "application/vnd.google.colaboratory.intrinsic+json": {
              "type": "string"
            }
          },
          "metadata": {},
          "execution_count": 20
        }
      ],
      "source": [
        "pig_latin('How are you doing today?')"
      ]
    },
    {
      "cell_type": "markdown",
      "id": "39f89f95",
      "metadata": {
        "id": "39f89f95"
      },
      "source": [
        "### Load Harvard Sentences"
      ]
    },
    {
      "cell_type": "code",
      "source": [
        "!gdown 1pg8hJEdhiHjfcrvo3XzuW4d80xzqnFsl"
      ],
      "metadata": {
        "colab": {
          "base_uri": "https://localhost:8080/"
        },
        "id": "A1RbJtiQC7Hv",
        "outputId": "c6c95fd1-7ade-49e7-97d7-914f0add06f1"
      },
      "id": "A1RbJtiQC7Hv",
      "execution_count": null,
      "outputs": [
        {
          "output_type": "stream",
          "name": "stdout",
          "text": [
            "Downloading...\n",
            "From: https://drive.google.com/uc?id=1pg8hJEdhiHjfcrvo3XzuW4d80xzqnFsl\n",
            "To: /content/harvard_sentences.txt\n",
            "\r  0% 0.00/30.5k [00:00<?, ?B/s]\r100% 30.5k/30.5k [00:00<00:00, 85.7MB/s]\n"
          ]
        }
      ]
    },
    {
      "cell_type": "code",
      "execution_count": null,
      "id": "e8406a24",
      "metadata": {
        "id": "e8406a24"
      },
      "outputs": [],
      "source": [
        "from datasets import load_dataset, Split\n",
        "dataset = load_dataset(path='csv', data_files='harvard_sentences.txt', quotechar='\"', split=Split.ALL)\n",
        "dataset = dataset.shuffle().train_test_split(test_size=0.2)"
      ]
    },
    {
      "cell_type": "code",
      "execution_count": null,
      "id": "47e76944",
      "metadata": {
        "colab": {
          "base_uri": "https://localhost:8080/"
        },
        "id": "47e76944",
        "outputId": "fbb2cf21-35f8-4c57-af18-d80c9f334e3a"
      },
      "outputs": [
        {
          "output_type": "execute_result",
          "data": {
            "text/plain": [
              "DatasetDict({\n",
              "    train: Dataset({\n",
              "        features: ['sentence'],\n",
              "        num_rows: 576\n",
              "    })\n",
              "    test: Dataset({\n",
              "        features: ['sentence'],\n",
              "        num_rows: 144\n",
              "    })\n",
              "})"
            ]
          },
          "metadata": {},
          "execution_count": 22
        }
      ],
      "source": [
        "dataset"
      ]
    },
    {
      "cell_type": "code",
      "execution_count": null,
      "id": "5b511fdd",
      "metadata": {
        "colab": {
          "base_uri": "https://localhost:8080/"
        },
        "id": "5b511fdd",
        "outputId": "523e241c-a323-431f-b0de-13eeeafdc757"
      },
      "outputs": [
        {
          "output_type": "execute_result",
          "data": {
            "text/plain": [
              "{'sentence': 'The good book informs of what we ought to know.'}"
            ]
          },
          "metadata": {},
          "execution_count": 23
        }
      ],
      "source": [
        "dataset['train'][0]"
      ]
    },
    {
      "cell_type": "markdown",
      "id": "abc64636",
      "metadata": {
        "id": "abc64636"
      },
      "source": [
        "### Translate Sentences to Pig Latin"
      ]
    },
    {
      "cell_type": "code",
      "execution_count": null,
      "id": "2ce9ccb3",
      "metadata": {
        "colab": {
          "base_uri": "https://localhost:8080/",
          "height": 81,
          "referenced_widgets": [
            "e28c893fd0c943c8af8409c080507b86",
            "7f8a289ffaf34635ab11f7be8e905b7b",
            "9a960ca8712e476eb11ab951805ca3a4",
            "b8df57e862c74d92b8898701060a1bd8",
            "d2b79272c62e4ed38815508abb7d794f",
            "e999b8112a804b8d8c1be4bc22342643",
            "7cf8d528f88646e59f6a439764f12592",
            "1915517bfaee4d13a36605d1acbfeba9",
            "9f8dd31867814b15a15d96dd1e87ef26",
            "5230c6bd980146d38b6740f0e2f7622e",
            "7094c25f1d544ec4b85198be9c8f73f5",
            "ab01529bec66446c890d4906fcbddaa0",
            "2687c5f0a9b94776b4dfc61b5f4ad4db",
            "6f7feab9cd7b491bae38a019e846fa4f",
            "cad76ec7e0fa4bb2a02bde41e83c0a1e",
            "06662a255d37400797847a3b43692c4d",
            "6c0ed23c2a6a4381905ee2a5e1493c61",
            "67dfe7c29ee24c249e22d1251749146b",
            "72f2d41eaced49048f3d492452b87289",
            "b41f623d7b254e36abe803b55a4870bc",
            "36ada2a8cf9a4fe0b2fb6d7096a1e396",
            "2bf9e43822fb48b9b8c07bb14d48bbe0"
          ]
        },
        "id": "2ce9ccb3",
        "outputId": "3a4a3567-6634-4f12-ed86-2ec4ac128a46"
      },
      "outputs": [
        {
          "output_type": "display_data",
          "data": {
            "text/plain": [
              "Map:   0%|          | 0/576 [00:00<?, ? examples/s]"
            ],
            "application/vnd.jupyter.widget-view+json": {
              "version_major": 2,
              "version_minor": 0,
              "model_id": "e28c893fd0c943c8af8409c080507b86"
            }
          },
          "metadata": {}
        },
        {
          "output_type": "display_data",
          "data": {
            "text/plain": [
              "Map:   0%|          | 0/144 [00:00<?, ? examples/s]"
            ],
            "application/vnd.jupyter.widget-view+json": {
              "version_major": 2,
              "version_minor": 0,
              "model_id": "ab01529bec66446c890d4906fcbddaa0"
            }
          },
          "metadata": {}
        }
      ],
      "source": [
        "pig_ds = dataset.map(lambda s: {'translated': pig_latin(s['sentence'])})"
      ]
    },
    {
      "cell_type": "code",
      "execution_count": null,
      "id": "d9995ccc",
      "metadata": {
        "colab": {
          "base_uri": "https://localhost:8080/"
        },
        "id": "d9995ccc",
        "outputId": "1a9d6d3e-9d7a-4da1-c09b-253934659415"
      },
      "outputs": [
        {
          "output_type": "execute_result",
          "data": {
            "text/plain": [
              "{'sentence': 'The stray cat gave birth to kittens.',\n",
              " 'translated': 'ethay aystray atcay avegay irthbay otay ittenskay.'}"
            ]
          },
          "metadata": {},
          "execution_count": 25
        }
      ],
      "source": [
        "pig_ds['train'][1]"
      ]
    },
    {
      "cell_type": "markdown",
      "id": "6f2217ac",
      "metadata": {
        "id": "6f2217ac"
      },
      "source": [
        "### Prompt Dataset"
      ]
    },
    {
      "cell_type": "code",
      "execution_count": null,
      "id": "023c23e9",
      "metadata": {
        "id": "023c23e9"
      },
      "outputs": [],
      "source": [
        "prompt_pig = pig_ds.rename_columns({'sentence': 'prompt', 'translated': 'completion'}).select_columns(['prompt', 'completion'])"
      ]
    },
    {
      "cell_type": "code",
      "execution_count": null,
      "id": "5b8108d7",
      "metadata": {
        "colab": {
          "base_uri": "https://localhost:8080/"
        },
        "id": "5b8108d7",
        "outputId": "6c97a513-d665-413c-ee99-d5a94fdbd1c4"
      },
      "outputs": [
        {
          "output_type": "execute_result",
          "data": {
            "text/plain": [
              "{'prompt': 'The good book informs of what we ought to know.',\n",
              " 'completion': 'ethay oodgay ookbay informsway ofway atwhay eway oughtway otay owknay.'}"
            ]
          },
          "metadata": {},
          "execution_count": 27
        }
      ],
      "source": [
        "prompt_pig['train'][0]"
      ]
    },
    {
      "cell_type": "markdown",
      "id": "dbc9a7da",
      "metadata": {
        "id": "dbc9a7da"
      },
      "source": [
        "## Tokenizer"
      ]
    },
    {
      "cell_type": "code",
      "execution_count": null,
      "id": "3f5fcf9c",
      "metadata": {
        "id": "3f5fcf9c"
      },
      "outputs": [],
      "source": [
        "from transformers import AutoTokenizer, DataCollatorForLanguageModeling\n",
        "from torch.utils.data import DataLoader\n",
        "from trl import DataCollatorForCompletionOnlyLM\n",
        "\n",
        "base_model_id = 'microsoft/phi-2'\n",
        "\n",
        "tokenizer = AutoTokenizer.from_pretrained(\n",
        "    base_model_id,\n",
        ")\n",
        "tokenizer.add_special_tokens({'pad_token': '<|pad|>'})\n",
        "tokenizer.padding_side = 'left'"
      ]
    },
    {
      "cell_type": "code",
      "execution_count": null,
      "id": "43f3c587-a584-47aa-a229-5cd4156bb9bb",
      "metadata": {
        "colab": {
          "base_uri": "https://localhost:8080/"
        },
        "id": "43f3c587-a584-47aa-a229-5cd4156bb9bb",
        "outputId": "5a3c8e30-71f0-4cc7-f48d-dd6118d44c5d"
      },
      "outputs": [
        {
          "output_type": "execute_result",
          "data": {
            "text/plain": [
              "50297"
            ]
          },
          "metadata": {},
          "execution_count": 3
        }
      ],
      "source": [
        "response_template = '##[PIGL]##>'\n",
        "tokenizer.add_special_tokens({'additional_special_tokens': [response_template]})\n",
        "\n",
        "len(tokenizer)"
      ]
    },
    {
      "cell_type": "code",
      "execution_count": null,
      "id": "88721eba-6779-4306-b21d-e6fbb0f70c60",
      "metadata": {
        "colab": {
          "base_uri": "https://localhost:8080/"
        },
        "id": "88721eba-6779-4306-b21d-e6fbb0f70c60",
        "outputId": "04cc428c-b802-47a9-9aac-16be1a117688"
      },
      "outputs": [
        {
          "output_type": "execute_result",
          "data": {
            "text/plain": [
              "('<|pad|>', '<|endoftext|>', '<|endoftext|>', '<|endoftext|>')"
            ]
          },
          "metadata": {},
          "execution_count": 14
        }
      ],
      "source": [
        "tokenizer.pad_token, tokenizer.eos_token, tokenizer.bos_token, tokenizer.unk_token"
      ]
    },
    {
      "cell_type": "code",
      "execution_count": null,
      "id": "6eaf3e2d-914e-4a0f-943b-4df965646d6d",
      "metadata": {
        "id": "6eaf3e2d-914e-4a0f-943b-4df965646d6d"
      },
      "outputs": [],
      "source": [
        "collator = DataCollatorForCompletionOnlyLM(response_template, tokenizer=tokenizer)"
      ]
    },
    {
      "cell_type": "markdown",
      "id": "7b591b27",
      "metadata": {
        "id": "7b591b27"
      },
      "source": [
        "### Formatting\n",
        "\n",
        "Let's build a formatting function that takes both prompt and completion, and inserts a particular string that will be used to trigger the translation. This string is the response template."
      ]
    },
    {
      "cell_type": "code",
      "execution_count": null,
      "id": "520875d4",
      "metadata": {
        "colab": {
          "base_uri": "https://localhost:8080/",
          "height": 176
        },
        "id": "520875d4",
        "outputId": "d59ecdc5-fced-46be-aa5a-4bab84c0c8cf"
      },
      "outputs": [
        {
          "output_type": "error",
          "ename": "NameError",
          "evalue": "name 'prompt_pig' is not defined",
          "traceback": [
            "\u001b[0;31m---------------------------------------------------------------------------\u001b[0m",
            "\u001b[0;31mNameError\u001b[0m                                 Traceback (most recent call last)",
            "\u001b[0;32m<ipython-input-4-3c54e036ff0d>\u001b[0m in \u001b[0;36m<cell line: 0>\u001b[0;34m()\u001b[0m\n\u001b[1;32m      2\u001b[0m     \u001b[0;32mreturn\u001b[0m \u001b[0;34mf'{example[\"prompt\"]}{response_template}{example[\"completion\"]}'\u001b[0m \u001b[0;34m+\u001b[0m \u001b[0mtokenizer\u001b[0m\u001b[0;34m.\u001b[0m\u001b[0meos_token\u001b[0m\u001b[0;34m\u001b[0m\u001b[0;34m\u001b[0m\u001b[0m\n\u001b[1;32m      3\u001b[0m \u001b[0;34m\u001b[0m\u001b[0m\n\u001b[0;32m----> 4\u001b[0;31m \u001b[0mformatting_func\u001b[0m\u001b[0;34m(\u001b[0m\u001b[0mprompt_pig\u001b[0m\u001b[0;34m[\u001b[0m\u001b[0;34m'train'\u001b[0m\u001b[0;34m]\u001b[0m\u001b[0;34m[\u001b[0m\u001b[0;36m1\u001b[0m\u001b[0;34m]\u001b[0m\u001b[0;34m)\u001b[0m\u001b[0;34m\u001b[0m\u001b[0;34m\u001b[0m\u001b[0m\n\u001b[0m",
            "\u001b[0;31mNameError\u001b[0m: name 'prompt_pig' is not defined"
          ]
        }
      ],
      "source": [
        "def formatting_func(example):\n",
        "    return f'{example[\"prompt\"]}{response_template}{example[\"completion\"]}' + tokenizer.eos_token\n",
        "\n",
        "formatting_func(prompt_pig['train'][1])"
      ]
    },
    {
      "cell_type": "code",
      "execution_count": null,
      "id": "0c43bb9e",
      "metadata": {
        "colab": {
          "base_uri": "https://localhost:8080/",
          "height": 86,
          "referenced_widgets": [
            "a20fd776d3ca4278884b60c3c2300714",
            "8afb5a9a90914017b19b219f9ac45b87",
            "52bc43dd60aa4c5e9594c8fa5c1b9a2c",
            "d79b2b66313e4a60af975e3e12621ae4",
            "5bfcd259406d42ec86c762193654958f",
            "8b4eb8fe725949b4a53e05f6651e4b0f",
            "623a174d3b124dc995d88f1a319d98db",
            "f99f0674641e43daa61c3f674b6c8b42",
            "17afb452b2fd439f9e6ae7c644398767",
            "e8a0c98d827646c69d37c4a7b02a417c",
            "83db2d71b4254cdcb7dfae0954fb35ca"
          ]
        },
        "id": "0c43bb9e",
        "outputId": "780168b7-300e-461c-94ba-fe3b9e13a95a"
      },
      "outputs": [
        {
          "output_type": "display_data",
          "data": {
            "text/plain": [
              "Map:   0%|          | 0/576 [00:00<?, ? examples/s]"
            ],
            "application/vnd.jupyter.widget-view+json": {
              "version_major": 2,
              "version_minor": 0,
              "model_id": "a20fd776d3ca4278884b60c3c2300714"
            }
          },
          "metadata": {}
        },
        {
          "output_type": "stream",
          "name": "stdout",
          "text": [
            "{'input_ids': [1026, 373, 257, 2089, 4049, 319, 262, 636, 286, 262, 649, 5052, 13, 50296, 270, 1014, 355, 1014, 1497, 512, 24406, 4049, 1014, 319, 1014, 4555, 323, 1242, 15577, 286, 1014, 4555, 323, 304, 675, 323, 334, 67, 469, 33708, 13, 50256], 'attention_mask': [1, 1, 1, 1, 1, 1, 1, 1, 1, 1, 1, 1, 1, 1, 1, 1, 1, 1, 1, 1, 1, 1, 1, 1, 1, 1, 1, 1, 1, 1, 1, 1, 1, 1, 1, 1, 1, 1, 1, 1, 1, 1], 'labels': [1026, 373, 257, 2089, 4049, 319, 262, 636, 286, 262, 649, 5052, 13, 50296, 270, 1014, 355, 1014, 1497, 512, 24406, 4049, 1014, 319, 1014, 4555, 323, 1242, 15577, 286, 1014, 4555, 323, 304, 675, 323, 334, 67, 469, 33708, 13, 50256]}\n"
          ]
        }
      ],
      "source": [
        "def generate_and_tokenize_prompt(prompt, max_length=128, padding=True):\n",
        "    result = tokenizer(\n",
        "        formatting_func(prompt),\n",
        "        truncation=True,\n",
        "        max_length=max_length,\n",
        "        padding=\"max_length\" if padding else False,\n",
        "    )\n",
        "    result[\"labels\"] = result[\"input_ids\"].copy()\n",
        "    return result\n",
        "\n",
        "dataset = prompt_pig['train'].map(lambda v: generate_and_tokenize_prompt(v, padding=False))\n",
        "dataset = dataset.remove_columns(['prompt', 'completion'])\n",
        "print(dataset[0])"
      ]
    },
    {
      "cell_type": "code",
      "execution_count": null,
      "id": "811b0803",
      "metadata": {
        "colab": {
          "base_uri": "https://localhost:8080/",
          "height": 581
        },
        "id": "811b0803",
        "outputId": "6a5059be-12de-499c-ce7e-e1d0469b12b9"
      },
      "outputs": [
        {
          "output_type": "stream",
          "name": "stdout",
          "text": [
            "576\n"
          ]
        },
        {
          "output_type": "display_data",
          "data": {
            "text/plain": [
              "<Figure size 1000x600 with 1 Axes>"
            ],
            "image/png": "[encoded data removed]"
          },
          "metadata": {}
        }
      ],
      "source": [
        "import matplotlib.pyplot as plt\n",
        "\n",
        "def plot_data_lengths(tokenized_train_dataset):\n",
        "    lengths = [len(x['input_ids']) for x in tokenized_train_dataset]\n",
        "    print(len(lengths))\n",
        "\n",
        "    # Plotting the histogram\n",
        "    plt.figure(figsize=(10, 6))\n",
        "    plt.hist(lengths, bins=20, alpha=0.7, color='blue')\n",
        "    plt.xlabel('Length of input_ids')\n",
        "    plt.ylabel('Frequency')\n",
        "    plt.title('Distribution of Lengths of input_ids')\n",
        "    plt.show()\n",
        "\n",
        "plot_data_lengths(dataset)"
      ]
    },
    {
      "cell_type": "code",
      "execution_count": null,
      "id": "71156f39",
      "metadata": {
        "colab": {
          "base_uri": "https://localhost:8080/",
          "height": 81,
          "referenced_widgets": [
            "3990b76218734f3fb252e3e1c22b6f2c",
            "068fe214f3354c95a1768b135c61cfd4",
            "dacc65e69a144be38940b4441396c040",
            "ba3f4ab905c14e93bb7a4d2b974e3439",
            "165ac8a865354c2a9ff97ddad1209187",
            "efa21ee52d294b9e92e41e45cb63c734",
            "7ca51dbaeba4456f824d1c4bcea47c1d",
            "6860fc37a6194df0a0cf5c5c7e2f7000",
            "8770c8cff01a46daa407ffe7758888a0",
            "92fddb018aaf405fa38d2db73e33466e",
            "fa1e1fcb65f645418ded90347d2cb0b8",
            "663a18fe28744e39afcee85544dc43b3",
            "fb6360f31fbd45e28869ee43f5e22b61",
            "0f82ca9566834293b5e5e775c34e671c",
            "a548b99c845243f58257ef6402dd761e",
            "af7fc1bbc8a8485fa773f7575ee08acb",
            "64abb412c84b427db0945a6df617139f",
            "d328c7557c944b2cad01d68870699fde",
            "bd4693b353524e41ad6ef73b7f0ad9f8",
            "e0abcb4e61c04437b4f5a1a8f71586e8",
            "f048d024d3b642378527de0ae102167f",
            "cb64522e2c4c4427a0fa60d266320f2e"
          ]
        },
        "id": "71156f39",
        "outputId": "6bd393d6-526a-47ac-b0a1-982bd8c6f580"
      },
      "outputs": [
        {
          "output_type": "display_data",
          "data": {
            "text/plain": [
              "Map:   0%|          | 0/576 [00:00<?, ? examples/s]"
            ],
            "application/vnd.jupyter.widget-view+json": {
              "version_major": 2,
              "version_minor": 0,
              "model_id": "3990b76218734f3fb252e3e1c22b6f2c"
            }
          },
          "metadata": {}
        },
        {
          "output_type": "display_data",
          "data": {
            "text/plain": [
              "Map:   0%|          | 0/144 [00:00<?, ? examples/s]"
            ],
            "application/vnd.jupyter.widget-view+json": {
              "version_major": 2,
              "version_minor": 0,
              "model_id": "663a18fe28744e39afcee85544dc43b3"
            }
          },
          "metadata": {}
        }
      ],
      "source": [
        "max_length = 64\n",
        "tokenized_train_dataset = prompt_pig['train'].map(lambda v: generate_and_tokenize_prompt(v, max_length))\n",
        "tokenized_val_dataset = prompt_pig['test'].map(lambda v: generate_and_tokenize_prompt(v, max_length))"
      ]
    },
    {
      "cell_type": "code",
      "execution_count": null,
      "id": "13753530",
      "metadata": {
        "colab": {
          "base_uri": "https://localhost:8080/",
          "height": 52
        },
        "id": "13753530",
        "outputId": "256b60f3-a7e8-4b42-95bd-8252a2c89797"
      },
      "outputs": [
        {
          "output_type": "execute_result",
          "data": {
            "text/plain": [
              "'<|pad|><|pad|><|pad|><|pad|><|pad|><|pad|><|pad|><|pad|><|pad|><|pad|><|pad|><|pad|><|pad|><|pad|><|pad|><|pad|><|pad|><|pad|><|pad|><|pad|><|pad|><|pad|><|pad|><|pad|><|pad|><|pad|><|pad|><|pad|><|pad|><|pad|>The swan dive was far short of perfect.##[PIGL]##>ethay answay iveday asway arfay ortshay ofway erfectpay.<|endoftext|>'"
            ],
            "application/vnd.google.colaboratory.intrinsic+json": {
              "type": "string"
            }
          },
          "metadata": {},
          "execution_count": 20
        }
      ],
      "source": [
        "tokenizer.decode(tokenized_train_dataset[1]['input_ids'])"
      ]
    },
    {
      "cell_type": "markdown",
      "id": "4e82d8b0",
      "metadata": {
        "id": "4e82d8b0"
      },
      "source": [
        "## Model"
      ]
    },
    {
      "cell_type": "code",
      "execution_count": null,
      "id": "7df351eb",
      "metadata": {
        "colab": {
          "base_uri": "https://localhost:8080/",
          "height": 66,
          "referenced_widgets": [
            "29dc84908550499ab7f3407a2d9876d6",
            "ff5def51e7064c0989a6db9f124455f5",
            "2549da54370a4bce87ac825290ced194",
            "a7a10a7fd813442bb5f087ef81e9b4ee",
            "f533455b6dbd4346a6ec5a6a67e4be81",
            "8f6d3e5f87654dda8427fba6293071d9",
            "034b4ff249aa4a219fd649853c1ddbd9",
            "75015818d50847f4815e032b8a0b1c68",
            "09c1dfb22d89425790480869bfaca17a",
            "7f0e65fb7077422fb9e9a149cfb6dadd",
            "2bd42f3f12434f68a50f4c0c767d643b"
          ]
        },
        "id": "7df351eb",
        "outputId": "97f68454-d76b-413b-d620-d117cc9d3157"
      },
      "outputs": [
        {
          "output_type": "stream",
          "name": "stderr",
          "text": [
            "`low_cpu_mem_usage` was None, now default to True since model is quantized.\n"
          ]
        },
        {
          "output_type": "display_data",
          "data": {
            "text/plain": [
              "Loading checkpoint shards:   0%|          | 0/2 [00:00<?, ?it/s]"
            ],
            "application/vnd.jupyter.widget-view+json": {
              "version_major": 2,
              "version_minor": 0,
              "model_id": "29dc84908550499ab7f3407a2d9876d6"
            }
          },
          "metadata": {}
        }
      ],
      "source": [
        "import torch\n",
        "from transformers import AutoTokenizer, AutoModelForCausalLM, BitsAndBytesConfig\n",
        "\n",
        "bnb_config = BitsAndBytesConfig(\n",
        "    load_in_8bit=True,\n",
        ")\n",
        "\n",
        "model = AutoModelForCausalLM.from_pretrained(base_model_id, trust_remote_code=True, quantization_config=bnb_config)\n",
        "# no need\n",
        "# model.resize_token_embeddings(len(tokenizer))"
      ]
    },
    {
      "cell_type": "code",
      "execution_count": null,
      "id": "5d9ad190-7305-4fa5-be65-e6684c0f4c69",
      "metadata": {
        "colab": {
          "base_uri": "https://localhost:8080/"
        },
        "id": "5d9ad190-7305-4fa5-be65-e6684c0f4c69",
        "outputId": "2e823944-911a-49d8-ec87-aad13a7eeccd"
      },
      "outputs": [
        {
          "output_type": "execute_result",
          "data": {
            "text/plain": [
              "(Embedding(51200, 2560), 50297)"
            ]
          },
          "metadata": {},
          "execution_count": 22
        }
      ],
      "source": [
        "model.model.embed_tokens, len(tokenizer)"
      ]
    },
    {
      "cell_type": "code",
      "execution_count": null,
      "id": "642187c4-d763-4d1c-9d90-33e440f611b8",
      "metadata": {
        "colab": {
          "base_uri": "https://localhost:8080/"
        },
        "id": "642187c4-d763-4d1c-9d90-33e440f611b8",
        "outputId": "c7a555b2-dad7-4e9a-a619-1671177256bd"
      },
      "outputs": [
        {
          "output_type": "execute_result",
          "data": {
            "text/plain": [
              "PhiForCausalLM(\n",
              "  (model): PhiModel(\n",
              "    (embed_tokens): Embedding(51200, 2560)\n",
              "    (layers): ModuleList(\n",
              "      (0-31): 32 x PhiDecoderLayer(\n",
              "        (self_attn): PhiAttention(\n",
              "          (q_proj): Linear8bitLt(in_features=2560, out_features=2560, bias=True)\n",
              "          (k_proj): Linear8bitLt(in_features=2560, out_features=2560, bias=True)\n",
              "          (v_proj): Linear8bitLt(in_features=2560, out_features=2560, bias=True)\n",
              "          (dense): Linear8bitLt(in_features=2560, out_features=2560, bias=True)\n",
              "        )\n",
              "        (mlp): PhiMLP(\n",
              "          (activation_fn): NewGELUActivation()\n",
              "          (fc1): Linear8bitLt(in_features=2560, out_features=10240, bias=True)\n",
              "          (fc2): Linear8bitLt(in_features=10240, out_features=2560, bias=True)\n",
              "        )\n",
              "        (input_layernorm): LayerNorm((2560,), eps=1e-05, elementwise_affine=True)\n",
              "        (resid_dropout): Dropout(p=0.1, inplace=False)\n",
              "      )\n",
              "    )\n",
              "    (rotary_emb): PhiRotaryEmbedding()\n",
              "    (embed_dropout): Dropout(p=0.0, inplace=False)\n",
              "    (final_layernorm): LayerNorm((2560,), eps=1e-05, elementwise_affine=True)\n",
              "  )\n",
              "  (lm_head): Linear(in_features=2560, out_features=51200, bias=True)\n",
              ")"
            ]
          },
          "metadata": {},
          "execution_count": 23
        }
      ],
      "source": [
        "model"
      ]
    },
    {
      "cell_type": "code",
      "execution_count": null,
      "id": "072778a0",
      "metadata": {
        "id": "072778a0"
      },
      "outputs": [],
      "source": [
        "def print_trainable_parameters(model, verbose=False):\n",
        "    \"\"\"\n",
        "    Prints the number of trainable parameters in the model.\n",
        "    \"\"\"\n",
        "    trainable_params = 0\n",
        "    all_param = 0\n",
        "    for name, param in model.named_parameters():\n",
        "        all_param += param.numel()\n",
        "        if param.requires_grad:\n",
        "            if verbose:\n",
        "                print(name)\n",
        "            trainable_params += param.numel()\n",
        "    print(\n",
        "        f\"trainable params: {trainable_params} || all params: {all_param} || trainable%: {100 * trainable_params / all_param}\"\n",
        "    )"
      ]
    },
    {
      "cell_type": "code",
      "execution_count": null,
      "id": "6d2b9829-1507-4352-bfd8-3df2f8521507",
      "metadata": {
        "colab": {
          "base_uri": "https://localhost:8080/"
        },
        "id": "6d2b9829-1507-4352-bfd8-3df2f8521507",
        "outputId": "73e836c9-8faf-45fb-97ae-113990312635"
      },
      "outputs": [
        {
          "output_type": "stream",
          "name": "stdout",
          "text": [
            "model.embed_tokens.weight\n",
            "model.layers.0.input_layernorm.weight\n",
            "model.layers.0.input_layernorm.bias\n",
            "model.layers.1.input_layernorm.weight\n",
            "model.layers.1.input_layernorm.bias\n",
            "model.layers.2.input_layernorm.weight\n",
            "model.layers.2.input_layernorm.bias\n",
            "model.layers.3.input_layernorm.weight\n",
            "model.layers.3.input_layernorm.bias\n",
            "model.layers.4.input_layernorm.weight\n",
            "model.layers.4.input_layernorm.bias\n",
            "model.layers.5.input_layernorm.weight\n",
            "model.layers.5.input_layernorm.bias\n",
            "model.layers.6.input_layernorm.weight\n",
            "model.layers.6.input_layernorm.bias\n",
            "model.layers.7.input_layernorm.weight\n",
            "model.layers.7.input_layernorm.bias\n",
            "model.layers.8.input_layernorm.weight\n",
            "model.layers.8.input_layernorm.bias\n",
            "model.layers.9.input_layernorm.weight\n",
            "model.layers.9.input_layernorm.bias\n",
            "model.layers.10.input_layernorm.weight\n",
            "model.layers.10.input_layernorm.bias\n",
            "model.layers.11.input_layernorm.weight\n",
            "model.layers.11.input_layernorm.bias\n",
            "model.layers.12.input_layernorm.weight\n",
            "model.layers.12.input_layernorm.bias\n",
            "model.layers.13.input_layernorm.weight\n",
            "model.layers.13.input_layernorm.bias\n",
            "model.layers.14.input_layernorm.weight\n",
            "model.layers.14.input_layernorm.bias\n",
            "model.layers.15.input_layernorm.weight\n",
            "model.layers.15.input_layernorm.bias\n",
            "model.layers.16.input_layernorm.weight\n",
            "model.layers.16.input_layernorm.bias\n",
            "model.layers.17.input_layernorm.weight\n",
            "model.layers.17.input_layernorm.bias\n",
            "model.layers.18.input_layernorm.weight\n",
            "model.layers.18.input_layernorm.bias\n",
            "model.layers.19.input_layernorm.weight\n",
            "model.layers.19.input_layernorm.bias\n",
            "model.layers.20.input_layernorm.weight\n",
            "model.layers.20.input_layernorm.bias\n",
            "model.layers.21.input_layernorm.weight\n",
            "model.layers.21.input_layernorm.bias\n",
            "model.layers.22.input_layernorm.weight\n",
            "model.layers.22.input_layernorm.bias\n",
            "model.layers.23.input_layernorm.weight\n",
            "model.layers.23.input_layernorm.bias\n",
            "model.layers.24.input_layernorm.weight\n",
            "model.layers.24.input_layernorm.bias\n",
            "model.layers.25.input_layernorm.weight\n",
            "model.layers.25.input_layernorm.bias\n",
            "model.layers.26.input_layernorm.weight\n",
            "model.layers.26.input_layernorm.bias\n",
            "model.layers.27.input_layernorm.weight\n",
            "model.layers.27.input_layernorm.bias\n",
            "model.layers.28.input_layernorm.weight\n",
            "model.layers.28.input_layernorm.bias\n",
            "model.layers.29.input_layernorm.weight\n",
            "model.layers.29.input_layernorm.bias\n",
            "model.layers.30.input_layernorm.weight\n",
            "model.layers.30.input_layernorm.bias\n",
            "model.layers.31.input_layernorm.weight\n",
            "model.layers.31.input_layernorm.bias\n",
            "model.final_layernorm.weight\n",
            "model.final_layernorm.bias\n",
            "lm_head.weight\n",
            "lm_head.bias\n",
            "trainable params: 262364160 || all params: 2779683840 || trainable%: 9.438633136061977\n"
          ]
        }
      ],
      "source": [
        "print_trainable_parameters(model, verbose=True)"
      ]
    },
    {
      "cell_type": "markdown",
      "id": "b98bf6ec",
      "metadata": {
        "id": "b98bf6ec"
      },
      "source": [
        "### LoRA"
      ]
    },
    {
      "cell_type": "code",
      "execution_count": null,
      "id": "8fd505b7",
      "metadata": {
        "id": "8fd505b7"
      },
      "outputs": [],
      "source": [
        "from peft import prepare_model_for_kbit_training\n",
        "\n",
        "model = prepare_model_for_kbit_training(model)"
      ]
    },
    {
      "cell_type": "code",
      "execution_count": null,
      "id": "2ae5103c",
      "metadata": {
        "colab": {
          "base_uri": "https://localhost:8080/"
        },
        "id": "2ae5103c",
        "outputId": "fd9061e8-cf01-4d42-fe69-aee9c597afb2"
      },
      "outputs": [
        {
          "output_type": "stream",
          "name": "stdout",
          "text": [
            "trainable params: 146,519,040 || all params: 2,926,202,880 || trainable%: 5.0071\n"
          ]
        }
      ],
      "source": [
        "from peft import LoraConfig, get_peft_model\n",
        "\n",
        "config = LoraConfig(\n",
        "    r=16,\n",
        "    lora_alpha=32,\n",
        "    target_modules=[\n",
        "        \"q_proj\", \"k_proj\", \"v_proj\", \"dense\"\n",
        "        \"fc1\", \"fc2\",\n",
        "        \"lm_head\",\n",
        "    ],\n",
        "    modules_to_save=['layernorm', 'embed_tokens'],\n",
        "    bias=\"none\",\n",
        "    lora_dropout=0.05,  # Conventional\n",
        "    task_type=\"CAUSAL_LM\",\n",
        ")\n",
        "\n",
        "peft_model = get_peft_model(model, config)\n",
        "peft_model.print_trainable_parameters()"
      ]
    },
    {
      "cell_type": "code",
      "execution_count": null,
      "id": "72b5abd5-5af2-4e3e-b23f-386fff972db9",
      "metadata": {
        "colab": {
          "base_uri": "https://localhost:8080/"
        },
        "id": "72b5abd5-5af2-4e3e-b23f-386fff972db9",
        "outputId": "c7aa6d72-7843-4fa4-a7f9-c2417fae4c71"
      },
      "outputs": [
        {
          "output_type": "stream",
          "name": "stdout",
          "text": [
            "base_model.model.model.embed_tokens.modules_to_save.default.weight\n",
            "base_model.model.model.layers.0.self_attn.q_proj.lora_A.default.weight\n",
            "base_model.model.model.layers.0.self_attn.q_proj.lora_B.default.weight\n",
            "base_model.model.model.layers.0.self_attn.k_proj.lora_A.default.weight\n",
            "base_model.model.model.layers.0.self_attn.k_proj.lora_B.default.weight\n",
            "base_model.model.model.layers.0.self_attn.v_proj.lora_A.default.weight\n",
            "base_model.model.model.layers.0.self_attn.v_proj.lora_B.default.weight\n",
            "base_model.model.model.layers.0.mlp.fc2.lora_A.default.weight\n",
            "base_model.model.model.layers.0.mlp.fc2.lora_B.default.weight\n",
            "base_model.model.model.layers.0.input_layernorm.modules_to_save.default.weight\n",
            "base_model.model.model.layers.0.input_layernorm.modules_to_save.default.bias\n",
            "base_model.model.model.layers.1.self_attn.q_proj.lora_A.default.weight\n",
            "base_model.model.model.layers.1.self_attn.q_proj.lora_B.default.weight\n",
            "base_model.model.model.layers.1.self_attn.k_proj.lora_A.default.weight\n",
            "base_model.model.model.layers.1.self_attn.k_proj.lora_B.default.weight\n",
            "base_model.model.model.layers.1.self_attn.v_proj.lora_A.default.weight\n",
            "base_model.model.model.layers.1.self_attn.v_proj.lora_B.default.weight\n",
            "base_model.model.model.layers.1.mlp.fc2.lora_A.default.weight\n",
            "base_model.model.model.layers.1.mlp.fc2.lora_B.default.weight\n",
            "base_model.model.model.layers.1.input_layernorm.modules_to_save.default.weight\n",
            "base_model.model.model.layers.1.input_layernorm.modules_to_save.default.bias\n",
            "base_model.model.model.layers.2.self_attn.q_proj.lora_A.default.weight\n",
            "base_model.model.model.layers.2.self_attn.q_proj.lora_B.default.weight\n",
            "base_model.model.model.layers.2.self_attn.k_proj.lora_A.default.weight\n",
            "base_model.model.model.layers.2.self_attn.k_proj.lora_B.default.weight\n",
            "base_model.model.model.layers.2.self_attn.v_proj.lora_A.default.weight\n",
            "base_model.model.model.layers.2.self_attn.v_proj.lora_B.default.weight\n",
            "base_model.model.model.layers.2.mlp.fc2.lora_A.default.weight\n",
            "base_model.model.model.layers.2.mlp.fc2.lora_B.default.weight\n",
            "base_model.model.model.layers.2.input_layernorm.modules_to_save.default.weight\n",
            "base_model.model.model.layers.2.input_layernorm.modules_to_save.default.bias\n",
            "base_model.model.model.layers.3.self_attn.q_proj.lora_A.default.weight\n",
            "base_model.model.model.layers.3.self_attn.q_proj.lora_B.default.weight\n",
            "base_model.model.model.layers.3.self_attn.k_proj.lora_A.default.weight\n",
            "base_model.model.model.layers.3.self_attn.k_proj.lora_B.default.weight\n",
            "base_model.model.model.layers.3.self_attn.v_proj.lora_A.default.weight\n",
            "base_model.model.model.layers.3.self_attn.v_proj.lora_B.default.weight\n",
            "base_model.model.model.layers.3.mlp.fc2.lora_A.default.weight\n",
            "base_model.model.model.layers.3.mlp.fc2.lora_B.default.weight\n",
            "base_model.model.model.layers.3.input_layernorm.modules_to_save.default.weight\n",
            "base_model.model.model.layers.3.input_layernorm.modules_to_save.default.bias\n",
            "base_model.model.model.layers.4.self_attn.q_proj.lora_A.default.weight\n",
            "base_model.model.model.layers.4.self_attn.q_proj.lora_B.default.weight\n",
            "base_model.model.model.layers.4.self_attn.k_proj.lora_A.default.weight\n",
            "base_model.model.model.layers.4.self_attn.k_proj.lora_B.default.weight\n",
            "base_model.model.model.layers.4.self_attn.v_proj.lora_A.default.weight\n",
            "base_model.model.model.layers.4.self_attn.v_proj.lora_B.default.weight\n",
            "base_model.model.model.layers.4.mlp.fc2.lora_A.default.weight\n",
            "base_model.model.model.layers.4.mlp.fc2.lora_B.default.weight\n",
            "base_model.model.model.layers.4.input_layernorm.modules_to_save.default.weight\n",
            "base_model.model.model.layers.4.input_layernorm.modules_to_save.default.bias\n",
            "base_model.model.model.layers.5.self_attn.q_proj.lora_A.default.weight\n",
            "base_model.model.model.layers.5.self_attn.q_proj.lora_B.default.weight\n",
            "base_model.model.model.layers.5.self_attn.k_proj.lora_A.default.weight\n",
            "base_model.model.model.layers.5.self_attn.k_proj.lora_B.default.weight\n",
            "base_model.model.model.layers.5.self_attn.v_proj.lora_A.default.weight\n",
            "base_model.model.model.layers.5.self_attn.v_proj.lora_B.default.weight\n",
            "base_model.model.model.layers.5.mlp.fc2.lora_A.default.weight\n",
            "base_model.model.model.layers.5.mlp.fc2.lora_B.default.weight\n",
            "base_model.model.model.layers.5.input_layernorm.modules_to_save.default.weight\n",
            "base_model.model.model.layers.5.input_layernorm.modules_to_save.default.bias\n",
            "base_model.model.model.layers.6.self_attn.q_proj.lora_A.default.weight\n",
            "base_model.model.model.layers.6.self_attn.q_proj.lora_B.default.weight\n",
            "base_model.model.model.layers.6.self_attn.k_proj.lora_A.default.weight\n",
            "base_model.model.model.layers.6.self_attn.k_proj.lora_B.default.weight\n",
            "base_model.model.model.layers.6.self_attn.v_proj.lora_A.default.weight\n",
            "base_model.model.model.layers.6.self_attn.v_proj.lora_B.default.weight\n",
            "base_model.model.model.layers.6.mlp.fc2.lora_A.default.weight\n",
            "base_model.model.model.layers.6.mlp.fc2.lora_B.default.weight\n",
            "base_model.model.model.layers.6.input_layernorm.modules_to_save.default.weight\n",
            "base_model.model.model.layers.6.input_layernorm.modules_to_save.default.bias\n",
            "base_model.model.model.layers.7.self_attn.q_proj.lora_A.default.weight\n",
            "base_model.model.model.layers.7.self_attn.q_proj.lora_B.default.weight\n",
            "base_model.model.model.layers.7.self_attn.k_proj.lora_A.default.weight\n",
            "base_model.model.model.layers.7.self_attn.k_proj.lora_B.default.weight\n",
            "base_model.model.model.layers.7.self_attn.v_proj.lora_A.default.weight\n",
            "base_model.model.model.layers.7.self_attn.v_proj.lora_B.default.weight\n",
            "base_model.model.model.layers.7.mlp.fc2.lora_A.default.weight\n",
            "base_model.model.model.layers.7.mlp.fc2.lora_B.default.weight\n",
            "base_model.model.model.layers.7.input_layernorm.modules_to_save.default.weight\n",
            "base_model.model.model.layers.7.input_layernorm.modules_to_save.default.bias\n",
            "base_model.model.model.layers.8.self_attn.q_proj.lora_A.default.weight\n",
            "base_model.model.model.layers.8.self_attn.q_proj.lora_B.default.weight\n",
            "base_model.model.model.layers.8.self_attn.k_proj.lora_A.default.weight\n",
            "base_model.model.model.layers.8.self_attn.k_proj.lora_B.default.weight\n",
            "base_model.model.model.layers.8.self_attn.v_proj.lora_A.default.weight\n",
            "base_model.model.model.layers.8.self_attn.v_proj.lora_B.default.weight\n",
            "base_model.model.model.layers.8.mlp.fc2.lora_A.default.weight\n",
            "base_model.model.model.layers.8.mlp.fc2.lora_B.default.weight\n",
            "base_model.model.model.layers.8.input_layernorm.modules_to_save.default.weight\n",
            "base_model.model.model.layers.8.input_layernorm.modules_to_save.default.bias\n",
            "base_model.model.model.layers.9.self_attn.q_proj.lora_A.default.weight\n",
            "base_model.model.model.layers.9.self_attn.q_proj.lora_B.default.weight\n",
            "base_model.model.model.layers.9.self_attn.k_proj.lora_A.default.weight\n",
            "base_model.model.model.layers.9.self_attn.k_proj.lora_B.default.weight\n",
            "base_model.model.model.layers.9.self_attn.v_proj.lora_A.default.weight\n",
            "base_model.model.model.layers.9.self_attn.v_proj.lora_B.default.weight\n",
            "base_model.model.model.layers.9.mlp.fc2.lora_A.default.weight\n",
            "base_model.model.model.layers.9.mlp.fc2.lora_B.default.weight\n",
            "base_model.model.model.layers.9.input_layernorm.modules_to_save.default.weight\n",
            "base_model.model.model.layers.9.input_layernorm.modules_to_save.default.bias\n",
            "base_model.model.model.layers.10.self_attn.q_proj.lora_A.default.weight\n",
            "base_model.model.model.layers.10.self_attn.q_proj.lora_B.default.weight\n",
            "base_model.model.model.layers.10.self_attn.k_proj.lora_A.default.weight\n",
            "base_model.model.model.layers.10.self_attn.k_proj.lora_B.default.weight\n",
            "base_model.model.model.layers.10.self_attn.v_proj.lora_A.default.weight\n",
            "base_model.model.model.layers.10.self_attn.v_proj.lora_B.default.weight\n",
            "base_model.model.model.layers.10.mlp.fc2.lora_A.default.weight\n",
            "base_model.model.model.layers.10.mlp.fc2.lora_B.default.weight\n",
            "base_model.model.model.layers.10.input_layernorm.modules_to_save.default.weight\n",
            "base_model.model.model.layers.10.input_layernorm.modules_to_save.default.bias\n",
            "base_model.model.model.layers.11.self_attn.q_proj.lora_A.default.weight\n",
            "base_model.model.model.layers.11.self_attn.q_proj.lora_B.default.weight\n",
            "base_model.model.model.layers.11.self_attn.k_proj.lora_A.default.weight\n",
            "base_model.model.model.layers.11.self_attn.k_proj.lora_B.default.weight\n",
            "base_model.model.model.layers.11.self_attn.v_proj.lora_A.default.weight\n",
            "base_model.model.model.layers.11.self_attn.v_proj.lora_B.default.weight\n",
            "base_model.model.model.layers.11.mlp.fc2.lora_A.default.weight\n",
            "base_model.model.model.layers.11.mlp.fc2.lora_B.default.weight\n",
            "base_model.model.model.layers.11.input_layernorm.modules_to_save.default.weight\n",
            "base_model.model.model.layers.11.input_layernorm.modules_to_save.default.bias\n",
            "base_model.model.model.layers.12.self_attn.q_proj.lora_A.default.weight\n",
            "base_model.model.model.layers.12.self_attn.q_proj.lora_B.default.weight\n",
            "base_model.model.model.layers.12.self_attn.k_proj.lora_A.default.weight\n",
            "base_model.model.model.layers.12.self_attn.k_proj.lora_B.default.weight\n",
            "base_model.model.model.layers.12.self_attn.v_proj.lora_A.default.weight\n",
            "base_model.model.model.layers.12.self_attn.v_proj.lora_B.default.weight\n",
            "base_model.model.model.layers.12.mlp.fc2.lora_A.default.weight\n",
            "base_model.model.model.layers.12.mlp.fc2.lora_B.default.weight\n",
            "base_model.model.model.layers.12.input_layernorm.modules_to_save.default.weight\n",
            "base_model.model.model.layers.12.input_layernorm.modules_to_save.default.bias\n",
            "base_model.model.model.layers.13.self_attn.q_proj.lora_A.default.weight\n",
            "base_model.model.model.layers.13.self_attn.q_proj.lora_B.default.weight\n",
            "base_model.model.model.layers.13.self_attn.k_proj.lora_A.default.weight\n",
            "base_model.model.model.layers.13.self_attn.k_proj.lora_B.default.weight\n",
            "base_model.model.model.layers.13.self_attn.v_proj.lora_A.default.weight\n",
            "base_model.model.model.layers.13.self_attn.v_proj.lora_B.default.weight\n",
            "base_model.model.model.layers.13.mlp.fc2.lora_A.default.weight\n",
            "base_model.model.model.layers.13.mlp.fc2.lora_B.default.weight\n",
            "base_model.model.model.layers.13.input_layernorm.modules_to_save.default.weight\n",
            "base_model.model.model.layers.13.input_layernorm.modules_to_save.default.bias\n",
            "base_model.model.model.layers.14.self_attn.q_proj.lora_A.default.weight\n",
            "base_model.model.model.layers.14.self_attn.q_proj.lora_B.default.weight\n",
            "base_model.model.model.layers.14.self_attn.k_proj.lora_A.default.weight\n",
            "base_model.model.model.layers.14.self_attn.k_proj.lora_B.default.weight\n",
            "base_model.model.model.layers.14.self_attn.v_proj.lora_A.default.weight\n",
            "base_model.model.model.layers.14.self_attn.v_proj.lora_B.default.weight\n",
            "base_model.model.model.layers.14.mlp.fc2.lora_A.default.weight\n",
            "base_model.model.model.layers.14.mlp.fc2.lora_B.default.weight\n",
            "base_model.model.model.layers.14.input_layernorm.modules_to_save.default.weight\n",
            "base_model.model.model.layers.14.input_layernorm.modules_to_save.default.bias\n",
            "base_model.model.model.layers.15.self_attn.q_proj.lora_A.default.weight\n",
            "base_model.model.model.layers.15.self_attn.q_proj.lora_B.default.weight\n",
            "base_model.model.model.layers.15.self_attn.k_proj.lora_A.default.weight\n",
            "base_model.model.model.layers.15.self_attn.k_proj.lora_B.default.weight\n",
            "base_model.model.model.layers.15.self_attn.v_proj.lora_A.default.weight\n",
            "base_model.model.model.layers.15.self_attn.v_proj.lora_B.default.weight\n",
            "base_model.model.model.layers.15.mlp.fc2.lora_A.default.weight\n",
            "base_model.model.model.layers.15.mlp.fc2.lora_B.default.weight\n",
            "base_model.model.model.layers.15.input_layernorm.modules_to_save.default.weight\n",
            "base_model.model.model.layers.15.input_layernorm.modules_to_save.default.bias\n",
            "base_model.model.model.layers.16.self_attn.q_proj.lora_A.default.weight\n",
            "base_model.model.model.layers.16.self_attn.q_proj.lora_B.default.weight\n",
            "base_model.model.model.layers.16.self_attn.k_proj.lora_A.default.weight\n",
            "base_model.model.model.layers.16.self_attn.k_proj.lora_B.default.weight\n",
            "base_model.model.model.layers.16.self_attn.v_proj.lora_A.default.weight\n",
            "base_model.model.model.layers.16.self_attn.v_proj.lora_B.default.weight\n",
            "base_model.model.model.layers.16.mlp.fc2.lora_A.default.weight\n",
            "base_model.model.model.layers.16.mlp.fc2.lora_B.default.weight\n",
            "base_model.model.model.layers.16.input_layernorm.modules_to_save.default.weight\n",
            "base_model.model.model.layers.16.input_layernorm.modules_to_save.default.bias\n",
            "base_model.model.model.layers.17.self_attn.q_proj.lora_A.default.weight\n",
            "base_model.model.model.layers.17.self_attn.q_proj.lora_B.default.weight\n",
            "base_model.model.model.layers.17.self_attn.k_proj.lora_A.default.weight\n",
            "base_model.model.model.layers.17.self_attn.k_proj.lora_B.default.weight\n",
            "base_model.model.model.layers.17.self_attn.v_proj.lora_A.default.weight\n",
            "base_model.model.model.layers.17.self_attn.v_proj.lora_B.default.weight\n",
            "base_model.model.model.layers.17.mlp.fc2.lora_A.default.weight\n",
            "base_model.model.model.layers.17.mlp.fc2.lora_B.default.weight\n",
            "base_model.model.model.layers.17.input_layernorm.modules_to_save.default.weight\n",
            "base_model.model.model.layers.17.input_layernorm.modules_to_save.default.bias\n",
            "base_model.model.model.layers.18.self_attn.q_proj.lora_A.default.weight\n",
            "base_model.model.model.layers.18.self_attn.q_proj.lora_B.default.weight\n",
            "base_model.model.model.layers.18.self_attn.k_proj.lora_A.default.weight\n",
            "base_model.model.model.layers.18.self_attn.k_proj.lora_B.default.weight\n",
            "base_model.model.model.layers.18.self_attn.v_proj.lora_A.default.weight\n",
            "base_model.model.model.layers.18.self_attn.v_proj.lora_B.default.weight\n",
            "base_model.model.model.layers.18.mlp.fc2.lora_A.default.weight\n",
            "base_model.model.model.layers.18.mlp.fc2.lora_B.default.weight\n",
            "base_model.model.model.layers.18.input_layernorm.modules_to_save.default.weight\n",
            "base_model.model.model.layers.18.input_layernorm.modules_to_save.default.bias\n",
            "base_model.model.model.layers.19.self_attn.q_proj.lora_A.default.weight\n",
            "base_model.model.model.layers.19.self_attn.q_proj.lora_B.default.weight\n",
            "base_model.model.model.layers.19.self_attn.k_proj.lora_A.default.weight\n",
            "base_model.model.model.layers.19.self_attn.k_proj.lora_B.default.weight\n",
            "base_model.model.model.layers.19.self_attn.v_proj.lora_A.default.weight\n",
            "base_model.model.model.layers.19.self_attn.v_proj.lora_B.default.weight\n",
            "base_model.model.model.layers.19.mlp.fc2.lora_A.default.weight\n",
            "base_model.model.model.layers.19.mlp.fc2.lora_B.default.weight\n",
            "base_model.model.model.layers.19.input_layernorm.modules_to_save.default.weight\n",
            "base_model.model.model.layers.19.input_layernorm.modules_to_save.default.bias\n",
            "base_model.model.model.layers.20.self_attn.q_proj.lora_A.default.weight\n",
            "base_model.model.model.layers.20.self_attn.q_proj.lora_B.default.weight\n",
            "base_model.model.model.layers.20.self_attn.k_proj.lora_A.default.weight\n",
            "base_model.model.model.layers.20.self_attn.k_proj.lora_B.default.weight\n",
            "base_model.model.model.layers.20.self_attn.v_proj.lora_A.default.weight\n",
            "base_model.model.model.layers.20.self_attn.v_proj.lora_B.default.weight\n",
            "base_model.model.model.layers.20.mlp.fc2.lora_A.default.weight\n",
            "base_model.model.model.layers.20.mlp.fc2.lora_B.default.weight\n",
            "base_model.model.model.layers.20.input_layernorm.modules_to_save.default.weight\n",
            "base_model.model.model.layers.20.input_layernorm.modules_to_save.default.bias\n",
            "base_model.model.model.layers.21.self_attn.q_proj.lora_A.default.weight\n",
            "base_model.model.model.layers.21.self_attn.q_proj.lora_B.default.weight\n",
            "base_model.model.model.layers.21.self_attn.k_proj.lora_A.default.weight\n",
            "base_model.model.model.layers.21.self_attn.k_proj.lora_B.default.weight\n",
            "base_model.model.model.layers.21.self_attn.v_proj.lora_A.default.weight\n",
            "base_model.model.model.layers.21.self_attn.v_proj.lora_B.default.weight\n",
            "base_model.model.model.layers.21.mlp.fc2.lora_A.default.weight\n",
            "base_model.model.model.layers.21.mlp.fc2.lora_B.default.weight\n",
            "base_model.model.model.layers.21.input_layernorm.modules_to_save.default.weight\n",
            "base_model.model.model.layers.21.input_layernorm.modules_to_save.default.bias\n",
            "base_model.model.model.layers.22.self_attn.q_proj.lora_A.default.weight\n",
            "base_model.model.model.layers.22.self_attn.q_proj.lora_B.default.weight\n",
            "base_model.model.model.layers.22.self_attn.k_proj.lora_A.default.weight\n",
            "base_model.model.model.layers.22.self_attn.k_proj.lora_B.default.weight\n",
            "base_model.model.model.layers.22.self_attn.v_proj.lora_A.default.weight\n",
            "base_model.model.model.layers.22.self_attn.v_proj.lora_B.default.weight\n",
            "base_model.model.model.layers.22.mlp.fc2.lora_A.default.weight\n",
            "base_model.model.model.layers.22.mlp.fc2.lora_B.default.weight\n",
            "base_model.model.model.layers.22.input_layernorm.modules_to_save.default.weight\n",
            "base_model.model.model.layers.22.input_layernorm.modules_to_save.default.bias\n",
            "base_model.model.model.layers.23.self_attn.q_proj.lora_A.default.weight\n",
            "base_model.model.model.layers.23.self_attn.q_proj.lora_B.default.weight\n",
            "base_model.model.model.layers.23.self_attn.k_proj.lora_A.default.weight\n",
            "base_model.model.model.layers.23.self_attn.k_proj.lora_B.default.weight\n",
            "base_model.model.model.layers.23.self_attn.v_proj.lora_A.default.weight\n",
            "base_model.model.model.layers.23.self_attn.v_proj.lora_B.default.weight\n",
            "base_model.model.model.layers.23.mlp.fc2.lora_A.default.weight\n",
            "base_model.model.model.layers.23.mlp.fc2.lora_B.default.weight\n",
            "base_model.model.model.layers.23.input_layernorm.modules_to_save.default.weight\n",
            "base_model.model.model.layers.23.input_layernorm.modules_to_save.default.bias\n",
            "base_model.model.model.layers.24.self_attn.q_proj.lora_A.default.weight\n",
            "base_model.model.model.layers.24.self_attn.q_proj.lora_B.default.weight\n",
            "base_model.model.model.layers.24.self_attn.k_proj.lora_A.default.weight\n",
            "base_model.model.model.layers.24.self_attn.k_proj.lora_B.default.weight\n",
            "base_model.model.model.layers.24.self_attn.v_proj.lora_A.default.weight\n",
            "base_model.model.model.layers.24.self_attn.v_proj.lora_B.default.weight\n",
            "base_model.model.model.layers.24.mlp.fc2.lora_A.default.weight\n",
            "base_model.model.model.layers.24.mlp.fc2.lora_B.default.weight\n",
            "base_model.model.model.layers.24.input_layernorm.modules_to_save.default.weight\n",
            "base_model.model.model.layers.24.input_layernorm.modules_to_save.default.bias\n",
            "base_model.model.model.layers.25.self_attn.q_proj.lora_A.default.weight\n",
            "base_model.model.model.layers.25.self_attn.q_proj.lora_B.default.weight\n",
            "base_model.model.model.layers.25.self_attn.k_proj.lora_A.default.weight\n",
            "base_model.model.model.layers.25.self_attn.k_proj.lora_B.default.weight\n",
            "base_model.model.model.layers.25.self_attn.v_proj.lora_A.default.weight\n",
            "base_model.model.model.layers.25.self_attn.v_proj.lora_B.default.weight\n",
            "base_model.model.model.layers.25.mlp.fc2.lora_A.default.weight\n",
            "base_model.model.model.layers.25.mlp.fc2.lora_B.default.weight\n",
            "base_model.model.model.layers.25.input_layernorm.modules_to_save.default.weight\n",
            "base_model.model.model.layers.25.input_layernorm.modules_to_save.default.bias\n",
            "base_model.model.model.layers.26.self_attn.q_proj.lora_A.default.weight\n",
            "base_model.model.model.layers.26.self_attn.q_proj.lora_B.default.weight\n",
            "base_model.model.model.layers.26.self_attn.k_proj.lora_A.default.weight\n",
            "base_model.model.model.layers.26.self_attn.k_proj.lora_B.default.weight\n",
            "base_model.model.model.layers.26.self_attn.v_proj.lora_A.default.weight\n",
            "base_model.model.model.layers.26.self_attn.v_proj.lora_B.default.weight\n",
            "base_model.model.model.layers.26.mlp.fc2.lora_A.default.weight\n",
            "base_model.model.model.layers.26.mlp.fc2.lora_B.default.weight\n",
            "base_model.model.model.layers.26.input_layernorm.modules_to_save.default.weight\n",
            "base_model.model.model.layers.26.input_layernorm.modules_to_save.default.bias\n",
            "base_model.model.model.layers.27.self_attn.q_proj.lora_A.default.weight\n",
            "base_model.model.model.layers.27.self_attn.q_proj.lora_B.default.weight\n",
            "base_model.model.model.layers.27.self_attn.k_proj.lora_A.default.weight\n",
            "base_model.model.model.layers.27.self_attn.k_proj.lora_B.default.weight\n",
            "base_model.model.model.layers.27.self_attn.v_proj.lora_A.default.weight\n",
            "base_model.model.model.layers.27.self_attn.v_proj.lora_B.default.weight\n",
            "base_model.model.model.layers.27.mlp.fc2.lora_A.default.weight\n",
            "base_model.model.model.layers.27.mlp.fc2.lora_B.default.weight\n",
            "base_model.model.model.layers.27.input_layernorm.modules_to_save.default.weight\n",
            "base_model.model.model.layers.27.input_layernorm.modules_to_save.default.bias\n",
            "base_model.model.model.layers.28.self_attn.q_proj.lora_A.default.weight\n",
            "base_model.model.model.layers.28.self_attn.q_proj.lora_B.default.weight\n",
            "base_model.model.model.layers.28.self_attn.k_proj.lora_A.default.weight\n",
            "base_model.model.model.layers.28.self_attn.k_proj.lora_B.default.weight\n",
            "base_model.model.model.layers.28.self_attn.v_proj.lora_A.default.weight\n",
            "base_model.model.model.layers.28.self_attn.v_proj.lora_B.default.weight\n",
            "base_model.model.model.layers.28.mlp.fc2.lora_A.default.weight\n",
            "base_model.model.model.layers.28.mlp.fc2.lora_B.default.weight\n",
            "base_model.model.model.layers.28.input_layernorm.modules_to_save.default.weight\n",
            "base_model.model.model.layers.28.input_layernorm.modules_to_save.default.bias\n",
            "base_model.model.model.layers.29.self_attn.q_proj.lora_A.default.weight\n",
            "base_model.model.model.layers.29.self_attn.q_proj.lora_B.default.weight\n",
            "base_model.model.model.layers.29.self_attn.k_proj.lora_A.default.weight\n",
            "base_model.model.model.layers.29.self_attn.k_proj.lora_B.default.weight\n",
            "base_model.model.model.layers.29.self_attn.v_proj.lora_A.default.weight\n",
            "base_model.model.model.layers.29.self_attn.v_proj.lora_B.default.weight\n",
            "base_model.model.model.layers.29.mlp.fc2.lora_A.default.weight\n",
            "base_model.model.model.layers.29.mlp.fc2.lora_B.default.weight\n",
            "base_model.model.model.layers.29.input_layernorm.modules_to_save.default.weight\n",
            "base_model.model.model.layers.29.input_layernorm.modules_to_save.default.bias\n",
            "base_model.model.model.layers.30.self_attn.q_proj.lora_A.default.weight\n",
            "base_model.model.model.layers.30.self_attn.q_proj.lora_B.default.weight\n",
            "base_model.model.model.layers.30.self_attn.k_proj.lora_A.default.weight\n",
            "base_model.model.model.layers.30.self_attn.k_proj.lora_B.default.weight\n",
            "base_model.model.model.layers.30.self_attn.v_proj.lora_A.default.weight\n",
            "base_model.model.model.layers.30.self_attn.v_proj.lora_B.default.weight\n",
            "base_model.model.model.layers.30.mlp.fc2.lora_A.default.weight\n",
            "base_model.model.model.layers.30.mlp.fc2.lora_B.default.weight\n",
            "base_model.model.model.layers.30.input_layernorm.modules_to_save.default.weight\n",
            "base_model.model.model.layers.30.input_layernorm.modules_to_save.default.bias\n",
            "base_model.model.model.layers.31.self_attn.q_proj.lora_A.default.weight\n",
            "base_model.model.model.layers.31.self_attn.q_proj.lora_B.default.weight\n",
            "base_model.model.model.layers.31.self_attn.k_proj.lora_A.default.weight\n",
            "base_model.model.model.layers.31.self_attn.k_proj.lora_B.default.weight\n",
            "base_model.model.model.layers.31.self_attn.v_proj.lora_A.default.weight\n",
            "base_model.model.model.layers.31.self_attn.v_proj.lora_B.default.weight\n",
            "base_model.model.model.layers.31.mlp.fc2.lora_A.default.weight\n",
            "base_model.model.model.layers.31.mlp.fc2.lora_B.default.weight\n",
            "base_model.model.model.layers.31.input_layernorm.modules_to_save.default.weight\n",
            "base_model.model.model.layers.31.input_layernorm.modules_to_save.default.bias\n",
            "base_model.model.model.final_layernorm.modules_to_save.default.weight\n",
            "base_model.model.model.final_layernorm.modules_to_save.default.bias\n",
            "base_model.model.lm_head.lora_A.default.weight\n",
            "base_model.model.lm_head.lora_B.default.weight\n",
            "trainable params: 146519040 || all params: 2926202880 || trainable%: 5.007138807819095\n"
          ]
        }
      ],
      "source": [
        "print_trainable_parameters(peft_model, verbose=True)"
      ]
    },
    {
      "cell_type": "code",
      "execution_count": null,
      "id": "5571db2b",
      "metadata": {
        "id": "5571db2b"
      },
      "outputs": [],
      "source": [
        "# Some Environment Setup\n",
        "OUTPUT_DIR = \"./results/pigl\" # the path to the output directory; where model checkpoints will be saved"
      ]
    },
    {
      "cell_type": "code",
      "execution_count": null,
      "id": "02187851",
      "metadata": {
        "id": "02187851"
      },
      "outputs": [],
      "source": [
        "import transformers\n",
        "\n",
        "training_args = transformers.TrainingArguments(\n",
        "        output_dir=OUTPUT_DIR,\n",
        "        warmup_steps=2,\n",
        "        per_device_train_batch_size=2,\n",
        "        gradient_accumulation_steps=4,\n",
        "        auto_find_batch_size=True,\n",
        "        max_steps=500,\n",
        "        learning_rate=2.5e-5, # Want a small lr for finetuning\n",
        "        optim=\"paged_adamw_8bit\",\n",
        "        logging_steps=25,            # When to start reporting loss\n",
        "        logging_dir=\"./logs\",        # Directory for storing logs\n",
        "        save_strategy=\"steps\",       # Save the model checkpoint every logging step\n",
        "        save_steps=500,                # Save checkpoints every 50 steps\n",
        "        eval_strategy=\"steps\", # Evaluate the model every logging step\n",
        "        eval_steps=25,               # Evaluate and save checkpoints every 50 steps\n",
        "        do_eval=True,                # Perform evaluation at the end of training\n",
        "        report_to=\"none\",\n",
        ")"
      ]
    },
    {
      "cell_type": "code",
      "execution_count": null,
      "id": "4acbee45",
      "metadata": {
        "colab": {
          "base_uri": "https://localhost:8080/",
          "height": 581
        },
        "id": "4acbee45",
        "outputId": "bd2672f7-e1a1-499b-a4ac-a6df11aab1eb"
      },
      "outputs": [
        {
          "output_type": "stream",
          "name": "stderr",
          "text": [
            "`use_cache=True` is incompatible with gradient checkpointing. Setting `use_cache=False`.\n",
            "/usr/local/lib/python3.11/dist-packages/torch/_dynamo/eval_frame.py:632: UserWarning: torch.utils.checkpoint: the use_reentrant parameter should be passed explicitly. In version 2.5 we will raise an exception if use_reentrant is not passed. use_reentrant=False is recommended, but if you need to preserve the current default behavior, you can pass use_reentrant=True. Refer to docs for more details on the differences between the two variants.\n",
            "  return fn(*args, **kwargs)\n",
            "/usr/local/lib/python3.11/dist-packages/bitsandbytes/autograd/_functions.py:315: UserWarning: MatMul8bitLt: inputs will be cast from torch.float32 to float16 during quantization\n",
            "  warnings.warn(f\"MatMul8bitLt: inputs will be cast from {A.dtype} to float16 during quantization\")\n"
          ]
        },
        {
          "output_type": "display_data",
          "data": {
            "text/plain": [
              "<IPython.core.display.HTML object>"
            ],
            "text/html": [
              "\n",
              "    <div>\n",
              "      \n",
              "      <progress value='76' max='500' style='width:300px; height:20px; vertical-align: middle;'></progress>\n",
              "      [ 76/500 03:57 < 22:40, 0.31 it/s, Epoch 1.04/7]\n",
              "    </div>\n",
              "    <table border=\"1\" class=\"dataframe\">\n",
              "  <thead>\n",
              " <tr style=\"text-align: left;\">\n",
              "      <th>Step</th>\n",
              "      <th>Training Loss</th>\n",
              "      <th>Validation Loss</th>\n",
              "    </tr>\n",
              "  </thead>\n",
              "  <tbody>\n",
              "    <tr>\n",
              "      <td>25</td>\n",
              "      <td>5.396200</td>\n",
              "      <td>4.043763</td>\n",
              "    </tr>\n",
              "    <tr>\n",
              "      <td>50</td>\n",
              "      <td>3.495300</td>\n",
              "      <td>2.684367</td>\n",
              "    </tr>\n",
              "    <tr>\n",
              "      <td>75</td>\n",
              "      <td>2.740200</td>\n",
              "      <td>2.197930</td>\n",
              "    </tr>\n",
              "  </tbody>\n",
              "</table><p>"
            ]
          },
          "metadata": {}
        },
        {
          "output_type": "error",
          "ename": "KeyboardInterrupt",
          "evalue": "",
          "traceback": [
            "\u001b[0;31m---------------------------------------------------------------------------\u001b[0m",
            "\u001b[0;31mKeyboardInterrupt\u001b[0m                         Traceback (most recent call last)",
            "\u001b[0;32m<ipython-input-36-60e270afa746>\u001b[0m in \u001b[0;36m<cell line: 0>\u001b[0;34m()\u001b[0m\n\u001b[1;32m      7\u001b[0m )\n\u001b[1;32m      8\u001b[0m \u001b[0;34m\u001b[0m\u001b[0m\n\u001b[0;32m----> 9\u001b[0;31m \u001b[0mtrainer\u001b[0m\u001b[0;34m.\u001b[0m\u001b[0mtrain\u001b[0m\u001b[0;34m(\u001b[0m\u001b[0;34m)\u001b[0m\u001b[0;34m\u001b[0m\u001b[0;34m\u001b[0m\u001b[0m\n\u001b[0m",
            "\u001b[0;32m/usr/local/lib/python3.11/dist-packages/transformers/trainer.py\u001b[0m in \u001b[0;36mtrain\u001b[0;34m(self, resume_from_checkpoint, trial, ignore_keys_for_eval, **kwargs)\u001b[0m\n\u001b[1;32m   2169\u001b[0m                 \u001b[0mhf_hub_utils\u001b[0m\u001b[0;34m.\u001b[0m\u001b[0menable_progress_bars\u001b[0m\u001b[0;34m(\u001b[0m\u001b[0;34m)\u001b[0m\u001b[0;34m\u001b[0m\u001b[0;34m\u001b[0m\u001b[0m\n\u001b[1;32m   2170\u001b[0m         \u001b[0;32melse\u001b[0m\u001b[0;34m:\u001b[0m\u001b[0;34m\u001b[0m\u001b[0;34m\u001b[0m\u001b[0m\n\u001b[0;32m-> 2171\u001b[0;31m             return inner_training_loop(\n\u001b[0m\u001b[1;32m   2172\u001b[0m                 \u001b[0margs\u001b[0m\u001b[0;34m=\u001b[0m\u001b[0margs\u001b[0m\u001b[0;34m,\u001b[0m\u001b[0;34m\u001b[0m\u001b[0;34m\u001b[0m\u001b[0m\n\u001b[1;32m   2173\u001b[0m                 \u001b[0mresume_from_checkpoint\u001b[0m\u001b[0;34m=\u001b[0m\u001b[0mresume_from_checkpoint\u001b[0m\u001b[0;34m,\u001b[0m\u001b[0;34m\u001b[0m\u001b[0;34m\u001b[0m\u001b[0m\n",
            "\u001b[0;32m/usr/local/lib/python3.11/dist-packages/accelerate/utils/memory.py\u001b[0m in \u001b[0;36mdecorator\u001b[0;34m(*args, **kwargs)\u001b[0m\n\u001b[1;32m    157\u001b[0m                 \u001b[0;32mraise\u001b[0m \u001b[0mRuntimeError\u001b[0m\u001b[0;34m(\u001b[0m\u001b[0;34m\"No executable batch size found, reached zero.\"\u001b[0m\u001b[0;34m)\u001b[0m\u001b[0;34m\u001b[0m\u001b[0;34m\u001b[0m\u001b[0m\n\u001b[1;32m    158\u001b[0m             \u001b[0;32mtry\u001b[0m\u001b[0;34m:\u001b[0m\u001b[0;34m\u001b[0m\u001b[0;34m\u001b[0m\u001b[0m\n\u001b[0;32m--> 159\u001b[0;31m                 \u001b[0;32mreturn\u001b[0m \u001b[0mfunction\u001b[0m\u001b[0;34m(\u001b[0m\u001b[0mbatch_size\u001b[0m\u001b[0;34m,\u001b[0m \u001b[0;34m*\u001b[0m\u001b[0margs\u001b[0m\u001b[0;34m,\u001b[0m \u001b[0;34m**\u001b[0m\u001b[0mkwargs\u001b[0m\u001b[0;34m)\u001b[0m\u001b[0;34m\u001b[0m\u001b[0;34m\u001b[0m\u001b[0m\n\u001b[0m\u001b[1;32m    160\u001b[0m             \u001b[0;32mexcept\u001b[0m \u001b[0mException\u001b[0m \u001b[0;32mas\u001b[0m \u001b[0me\u001b[0m\u001b[0;34m:\u001b[0m\u001b[0;34m\u001b[0m\u001b[0;34m\u001b[0m\u001b[0m\n\u001b[1;32m    161\u001b[0m                 \u001b[0;32mif\u001b[0m \u001b[0mshould_reduce_batch_size\u001b[0m\u001b[0;34m(\u001b[0m\u001b[0me\u001b[0m\u001b[0;34m)\u001b[0m\u001b[0;34m:\u001b[0m\u001b[0;34m\u001b[0m\u001b[0;34m\u001b[0m\u001b[0m\n",
            "\u001b[0;32m/usr/local/lib/python3.11/dist-packages/transformers/trainer.py\u001b[0m in \u001b[0;36m_inner_training_loop\u001b[0;34m(self, batch_size, args, resume_from_checkpoint, trial, ignore_keys_for_eval)\u001b[0m\n\u001b[1;32m   2529\u001b[0m                     )\n\u001b[1;32m   2530\u001b[0m                     \u001b[0;32mwith\u001b[0m \u001b[0mcontext\u001b[0m\u001b[0;34m(\u001b[0m\u001b[0;34m)\u001b[0m\u001b[0;34m:\u001b[0m\u001b[0;34m\u001b[0m\u001b[0;34m\u001b[0m\u001b[0m\n\u001b[0;32m-> 2531\u001b[0;31m                         \u001b[0mtr_loss_step\u001b[0m \u001b[0;34m=\u001b[0m \u001b[0mself\u001b[0m\u001b[0;34m.\u001b[0m\u001b[0mtraining_step\u001b[0m\u001b[0;34m(\u001b[0m\u001b[0mmodel\u001b[0m\u001b[0;34m,\u001b[0m \u001b[0minputs\u001b[0m\u001b[0;34m,\u001b[0m \u001b[0mnum_items_in_batch\u001b[0m\u001b[0;34m)\u001b[0m\u001b[0;34m\u001b[0m\u001b[0;34m\u001b[0m\u001b[0m\n\u001b[0m\u001b[1;32m   2532\u001b[0m \u001b[0;34m\u001b[0m\u001b[0m\n\u001b[1;32m   2533\u001b[0m                     if (\n",
            "\u001b[0;32m/usr/local/lib/python3.11/dist-packages/transformers/trainer.py\u001b[0m in \u001b[0;36mtraining_step\u001b[0;34m(***failed resolving arguments***)\u001b[0m\n\u001b[1;32m   3710\u001b[0m                 \u001b[0mloss\u001b[0m \u001b[0;34m=\u001b[0m \u001b[0mloss\u001b[0m \u001b[0;34m/\u001b[0m \u001b[0mself\u001b[0m\u001b[0;34m.\u001b[0m\u001b[0margs\u001b[0m\u001b[0;34m.\u001b[0m\u001b[0mgradient_accumulation_steps\u001b[0m\u001b[0;34m\u001b[0m\u001b[0;34m\u001b[0m\u001b[0m\n\u001b[1;32m   3711\u001b[0m \u001b[0;34m\u001b[0m\u001b[0m\n\u001b[0;32m-> 3712\u001b[0;31m             \u001b[0mself\u001b[0m\u001b[0;34m.\u001b[0m\u001b[0maccelerator\u001b[0m\u001b[0;34m.\u001b[0m\u001b[0mbackward\u001b[0m\u001b[0;34m(\u001b[0m\u001b[0mloss\u001b[0m\u001b[0;34m,\u001b[0m \u001b[0;34m**\u001b[0m\u001b[0mkwargs\u001b[0m\u001b[0;34m)\u001b[0m\u001b[0;34m\u001b[0m\u001b[0;34m\u001b[0m\u001b[0m\n\u001b[0m\u001b[1;32m   3713\u001b[0m \u001b[0;34m\u001b[0m\u001b[0m\n\u001b[1;32m   3714\u001b[0m             \u001b[0;32mreturn\u001b[0m \u001b[0mloss\u001b[0m\u001b[0;34m.\u001b[0m\u001b[0mdetach\u001b[0m\u001b[0;34m(\u001b[0m\u001b[0;34m)\u001b[0m\u001b[0;34m\u001b[0m\u001b[0;34m\u001b[0m\u001b[0m\n",
            "\u001b[0;32m/usr/local/lib/python3.11/dist-packages/accelerate/accelerator.py\u001b[0m in \u001b[0;36mbackward\u001b[0;34m(self, loss, **kwargs)\u001b[0m\n\u001b[1;32m   2244\u001b[0m             \u001b[0mself\u001b[0m\u001b[0;34m.\u001b[0m\u001b[0mlomo_backward\u001b[0m\u001b[0;34m(\u001b[0m\u001b[0mloss\u001b[0m\u001b[0;34m,\u001b[0m \u001b[0mlearning_rate\u001b[0m\u001b[0;34m)\u001b[0m\u001b[0;34m\u001b[0m\u001b[0;34m\u001b[0m\u001b[0m\n\u001b[1;32m   2245\u001b[0m         \u001b[0;32melse\u001b[0m\u001b[0;34m:\u001b[0m\u001b[0;34m\u001b[0m\u001b[0;34m\u001b[0m\u001b[0m\n\u001b[0;32m-> 2246\u001b[0;31m             \u001b[0mloss\u001b[0m\u001b[0;34m.\u001b[0m\u001b[0mbackward\u001b[0m\u001b[0;34m(\u001b[0m\u001b[0;34m**\u001b[0m\u001b[0mkwargs\u001b[0m\u001b[0;34m)\u001b[0m\u001b[0;34m\u001b[0m\u001b[0;34m\u001b[0m\u001b[0m\n\u001b[0m\u001b[1;32m   2247\u001b[0m \u001b[0;34m\u001b[0m\u001b[0m\n\u001b[1;32m   2248\u001b[0m     \u001b[0;32mdef\u001b[0m \u001b[0mset_trigger\u001b[0m\u001b[0;34m(\u001b[0m\u001b[0mself\u001b[0m\u001b[0;34m)\u001b[0m\u001b[0;34m:\u001b[0m\u001b[0;34m\u001b[0m\u001b[0;34m\u001b[0m\u001b[0m\n",
            "\u001b[0;32m/usr/local/lib/python3.11/dist-packages/torch/_tensor.py\u001b[0m in \u001b[0;36mbackward\u001b[0;34m(self, gradient, retain_graph, create_graph, inputs)\u001b[0m\n\u001b[1;32m    579\u001b[0m                 \u001b[0minputs\u001b[0m\u001b[0;34m=\u001b[0m\u001b[0minputs\u001b[0m\u001b[0;34m,\u001b[0m\u001b[0;34m\u001b[0m\u001b[0;34m\u001b[0m\u001b[0m\n\u001b[1;32m    580\u001b[0m             )\n\u001b[0;32m--> 581\u001b[0;31m         torch.autograd.backward(\n\u001b[0m\u001b[1;32m    582\u001b[0m             \u001b[0mself\u001b[0m\u001b[0;34m,\u001b[0m \u001b[0mgradient\u001b[0m\u001b[0;34m,\u001b[0m \u001b[0mretain_graph\u001b[0m\u001b[0;34m,\u001b[0m \u001b[0mcreate_graph\u001b[0m\u001b[0;34m,\u001b[0m \u001b[0minputs\u001b[0m\u001b[0;34m=\u001b[0m\u001b[0minputs\u001b[0m\u001b[0;34m\u001b[0m\u001b[0;34m\u001b[0m\u001b[0m\n\u001b[1;32m    583\u001b[0m         )\n",
            "\u001b[0;32m/usr/local/lib/python3.11/dist-packages/torch/autograd/__init__.py\u001b[0m in \u001b[0;36mbackward\u001b[0;34m(tensors, grad_tensors, retain_graph, create_graph, grad_variables, inputs)\u001b[0m\n\u001b[1;32m    345\u001b[0m     \u001b[0;31m# some Python versions print out the first line of a multi-line function\u001b[0m\u001b[0;34m\u001b[0m\u001b[0;34m\u001b[0m\u001b[0m\n\u001b[1;32m    346\u001b[0m     \u001b[0;31m# calls in the traceback and some print out the last line\u001b[0m\u001b[0;34m\u001b[0m\u001b[0;34m\u001b[0m\u001b[0m\n\u001b[0;32m--> 347\u001b[0;31m     _engine_run_backward(\n\u001b[0m\u001b[1;32m    348\u001b[0m         \u001b[0mtensors\u001b[0m\u001b[0;34m,\u001b[0m\u001b[0;34m\u001b[0m\u001b[0;34m\u001b[0m\u001b[0m\n\u001b[1;32m    349\u001b[0m         \u001b[0mgrad_tensors_\u001b[0m\u001b[0;34m,\u001b[0m\u001b[0;34m\u001b[0m\u001b[0;34m\u001b[0m\u001b[0m\n",
            "\u001b[0;32m/usr/local/lib/python3.11/dist-packages/torch/autograd/graph.py\u001b[0m in \u001b[0;36m_engine_run_backward\u001b[0;34m(t_outputs, *args, **kwargs)\u001b[0m\n\u001b[1;32m    823\u001b[0m         \u001b[0munregister_hooks\u001b[0m \u001b[0;34m=\u001b[0m \u001b[0m_register_logging_hooks_on_whole_graph\u001b[0m\u001b[0;34m(\u001b[0m\u001b[0mt_outputs\u001b[0m\u001b[0;34m)\u001b[0m\u001b[0;34m\u001b[0m\u001b[0;34m\u001b[0m\u001b[0m\n\u001b[1;32m    824\u001b[0m     \u001b[0;32mtry\u001b[0m\u001b[0;34m:\u001b[0m\u001b[0;34m\u001b[0m\u001b[0;34m\u001b[0m\u001b[0m\n\u001b[0;32m--> 825\u001b[0;31m         return Variable._execution_engine.run_backward(  # Calls into the C++ engine to run the backward pass\n\u001b[0m\u001b[1;32m    826\u001b[0m             \u001b[0mt_outputs\u001b[0m\u001b[0;34m,\u001b[0m \u001b[0;34m*\u001b[0m\u001b[0margs\u001b[0m\u001b[0;34m,\u001b[0m \u001b[0;34m**\u001b[0m\u001b[0mkwargs\u001b[0m\u001b[0;34m\u001b[0m\u001b[0;34m\u001b[0m\u001b[0m\n\u001b[1;32m    827\u001b[0m         )  # Calls into the C++ engine to run the backward pass\n",
            "\u001b[0;31mKeyboardInterrupt\u001b[0m: "
          ]
        }
      ],
      "source": [
        "trainer = transformers.Trainer(\n",
        "    model=peft_model,\n",
        "    train_dataset=tokenized_train_dataset,\n",
        "    eval_dataset=tokenized_val_dataset,\n",
        "    args=training_args,\n",
        "    data_collator=collator\n",
        ")\n",
        "\n",
        "trainer.train()"
      ]
    },
    {
      "cell_type": "code",
      "source": [
        "OUTPUT_DIR"
      ],
      "metadata": {
        "colab": {
          "base_uri": "https://localhost:8080/",
          "height": 35
        },
        "id": "yea48UyoZS8H",
        "outputId": "575ca4f8-1949-4b7b-f947-c3b9d9404ac9"
      },
      "id": "yea48UyoZS8H",
      "execution_count": null,
      "outputs": [
        {
          "output_type": "execute_result",
          "data": {
            "text/plain": [
              "'./results/pigl'"
            ],
            "application/vnd.google.colaboratory.intrinsic+json": {
              "type": "string"
            }
          },
          "metadata": {},
          "execution_count": 37
        }
      ]
    },
    {
      "cell_type": "code",
      "execution_count": null,
      "id": "bc8aa532",
      "metadata": {
        "id": "bc8aa532"
      },
      "outputs": [],
      "source": [
        "OUTPUT_DIR = \"./results/pigl\" # the path to the output directory; where model checkpoints will be saved\n",
        "model_ckpt = OUTPUT_DIR + \"/stop\"\n",
        "\n",
        "#trainer.save_model(model_ckpt)"
      ]
    },
    {
      "cell_type": "markdown",
      "id": "86e02f66",
      "metadata": {
        "id": "86e02f66"
      },
      "source": [
        "## Reloading the Model"
      ]
    },
    {
      "cell_type": "code",
      "source": [
        "# Downloads and unzips trained adapter\n",
        "!gdown 1Zwyu3uPC0v-oQHNmT1HidBsjfk2MRTi5\n",
        "!unzip piglatin_adapter.zip -d ./"
      ],
      "metadata": {
        "id": "aW2DOm4ZVaZL",
        "colab": {
          "base_uri": "https://localhost:8080/"
        },
        "outputId": "53e61905-18c5-48f0-fccc-9f28642748c2"
      },
      "id": "aW2DOm4ZVaZL",
      "execution_count": null,
      "outputs": [
        {
          "output_type": "stream",
          "name": "stdout",
          "text": [
            "Archive:  piglatin_adapter.zip\n",
            "  inflating: ./results/pigl/stop/adapter_config.json  \n",
            "  inflating: ./results/pigl/stop/adapter_model.safetensors  \n",
            "  inflating: ./results/pigl/stop/README.md  \n",
            "  inflating: ./results/pigl/stop/training_args.bin  \n"
          ]
        }
      ]
    },
    {
      "cell_type": "code",
      "source": [
        "import torch\n",
        "from transformers import AutoTokenizer, AutoModelForCausalLM, BitsAndBytesConfig\n",
        "\n",
        "bnb_config = BitsAndBytesConfig(\n",
        "    load_in_8bit=True,\n",
        ")\n",
        "\n",
        "model = AutoModelForCausalLM.from_pretrained(base_model_id, trust_remote_code=True, quantization_config=bnb_config, device_map='cuda:0')"
      ],
      "metadata": {
        "colab": {
          "base_uri": "https://localhost:8080/",
          "height": 49,
          "referenced_widgets": [
            "7edc84e43640415fbcb5732814ad357f",
            "f4468a13747f448091263aaa9e89a50d",
            "a505ef4a50b7490eb63f34e7924820f1",
            "dd00b04d2b53412191fea60aa7fc66a6",
            "f0045a7083b24ab7afe77d169172e8d0",
            "bd72ed075d164bc69062ab4c5d1f7e8a",
            "5e56feca106e4e1eb06ad8335efcf299",
            "d1737116fe104aff836422ab45693195",
            "2df41b30a50d4d0aa374d574b198c8dc",
            "6d1d72d4752c46f8a469ef2739831bdd",
            "4700a19aed764b8a993abc348bec5894"
          ]
        },
        "id": "9EYGUrtxdQGG",
        "outputId": "2a66e998-c805-471d-b830-4fb15a302381"
      },
      "id": "9EYGUrtxdQGG",
      "execution_count": null,
      "outputs": [
        {
          "output_type": "display_data",
          "data": {
            "text/plain": [
              "Loading checkpoint shards:   0%|          | 0/2 [00:00<?, ?it/s]"
            ],
            "application/vnd.jupyter.widget-view+json": {
              "version_major": 2,
              "version_minor": 0,
              "model_id": "7edc84e43640415fbcb5732814ad357f"
            }
          },
          "metadata": {}
        }
      ]
    },
    {
      "cell_type": "code",
      "execution_count": null,
      "id": "f139b83b-1885-499b-af8a-9fdbd474d3b8",
      "metadata": {
        "id": "f139b83b-1885-499b-af8a-9fdbd474d3b8"
      },
      "outputs": [],
      "source": [
        "from peft import PeftModel\n",
        "\n",
        "OUTPUT_DIR = \"./results/pigl\" # the path to the output directory; where model checkpoints will be saved\n",
        "model_ckpt = OUTPUT_DIR + \"/stop\"\n",
        "\n",
        "fine_tuned_model = PeftModel.from_pretrained(model, model_ckpt)"
      ]
    },
    {
      "cell_type": "code",
      "source": [
        "fine_tuned_model"
      ],
      "metadata": {
        "colab": {
          "base_uri": "https://localhost:8080/"
        },
        "id": "1R-SFdqJdVpX",
        "outputId": "7ab0f5a2-7183-4a74-f3a2-ba57e5ff6e6c"
      },
      "id": "1R-SFdqJdVpX",
      "execution_count": null,
      "outputs": [
        {
          "output_type": "execute_result",
          "data": {
            "text/plain": [
              "PeftModelForCausalLM(\n",
              "  (base_model): LoraModel(\n",
              "    (model): PhiForCausalLM(\n",
              "      (model): PhiModel(\n",
              "        (embed_tokens): ModulesToSaveWrapper(\n",
              "          (original_module): Embedding(51200, 2560)\n",
              "          (modules_to_save): ModuleDict(\n",
              "            (default): Embedding(51200, 2560)\n",
              "          )\n",
              "        )\n",
              "        (layers): ModuleList(\n",
              "          (0-31): 32 x PhiDecoderLayer(\n",
              "            (self_attn): PhiAttention(\n",
              "              (q_proj): lora.Linear8bitLt(\n",
              "                (base_layer): Linear8bitLt(in_features=2560, out_features=2560, bias=True)\n",
              "                (lora_dropout): ModuleDict(\n",
              "                  (default): Dropout(p=0.05, inplace=False)\n",
              "                )\n",
              "                (lora_A): ModuleDict(\n",
              "                  (default): Linear(in_features=2560, out_features=16, bias=False)\n",
              "                )\n",
              "                (lora_B): ModuleDict(\n",
              "                  (default): Linear(in_features=16, out_features=2560, bias=False)\n",
              "                )\n",
              "                (lora_embedding_A): ParameterDict()\n",
              "                (lora_embedding_B): ParameterDict()\n",
              "                (lora_magnitude_vector): ModuleDict()\n",
              "              )\n",
              "              (k_proj): lora.Linear8bitLt(\n",
              "                (base_layer): Linear8bitLt(in_features=2560, out_features=2560, bias=True)\n",
              "                (lora_dropout): ModuleDict(\n",
              "                  (default): Dropout(p=0.05, inplace=False)\n",
              "                )\n",
              "                (lora_A): ModuleDict(\n",
              "                  (default): Linear(in_features=2560, out_features=16, bias=False)\n",
              "                )\n",
              "                (lora_B): ModuleDict(\n",
              "                  (default): Linear(in_features=16, out_features=2560, bias=False)\n",
              "                )\n",
              "                (lora_embedding_A): ParameterDict()\n",
              "                (lora_embedding_B): ParameterDict()\n",
              "                (lora_magnitude_vector): ModuleDict()\n",
              "              )\n",
              "              (v_proj): lora.Linear8bitLt(\n",
              "                (base_layer): Linear8bitLt(in_features=2560, out_features=2560, bias=True)\n",
              "                (lora_dropout): ModuleDict(\n",
              "                  (default): Dropout(p=0.05, inplace=False)\n",
              "                )\n",
              "                (lora_A): ModuleDict(\n",
              "                  (default): Linear(in_features=2560, out_features=16, bias=False)\n",
              "                )\n",
              "                (lora_B): ModuleDict(\n",
              "                  (default): Linear(in_features=16, out_features=2560, bias=False)\n",
              "                )\n",
              "                (lora_embedding_A): ParameterDict()\n",
              "                (lora_embedding_B): ParameterDict()\n",
              "                (lora_magnitude_vector): ModuleDict()\n",
              "              )\n",
              "              (dense): Linear8bitLt(in_features=2560, out_features=2560, bias=True)\n",
              "            )\n",
              "            (mlp): PhiMLP(\n",
              "              (activation_fn): NewGELUActivation()\n",
              "              (fc1): Linear8bitLt(in_features=2560, out_features=10240, bias=True)\n",
              "              (fc2): lora.Linear8bitLt(\n",
              "                (base_layer): Linear8bitLt(in_features=10240, out_features=2560, bias=True)\n",
              "                (lora_dropout): ModuleDict(\n",
              "                  (default): Dropout(p=0.05, inplace=False)\n",
              "                )\n",
              "                (lora_A): ModuleDict(\n",
              "                  (default): Linear(in_features=10240, out_features=16, bias=False)\n",
              "                )\n",
              "                (lora_B): ModuleDict(\n",
              "                  (default): Linear(in_features=16, out_features=2560, bias=False)\n",
              "                )\n",
              "                (lora_embedding_A): ParameterDict()\n",
              "                (lora_embedding_B): ParameterDict()\n",
              "                (lora_magnitude_vector): ModuleDict()\n",
              "              )\n",
              "            )\n",
              "            (input_layernorm): ModulesToSaveWrapper(\n",
              "              (original_module): LayerNorm((2560,), eps=1e-05, elementwise_affine=True)\n",
              "              (modules_to_save): ModuleDict(\n",
              "                (default): LayerNorm((2560,), eps=1e-05, elementwise_affine=True)\n",
              "              )\n",
              "            )\n",
              "            (resid_dropout): Dropout(p=0.1, inplace=False)\n",
              "          )\n",
              "        )\n",
              "        (rotary_emb): PhiRotaryEmbedding()\n",
              "        (embed_dropout): Dropout(p=0.0, inplace=False)\n",
              "        (final_layernorm): ModulesToSaveWrapper(\n",
              "          (original_module): LayerNorm((2560,), eps=1e-05, elementwise_affine=True)\n",
              "          (modules_to_save): ModuleDict(\n",
              "            (default): LayerNorm((2560,), eps=1e-05, elementwise_affine=True)\n",
              "          )\n",
              "        )\n",
              "      )\n",
              "      (lm_head): lora.Linear(\n",
              "        (base_layer): Linear(in_features=2560, out_features=51200, bias=True)\n",
              "        (lora_dropout): ModuleDict(\n",
              "          (default): Dropout(p=0.05, inplace=False)\n",
              "        )\n",
              "        (lora_A): ModuleDict(\n",
              "          (default): Linear(in_features=2560, out_features=16, bias=False)\n",
              "        )\n",
              "        (lora_B): ModuleDict(\n",
              "          (default): Linear(in_features=16, out_features=51200, bias=False)\n",
              "        )\n",
              "        (lora_embedding_A): ParameterDict()\n",
              "        (lora_embedding_B): ParameterDict()\n",
              "        (lora_magnitude_vector): ModuleDict()\n",
              "      )\n",
              "    )\n",
              "  )\n",
              ")"
            ]
          },
          "metadata": {},
          "execution_count": 6
        }
      ]
    },
    {
      "cell_type": "code",
      "execution_count": null,
      "id": "8f0884df-f9ab-48c5-b367-dc6358c037c4",
      "metadata": {
        "colab": {
          "base_uri": "https://localhost:8080/"
        },
        "id": "8f0884df-f9ab-48c5-b367-dc6358c037c4",
        "outputId": "b8205431-a981-49a5-ab56-649a4e2fc845"
      },
      "outputs": [
        {
          "output_type": "stream",
          "name": "stderr",
          "text": [
            "Setting `pad_token_id` to `eos_token_id`:50256 for open-end generation.\n"
          ]
        },
        {
          "output_type": "stream",
          "name": "stdout",
          "text": [
            "Luke, I am your father!##[PIGL]##>ukelyay,way imay aymay urfray!<|endoftext|>\n"
          ]
        }
      ],
      "source": [
        "eval_prompt = \"Luke, I am your father!\"\n",
        "model_input = tokenizer(eval_prompt, return_tensors=\"pt\").to(\"cuda\")\n",
        "\n",
        "fine_tuned_model.eval()\n",
        "with torch.no_grad():\n",
        "    output = fine_tuned_model.generate(**model_input,\n",
        "                                       max_new_tokens=100,\n",
        "                                       repetition_penalty=1.1)[0]\n",
        "    print(tokenizer.decode(output, skip_special_tokens=False))"
      ]
    },
    {
      "cell_type": "code",
      "execution_count": null,
      "id": "d417267a-16ba-4518-b47d-55af2eb2498f",
      "metadata": {
        "colab": {
          "base_uri": "https://localhost:8080/"
        },
        "id": "d417267a-16ba-4518-b47d-55af2eb2498f",
        "outputId": "d604f8cb-1bcd-4f12-9047-fa7edda218ac"
      },
      "outputs": [
        {
          "output_type": "stream",
          "name": "stderr",
          "text": [
            "Setting `pad_token_id` to `eos_token_id`:50256 for open-end generation.\n"
          ]
        },
        {
          "output_type": "stream",
          "name": "stdout",
          "text": [
            "How are you?##[PIGL]##>ehay areway ouyay?<|endoftext|>\n"
          ]
        }
      ],
      "source": [
        "eval_prompt = \"How are you?\"\n",
        "response_template = '##[PIGL]##>'\n",
        "model_input = tokenizer(eval_prompt+response_template, return_tensors=\"pt\").to(\"cuda\")\n",
        "\n",
        "fine_tuned_model.eval()\n",
        "with torch.no_grad():\n",
        "    print(tokenizer.decode(fine_tuned_model.generate(**model_input, max_new_tokens=100, repetition_penalty=1.1)[0], skip_special_tokens=False))"
      ]
    },
    {
      "cell_type": "code",
      "execution_count": null,
      "id": "9378e164-2671-4351-9dbc-b05c66e59f87",
      "metadata": {
        "id": "9378e164-2671-4351-9dbc-b05c66e59f87"
      },
      "outputs": [],
      "source": [
        "def generate(model, tokenizer, prompt, response_template=\"\", max_new_tokens=100):\n",
        "    tokenized_input = tokenizer(prompt+response_template, return_tensors=\"pt\")\n",
        "    input_ids = tokenized_input[\"input_ids\"].cuda()\n",
        "\n",
        "    model.eval()\n",
        "    generation_output = model.generate(\n",
        "        input_ids=input_ids,\n",
        "        max_new_tokens=max_new_tokens,\n",
        "        repetition_penalty=1.1\n",
        "    )\n",
        "    seq = generation_output[0]\n",
        "    output = tokenizer.decode(seq, skip_special_tokens=False)\n",
        "    return output.strip()"
      ]
    },
    {
      "cell_type": "code",
      "execution_count": null,
      "id": "961b4634-71ea-4469-82fb-cce2837246c3",
      "metadata": {
        "colab": {
          "base_uri": "https://localhost:8080/",
          "height": 107
        },
        "id": "961b4634-71ea-4469-82fb-cce2837246c3",
        "outputId": "349b5003-4892-480e-f61b-508514a57745"
      },
      "outputs": [
        {
          "output_type": "stream",
          "name": "stderr",
          "text": [
            "The attention mask and the pad token id were not set. As a consequence, you may observe unexpected behavior. Please pass your input's `attention_mask` to obtain reliable results.\n",
            "Setting `pad_token_id` to `eos_token_id`:50256 for open-end generation.\n",
            "The attention mask is not set and cannot be inferred from input because pad token is same as eos token. As a consequence, you may observe unexpected behavior. Please pass your input's `attention_mask` to obtain reliable results.\n"
          ]
        },
        {
          "output_type": "execute_result",
          "data": {
            "text/plain": [
              "'how are you doing?##[PIGL]##>owhay away ouyay oingday?<|endoftext|>'"
            ],
            "application/vnd.google.colaboratory.intrinsic+json": {
              "type": "string"
            }
          },
          "metadata": {},
          "execution_count": 12
        }
      ],
      "source": [
        "max_length = 64\n",
        "generate(fine_tuned_model, tokenizer, 'how are you doing?', response_template, max_length)"
      ]
    },
    {
      "cell_type": "code",
      "execution_count": null,
      "id": "513af2d4-80dd-4b7a-920e-e55a56667f30",
      "metadata": {
        "colab": {
          "base_uri": "https://localhost:8080/",
          "height": 89
        },
        "id": "513af2d4-80dd-4b7a-920e-e55a56667f30",
        "outputId": "dbef0a01-06b8-467d-e639-411b2eaaab5b"
      },
      "outputs": [
        {
          "output_type": "stream",
          "name": "stderr",
          "text": [
            "The attention mask and the pad token id were not set. As a consequence, you may observe unexpected behavior. Please pass your input's `attention_mask` to obtain reliable results.\n",
            "Setting `pad_token_id` to `eos_token_id`:50256 for open-end generation.\n"
          ]
        },
        {
          "output_type": "execute_result",
          "data": {
            "text/plain": [
              "'Thick glasses helped him read the print.##[PIGL]##>ickthay azzglssay ephledhay imedray ethay intpray.<|endoftext|>'"
            ],
            "application/vnd.google.colaboratory.intrinsic+json": {
              "type": "string"
            }
          },
          "metadata": {},
          "execution_count": 28
        }
      ],
      "source": [
        "sample = prompt_pig['train'][7]\n",
        "generate(fine_tuned_model, tokenizer, sample['prompt'], response_template, max_length)"
      ]
    },
    {
      "cell_type": "code",
      "execution_count": null,
      "id": "1bbcde4f-7e27-4ba1-973e-13ab57d3d556",
      "metadata": {
        "colab": {
          "base_uri": "https://localhost:8080/"
        },
        "id": "1bbcde4f-7e27-4ba1-973e-13ab57d3d556",
        "outputId": "56b529d2-b10e-4474-d63f-7a7560fca62f"
      },
      "outputs": [
        {
          "output_type": "stream",
          "name": "stderr",
          "text": [
            "The attention mask and the pad token id were not set. As a consequence, you may observe unexpected behavior. Please pass your input's `attention_mask` to obtain reliable results.\n",
            "Setting `pad_token_id` to `eos_token_id`:50256 for open-end generation.\n"
          ]
        },
        {
          "output_type": "stream",
          "name": "stdout",
          "text": [
            "Thick glasses helped him read the print.\n",
            "<|endoftext|>\n"
          ]
        }
      ],
      "source": [
        "with fine_tuned_model.disable_adapter():\n",
        "    print(generate(fine_tuned_model, tokenizer, sample['prompt']))"
      ]
    },
    {
      "cell_type": "code",
      "source": [
        "with fine_tuned_model.disable_adapter():\n",
        "    print(generate(fine_tuned_model, tokenizer, sample['prompt'], response_template))"
      ],
      "metadata": {
        "id": "icpJX_87erat",
        "colab": {
          "base_uri": "https://localhost:8080/"
        },
        "outputId": "eeb1014d-4b68-4afe-e533-2440b2b3f6db"
      },
      "id": "icpJX_87erat",
      "execution_count": null,
      "outputs": [
        {
          "output_type": "stream",
          "name": "stderr",
          "text": [
            "The attention mask and the pad token id were not set. As a consequence, you may observe unexpected behavior. Please pass your input's `attention_mask` to obtain reliable results.\n",
            "Setting `pad_token_id` to `eos_token_id`:50256 for open-end generation.\n"
          ]
        },
        {
          "output_type": "stream",
          "name": "stdout",
          "text": [
            "Thick glasses helped him read the print.##[PIGL]##>, and he was able to enjoy his book without any further issues.\n",
            "\n",
            "Q&A:\n",
            "1. Why did John have trouble reading his book? \n",
            "Answer: John had trouble reading his book because of his poor eyesight.\n",
            "2. What did Sarah suggest to help John see better? \n",
            "Answer: Sarah suggested that John try wearing thick glasses.\n",
            "3. Did John take Sarah's advice? \n",
            "Answer: Yes, John took Sarah's advice and bought a pair\n"
          ]
        }
      ]
    },
    {
      "cell_type": "code",
      "source": [],
      "metadata": {
        "id": "wj_7oLVfYUa7"
      },
      "id": "wj_7oLVfYUa7",
      "execution_count": null,
      "outputs": []
    }
  ],
  "metadata": {
    "kernelspec": {
      "display_name": "Python 3",
      "name": "python3"
    },
    "language_info": {
      "codemirror_mode": {
        "name": "ipython",
        "version": 3
      },
      "file_extension": ".py",
      "mimetype": "text/x-python",
      "name": "python",
      "nbconvert_exporter": "python",
      "pygments_lexer": "ipython3",
      "version": "3.9.0"
    },
    "colab": {
      "provenance": [],
      "gpuType": "T4",
      "include_colab_link": true
    },
    "accelerator": "GPU",
    "widgets": {
      "application/vnd.jupyter.widget-state+json": {
        "e28c893fd0c943c8af8409c080507b86": {
          "model_module": "@jupyter-widgets/controls",
          "model_name": "HBoxModel",
          "model_module_version": "1.5.0",
          "state": {
            "_dom_classes": [],
            "_model_module": "@jupyter-widgets/controls",
            "_model_module_version": "1.5.0",
            "_model_name": "HBoxModel",
            "_view_count": null,
            "_view_module": "@jupyter-widgets/controls",
            "_view_module_version": "1.5.0",
            "_view_name": "HBoxView",
            "box_style": "",
            "children": [
              "IPY_MODEL_7f8a289ffaf34635ab11f7be8e905b7b",
              "IPY_MODEL_9a960ca8712e476eb11ab951805ca3a4",
              "IPY_MODEL_b8df57e862c74d92b8898701060a1bd8"
            ],
            "layout": "IPY_MODEL_d2b79272c62e4ed38815508abb7d794f"
          }
        },
        "7f8a289ffaf34635ab11f7be8e905b7b": {
          "model_module": "@jupyter-widgets/controls",
          "model_name": "HTMLModel",
          "model_module_version": "1.5.0",
          "state": {
            "_dom_classes": [],
            "_model_module": "@jupyter-widgets/controls",
            "_model_module_version": "1.5.0",
            "_model_name": "HTMLModel",
            "_view_count": null,
            "_view_module": "@jupyter-widgets/controls",
            "_view_module_version": "1.5.0",
            "_view_name": "HTMLView",
            "description": "",
            "description_tooltip": null,
            "layout": "IPY_MODEL_e999b8112a804b8d8c1be4bc22342643",
            "placeholder": "​",
            "style": "IPY_MODEL_7cf8d528f88646e59f6a439764f12592",
            "value": "Map: 100%"
          }
        },
        "9a960ca8712e476eb11ab951805ca3a4": {
          "model_module": "@jupyter-widgets/controls",
          "model_name": "FloatProgressModel",
          "model_module_version": "1.5.0",
          "state": {
            "_dom_classes": [],
            "_model_module": "@jupyter-widgets/controls",
            "_model_module_version": "1.5.0",
            "_model_name": "FloatProgressModel",
            "_view_count": null,
            "_view_module": "@jupyter-widgets/controls",
            "_view_module_version": "1.5.0",
            "_view_name": "ProgressView",
            "bar_style": "success",
            "description": "",
            "description_tooltip": null,
            "layout": "IPY_MODEL_1915517bfaee4d13a36605d1acbfeba9",
            "max": 576,
            "min": 0,
            "orientation": "horizontal",
            "style": "IPY_MODEL_9f8dd31867814b15a15d96dd1e87ef26",
            "value": 576
          }
        },
        "b8df57e862c74d92b8898701060a1bd8": {
          "model_module": "@jupyter-widgets/controls",
          "model_name": "HTMLModel",
          "model_module_version": "1.5.0",
          "state": {
            "_dom_classes": [],
            "_model_module": "@jupyter-widgets/controls",
            "_model_module_version": "1.5.0",
            "_model_name": "HTMLModel",
            "_view_count": null,
            "_view_module": "@jupyter-widgets/controls",
            "_view_module_version": "1.5.0",
            "_view_name": "HTMLView",
            "description": "",
            "description_tooltip": null,
            "layout": "IPY_MODEL_5230c6bd980146d38b6740f0e2f7622e",
            "placeholder": "​",
            "style": "IPY_MODEL_7094c25f1d544ec4b85198be9c8f73f5",
            "value": " 576/576 [00:00&lt;00:00, 6606.81 examples/s]"
          }
        },
        "d2b79272c62e4ed38815508abb7d794f": {
          "model_module": "@jupyter-widgets/base",
          "model_name": "LayoutModel",
          "model_module_version": "1.2.0",
          "state": {
            "_model_module": "@jupyter-widgets/base",
            "_model_module_version": "1.2.0",
            "_model_name": "LayoutModel",
            "_view_count": null,
            "_view_module": "@jupyter-widgets/base",
            "_view_module_version": "1.2.0",
            "_view_name": "LayoutView",
            "align_content": null,
            "align_items": null,
            "align_self": null,
            "border": null,
            "bottom": null,
            "display": null,
            "flex": null,
            "flex_flow": null,
            "grid_area": null,
            "grid_auto_columns": null,
            "grid_auto_flow": null,
            "grid_auto_rows": null,
            "grid_column": null,
            "grid_gap": null,
            "grid_row": null,
            "grid_template_areas": null,
            "grid_template_columns": null,
            "grid_template_rows": null,
            "height": null,
            "justify_content": null,
            "justify_items": null,
            "left": null,
            "margin": null,
            "max_height": null,
            "max_width": null,
            "min_height": null,
            "min_width": null,
            "object_fit": null,
            "object_position": null,
            "order": null,
            "overflow": null,
            "overflow_x": null,
            "overflow_y": null,
            "padding": null,
            "right": null,
            "top": null,
            "visibility": null,
            "width": null
          }
        },
        "e999b8112a804b8d8c1be4bc22342643": {
          "model_module": "@jupyter-widgets/base",
          "model_name": "LayoutModel",
          "model_module_version": "1.2.0",
          "state": {
            "_model_module": "@jupyter-widgets/base",
            "_model_module_version": "1.2.0",
            "_model_name": "LayoutModel",
            "_view_count": null,
            "_view_module": "@jupyter-widgets/base",
            "_view_module_version": "1.2.0",
            "_view_name": "LayoutView",
            "align_content": null,
            "align_items": null,
            "align_self": null,
            "border": null,
            "bottom": null,
            "display": null,
            "flex": null,
            "flex_flow": null,
            "grid_area": null,
            "grid_auto_columns": null,
            "grid_auto_flow": null,
            "grid_auto_rows": null,
            "grid_column": null,
            "grid_gap": null,
            "grid_row": null,
            "grid_template_areas": null,
            "grid_template_columns": null,
            "grid_template_rows": null,
            "height": null,
            "justify_content": null,
            "justify_items": null,
            "left": null,
            "margin": null,
            "max_height": null,
            "max_width": null,
            "min_height": null,
            "min_width": null,
            "object_fit": null,
            "object_position": null,
            "order": null,
            "overflow": null,
            "overflow_x": null,
            "overflow_y": null,
            "padding": null,
            "right": null,
            "top": null,
            "visibility": null,
            "width": null
          }
        },
        "7cf8d528f88646e59f6a439764f12592": {
          "model_module": "@jupyter-widgets/controls",
          "model_name": "DescriptionStyleModel",
          "model_module_version": "1.5.0",
          "state": {
            "_model_module": "@jupyter-widgets/controls",
            "_model_module_version": "1.5.0",
            "_model_name": "DescriptionStyleModel",
            "_view_count": null,
            "_view_module": "@jupyter-widgets/base",
            "_view_module_version": "1.2.0",
            "_view_name": "StyleView",
            "description_width": ""
          }
        },
        "1915517bfaee4d13a36605d1acbfeba9": {
          "model_module": "@jupyter-widgets/base",
          "model_name": "LayoutModel",
          "model_module_version": "1.2.0",
          "state": {
            "_model_module": "@jupyter-widgets/base",
            "_model_module_version": "1.2.0",
            "_model_name": "LayoutModel",
            "_view_count": null,
            "_view_module": "@jupyter-widgets/base",
            "_view_module_version": "1.2.0",
            "_view_name": "LayoutView",
            "align_content": null,
            "align_items": null,
            "align_self": null,
            "border": null,
            "bottom": null,
            "display": null,
            "flex": null,
            "flex_flow": null,
            "grid_area": null,
            "grid_auto_columns": null,
            "grid_auto_flow": null,
            "grid_auto_rows": null,
            "grid_column": null,
            "grid_gap": null,
            "grid_row": null,
            "grid_template_areas": null,
            "grid_template_columns": null,
            "grid_template_rows": null,
            "height": null,
            "justify_content": null,
            "justify_items": null,
            "left": null,
            "margin": null,
            "max_height": null,
            "max_width": null,
            "min_height": null,
            "min_width": null,
            "object_fit": null,
            "object_position": null,
            "order": null,
            "overflow": null,
            "overflow_x": null,
            "overflow_y": null,
            "padding": null,
            "right": null,
            "top": null,
            "visibility": null,
            "width": null
          }
        },
        "9f8dd31867814b15a15d96dd1e87ef26": {
          "model_module": "@jupyter-widgets/controls",
          "model_name": "ProgressStyleModel",
          "model_module_version": "1.5.0",
          "state": {
            "_model_module": "@jupyter-widgets/controls",
            "_model_module_version": "1.5.0",
            "_model_name": "ProgressStyleModel",
            "_view_count": null,
            "_view_module": "@jupyter-widgets/base",
            "_view_module_version": "1.2.0",
            "_view_name": "StyleView",
            "bar_color": null,
            "description_width": ""
          }
        },
        "5230c6bd980146d38b6740f0e2f7622e": {
          "model_module": "@jupyter-widgets/base",
          "model_name": "LayoutModel",
          "model_module_version": "1.2.0",
          "state": {
            "_model_module": "@jupyter-widgets/base",
            "_model_module_version": "1.2.0",
            "_model_name": "LayoutModel",
            "_view_count": null,
            "_view_module": "@jupyter-widgets/base",
            "_view_module_version": "1.2.0",
            "_view_name": "LayoutView",
            "align_content": null,
            "align_items": null,
            "align_self": null,
            "border": null,
            "bottom": null,
            "display": null,
            "flex": null,
            "flex_flow": null,
            "grid_area": null,
            "grid_auto_columns": null,
            "grid_auto_flow": null,
            "grid_auto_rows": null,
            "grid_column": null,
            "grid_gap": null,
            "grid_row": null,
            "grid_template_areas": null,
            "grid_template_columns": null,
            "grid_template_rows": null,
            "height": null,
            "justify_content": null,
            "justify_items": null,
            "left": null,
            "margin": null,
            "max_height": null,
            "max_width": null,
            "min_height": null,
            "min_width": null,
            "object_fit": null,
            "object_position": null,
            "order": null,
            "overflow": null,
            "overflow_x": null,
            "overflow_y": null,
            "padding": null,
            "right": null,
            "top": null,
            "visibility": null,
            "width": null
          }
        },
        "7094c25f1d544ec4b85198be9c8f73f5": {
          "model_module": "@jupyter-widgets/controls",
          "model_name": "DescriptionStyleModel",
          "model_module_version": "1.5.0",
          "state": {
            "_model_module": "@jupyter-widgets/controls",
            "_model_module_version": "1.5.0",
            "_model_name": "DescriptionStyleModel",
            "_view_count": null,
            "_view_module": "@jupyter-widgets/base",
            "_view_module_version": "1.2.0",
            "_view_name": "StyleView",
            "description_width": ""
          }
        },
        "ab01529bec66446c890d4906fcbddaa0": {
          "model_module": "@jupyter-widgets/controls",
          "model_name": "HBoxModel",
          "model_module_version": "1.5.0",
          "state": {
            "_dom_classes": [],
            "_model_module": "@jupyter-widgets/controls",
            "_model_module_version": "1.5.0",
            "_model_name": "HBoxModel",
            "_view_count": null,
            "_view_module": "@jupyter-widgets/controls",
            "_view_module_version": "1.5.0",
            "_view_name": "HBoxView",
            "box_style": "",
            "children": [
              "IPY_MODEL_2687c5f0a9b94776b4dfc61b5f4ad4db",
              "IPY_MODEL_6f7feab9cd7b491bae38a019e846fa4f",
              "IPY_MODEL_cad76ec7e0fa4bb2a02bde41e83c0a1e"
            ],
            "layout": "IPY_MODEL_06662a255d37400797847a3b43692c4d"
          }
        },
        "2687c5f0a9b94776b4dfc61b5f4ad4db": {
          "model_module": "@jupyter-widgets/controls",
          "model_name": "HTMLModel",
          "model_module_version": "1.5.0",
          "state": {
            "_dom_classes": [],
            "_model_module": "@jupyter-widgets/controls",
            "_model_module_version": "1.5.0",
            "_model_name": "HTMLModel",
            "_view_count": null,
            "_view_module": "@jupyter-widgets/controls",
            "_view_module_version": "1.5.0",
            "_view_name": "HTMLView",
            "description": "",
            "description_tooltip": null,
            "layout": "IPY_MODEL_6c0ed23c2a6a4381905ee2a5e1493c61",
            "placeholder": "​",
            "style": "IPY_MODEL_67dfe7c29ee24c249e22d1251749146b",
            "value": "Map: 100%"
          }
        },
        "6f7feab9cd7b491bae38a019e846fa4f": {
          "model_module": "@jupyter-widgets/controls",
          "model_name": "FloatProgressModel",
          "model_module_version": "1.5.0",
          "state": {
            "_dom_classes": [],
            "_model_module": "@jupyter-widgets/controls",
            "_model_module_version": "1.5.0",
            "_model_name": "FloatProgressModel",
            "_view_count": null,
            "_view_module": "@jupyter-widgets/controls",
            "_view_module_version": "1.5.0",
            "_view_name": "ProgressView",
            "bar_style": "success",
            "description": "",
            "description_tooltip": null,
            "layout": "IPY_MODEL_72f2d41eaced49048f3d492452b87289",
            "max": 144,
            "min": 0,
            "orientation": "horizontal",
            "style": "IPY_MODEL_b41f623d7b254e36abe803b55a4870bc",
            "value": 144
          }
        },
        "cad76ec7e0fa4bb2a02bde41e83c0a1e": {
          "model_module": "@jupyter-widgets/controls",
          "model_name": "HTMLModel",
          "model_module_version": "1.5.0",
          "state": {
            "_dom_classes": [],
            "_model_module": "@jupyter-widgets/controls",
            "_model_module_version": "1.5.0",
            "_model_name": "HTMLModel",
            "_view_count": null,
            "_view_module": "@jupyter-widgets/controls",
            "_view_module_version": "1.5.0",
            "_view_name": "HTMLView",
            "description": "",
            "description_tooltip": null,
            "layout": "IPY_MODEL_36ada2a8cf9a4fe0b2fb6d7096a1e396",
            "placeholder": "​",
            "style": "IPY_MODEL_2bf9e43822fb48b9b8c07bb14d48bbe0",
            "value": " 144/144 [00:00&lt;00:00, 3310.28 examples/s]"
          }
        },
        "06662a255d37400797847a3b43692c4d": {
          "model_module": "@jupyter-widgets/base",
          "model_name": "LayoutModel",
          "model_module_version": "1.2.0",
          "state": {
            "_model_module": "@jupyter-widgets/base",
            "_model_module_version": "1.2.0",
            "_model_name": "LayoutModel",
            "_view_count": null,
            "_view_module": "@jupyter-widgets/base",
            "_view_module_version": "1.2.0",
            "_view_name": "LayoutView",
            "align_content": null,
            "align_items": null,
            "align_self": null,
            "border": null,
            "bottom": null,
            "display": null,
            "flex": null,
            "flex_flow": null,
            "grid_area": null,
            "grid_auto_columns": null,
            "grid_auto_flow": null,
            "grid_auto_rows": null,
            "grid_column": null,
            "grid_gap": null,
            "grid_row": null,
            "grid_template_areas": null,
            "grid_template_columns": null,
            "grid_template_rows": null,
            "height": null,
            "justify_content": null,
            "justify_items": null,
            "left": null,
            "margin": null,
            "max_height": null,
            "max_width": null,
            "min_height": null,
            "min_width": null,
            "object_fit": null,
            "object_position": null,
            "order": null,
            "overflow": null,
            "overflow_x": null,
            "overflow_y": null,
            "padding": null,
            "right": null,
            "top": null,
            "visibility": null,
            "width": null
          }
        },
        "6c0ed23c2a6a4381905ee2a5e1493c61": {
          "model_module": "@jupyter-widgets/base",
          "model_name": "LayoutModel",
          "model_module_version": "1.2.0",
          "state": {
            "_model_module": "@jupyter-widgets/base",
            "_model_module_version": "1.2.0",
            "_model_name": "LayoutModel",
            "_view_count": null,
            "_view_module": "@jupyter-widgets/base",
            "_view_module_version": "1.2.0",
            "_view_name": "LayoutView",
            "align_content": null,
            "align_items": null,
            "align_self": null,
            "border": null,
            "bottom": null,
            "display": null,
            "flex": null,
            "flex_flow": null,
            "grid_area": null,
            "grid_auto_columns": null,
            "grid_auto_flow": null,
            "grid_auto_rows": null,
            "grid_column": null,
            "grid_gap": null,
            "grid_row": null,
            "grid_template_areas": null,
            "grid_template_columns": null,
            "grid_template_rows": null,
            "height": null,
            "justify_content": null,
            "justify_items": null,
            "left": null,
            "margin": null,
            "max_height": null,
            "max_width": null,
            "min_height": null,
            "min_width": null,
            "object_fit": null,
            "object_position": null,
            "order": null,
            "overflow": null,
            "overflow_x": null,
            "overflow_y": null,
            "padding": null,
            "right": null,
            "top": null,
            "visibility": null,
            "width": null
          }
        },
        "67dfe7c29ee24c249e22d1251749146b": {
          "model_module": "@jupyter-widgets/controls",
          "model_name": "DescriptionStyleModel",
          "model_module_version": "1.5.0",
          "state": {
            "_model_module": "@jupyter-widgets/controls",
            "_model_module_version": "1.5.0",
            "_model_name": "DescriptionStyleModel",
            "_view_count": null,
            "_view_module": "@jupyter-widgets/base",
            "_view_module_version": "1.2.0",
            "_view_name": "StyleView",
            "description_width": ""
          }
        },
        "72f2d41eaced49048f3d492452b87289": {
          "model_module": "@jupyter-widgets/base",
          "model_name": "LayoutModel",
          "model_module_version": "1.2.0",
          "state": {
            "_model_module": "@jupyter-widgets/base",
            "_model_module_version": "1.2.0",
            "_model_name": "LayoutModel",
            "_view_count": null,
            "_view_module": "@jupyter-widgets/base",
            "_view_module_version": "1.2.0",
            "_view_name": "LayoutView",
            "align_content": null,
            "align_items": null,
            "align_self": null,
            "border": null,
            "bottom": null,
            "display": null,
            "flex": null,
            "flex_flow": null,
            "grid_area": null,
            "grid_auto_columns": null,
            "grid_auto_flow": null,
            "grid_auto_rows": null,
            "grid_column": null,
            "grid_gap": null,
            "grid_row": null,
            "grid_template_areas": null,
            "grid_template_columns": null,
            "grid_template_rows": null,
            "height": null,
            "justify_content": null,
            "justify_items": null,
            "left": null,
            "margin": null,
            "max_height": null,
            "max_width": null,
            "min_height": null,
            "min_width": null,
            "object_fit": null,
            "object_position": null,
            "order": null,
            "overflow": null,
            "overflow_x": null,
            "overflow_y": null,
            "padding": null,
            "right": null,
            "top": null,
            "visibility": null,
            "width": null
          }
        },
        "b41f623d7b254e36abe803b55a4870bc": {
          "model_module": "@jupyter-widgets/controls",
          "model_name": "ProgressStyleModel",
          "model_module_version": "1.5.0",
          "state": {
            "_model_module": "@jupyter-widgets/controls",
            "_model_module_version": "1.5.0",
            "_model_name": "ProgressStyleModel",
            "_view_count": null,
            "_view_module": "@jupyter-widgets/base",
            "_view_module_version": "1.2.0",
            "_view_name": "StyleView",
            "bar_color": null,
            "description_width": ""
          }
        },
        "36ada2a8cf9a4fe0b2fb6d7096a1e396": {
          "model_module": "@jupyter-widgets/base",
          "model_name": "LayoutModel",
          "model_module_version": "1.2.0",
          "state": {
            "_model_module": "@jupyter-widgets/base",
            "_model_module_version": "1.2.0",
            "_model_name": "LayoutModel",
            "_view_count": null,
            "_view_module": "@jupyter-widgets/base",
            "_view_module_version": "1.2.0",
            "_view_name": "LayoutView",
            "align_content": null,
            "align_items": null,
            "align_self": null,
            "border": null,
            "bottom": null,
            "display": null,
            "flex": null,
            "flex_flow": null,
            "grid_area": null,
            "grid_auto_columns": null,
            "grid_auto_flow": null,
            "grid_auto_rows": null,
            "grid_column": null,
            "grid_gap": null,
            "grid_row": null,
            "grid_template_areas": null,
            "grid_template_columns": null,
            "grid_template_rows": null,
            "height": null,
            "justify_content": null,
            "justify_items": null,
            "left": null,
            "margin": null,
            "max_height": null,
            "max_width": null,
            "min_height": null,
            "min_width": null,
            "object_fit": null,
            "object_position": null,
            "order": null,
            "overflow": null,
            "overflow_x": null,
            "overflow_y": null,
            "padding": null,
            "right": null,
            "top": null,
            "visibility": null,
            "width": null
          }
        },
        "2bf9e43822fb48b9b8c07bb14d48bbe0": {
          "model_module": "@jupyter-widgets/controls",
          "model_name": "DescriptionStyleModel",
          "model_module_version": "1.5.0",
          "state": {
            "_model_module": "@jupyter-widgets/controls",
            "_model_module_version": "1.5.0",
            "_model_name": "DescriptionStyleModel",
            "_view_count": null,
            "_view_module": "@jupyter-widgets/base",
            "_view_module_version": "1.2.0",
            "_view_name": "StyleView",
            "description_width": ""
          }
        },
        "a20fd776d3ca4278884b60c3c2300714": {
          "model_module": "@jupyter-widgets/controls",
          "model_name": "HBoxModel",
          "model_module_version": "1.5.0",
          "state": {
            "_dom_classes": [],
            "_model_module": "@jupyter-widgets/controls",
            "_model_module_version": "1.5.0",
            "_model_name": "HBoxModel",
            "_view_count": null,
            "_view_module": "@jupyter-widgets/controls",
            "_view_module_version": "1.5.0",
            "_view_name": "HBoxView",
            "box_style": "",
            "children": [
              "IPY_MODEL_8afb5a9a90914017b19b219f9ac45b87",
              "IPY_MODEL_52bc43dd60aa4c5e9594c8fa5c1b9a2c",
              "IPY_MODEL_d79b2b66313e4a60af975e3e12621ae4"
            ],
            "layout": "IPY_MODEL_5bfcd259406d42ec86c762193654958f"
          }
        },
        "8afb5a9a90914017b19b219f9ac45b87": {
          "model_module": "@jupyter-widgets/controls",
          "model_name": "HTMLModel",
          "model_module_version": "1.5.0",
          "state": {
            "_dom_classes": [],
            "_model_module": "@jupyter-widgets/controls",
            "_model_module_version": "1.5.0",
            "_model_name": "HTMLModel",
            "_view_count": null,
            "_view_module": "@jupyter-widgets/controls",
            "_view_module_version": "1.5.0",
            "_view_name": "HTMLView",
            "description": "",
            "description_tooltip": null,
            "layout": "IPY_MODEL_8b4eb8fe725949b4a53e05f6651e4b0f",
            "placeholder": "​",
            "style": "IPY_MODEL_623a174d3b124dc995d88f1a319d98db",
            "value": "Map: 100%"
          }
        },
        "52bc43dd60aa4c5e9594c8fa5c1b9a2c": {
          "model_module": "@jupyter-widgets/controls",
          "model_name": "FloatProgressModel",
          "model_module_version": "1.5.0",
          "state": {
            "_dom_classes": [],
            "_model_module": "@jupyter-widgets/controls",
            "_model_module_version": "1.5.0",
            "_model_name": "FloatProgressModel",
            "_view_count": null,
            "_view_module": "@jupyter-widgets/controls",
            "_view_module_version": "1.5.0",
            "_view_name": "ProgressView",
            "bar_style": "success",
            "description": "",
            "description_tooltip": null,
            "layout": "IPY_MODEL_f99f0674641e43daa61c3f674b6c8b42",
            "max": 576,
            "min": 0,
            "orientation": "horizontal",
            "style": "IPY_MODEL_17afb452b2fd439f9e6ae7c644398767",
            "value": 576
          }
        },
        "d79b2b66313e4a60af975e3e12621ae4": {
          "model_module": "@jupyter-widgets/controls",
          "model_name": "HTMLModel",
          "model_module_version": "1.5.0",
          "state": {
            "_dom_classes": [],
            "_model_module": "@jupyter-widgets/controls",
            "_model_module_version": "1.5.0",
            "_model_name": "HTMLModel",
            "_view_count": null,
            "_view_module": "@jupyter-widgets/controls",
            "_view_module_version": "1.5.0",
            "_view_name": "HTMLView",
            "description": "",
            "description_tooltip": null,
            "layout": "IPY_MODEL_e8a0c98d827646c69d37c4a7b02a417c",
            "placeholder": "​",
            "style": "IPY_MODEL_83db2d71b4254cdcb7dfae0954fb35ca",
            "value": " 576/576 [00:00&lt;00:00, 3508.67 examples/s]"
          }
        },
        "5bfcd259406d42ec86c762193654958f": {
          "model_module": "@jupyter-widgets/base",
          "model_name": "LayoutModel",
          "model_module_version": "1.2.0",
          "state": {
            "_model_module": "@jupyter-widgets/base",
            "_model_module_version": "1.2.0",
            "_model_name": "LayoutModel",
            "_view_count": null,
            "_view_module": "@jupyter-widgets/base",
            "_view_module_version": "1.2.0",
            "_view_name": "LayoutView",
            "align_content": null,
            "align_items": null,
            "align_self": null,
            "border": null,
            "bottom": null,
            "display": null,
            "flex": null,
            "flex_flow": null,
            "grid_area": null,
            "grid_auto_columns": null,
            "grid_auto_flow": null,
            "grid_auto_rows": null,
            "grid_column": null,
            "grid_gap": null,
            "grid_row": null,
            "grid_template_areas": null,
            "grid_template_columns": null,
            "grid_template_rows": null,
            "height": null,
            "justify_content": null,
            "justify_items": null,
            "left": null,
            "margin": null,
            "max_height": null,
            "max_width": null,
            "min_height": null,
            "min_width": null,
            "object_fit": null,
            "object_position": null,
            "order": null,
            "overflow": null,
            "overflow_x": null,
            "overflow_y": null,
            "padding": null,
            "right": null,
            "top": null,
            "visibility": null,
            "width": null
          }
        },
        "8b4eb8fe725949b4a53e05f6651e4b0f": {
          "model_module": "@jupyter-widgets/base",
          "model_name": "LayoutModel",
          "model_module_version": "1.2.0",
          "state": {
            "_model_module": "@jupyter-widgets/base",
            "_model_module_version": "1.2.0",
            "_model_name": "LayoutModel",
            "_view_count": null,
            "_view_module": "@jupyter-widgets/base",
            "_view_module_version": "1.2.0",
            "_view_name": "LayoutView",
            "align_content": null,
            "align_items": null,
            "align_self": null,
            "border": null,
            "bottom": null,
            "display": null,
            "flex": null,
            "flex_flow": null,
            "grid_area": null,
            "grid_auto_columns": null,
            "grid_auto_flow": null,
            "grid_auto_rows": null,
            "grid_column": null,
            "grid_gap": null,
            "grid_row": null,
            "grid_template_areas": null,
            "grid_template_columns": null,
            "grid_template_rows": null,
            "height": null,
            "justify_content": null,
            "justify_items": null,
            "left": null,
            "margin": null,
            "max_height": null,
            "max_width": null,
            "min_height": null,
            "min_width": null,
            "object_fit": null,
            "object_position": null,
            "order": null,
            "overflow": null,
            "overflow_x": null,
            "overflow_y": null,
            "padding": null,
            "right": null,
            "top": null,
            "visibility": null,
            "width": null
          }
        },
        "623a174d3b124dc995d88f1a319d98db": {
          "model_module": "@jupyter-widgets/controls",
          "model_name": "DescriptionStyleModel",
          "model_module_version": "1.5.0",
          "state": {
            "_model_module": "@jupyter-widgets/controls",
            "_model_module_version": "1.5.0",
            "_model_name": "DescriptionStyleModel",
            "_view_count": null,
            "_view_module": "@jupyter-widgets/base",
            "_view_module_version": "1.2.0",
            "_view_name": "StyleView",
            "description_width": ""
          }
        },
        "f99f0674641e43daa61c3f674b6c8b42": {
          "model_module": "@jupyter-widgets/base",
          "model_name": "LayoutModel",
          "model_module_version": "1.2.0",
          "state": {
            "_model_module": "@jupyter-widgets/base",
            "_model_module_version": "1.2.0",
            "_model_name": "LayoutModel",
            "_view_count": null,
            "_view_module": "@jupyter-widgets/base",
            "_view_module_version": "1.2.0",
            "_view_name": "LayoutView",
            "align_content": null,
            "align_items": null,
            "align_self": null,
            "border": null,
            "bottom": null,
            "display": null,
            "flex": null,
            "flex_flow": null,
            "grid_area": null,
            "grid_auto_columns": null,
            "grid_auto_flow": null,
            "grid_auto_rows": null,
            "grid_column": null,
            "grid_gap": null,
            "grid_row": null,
            "grid_template_areas": null,
            "grid_template_columns": null,
            "grid_template_rows": null,
            "height": null,
            "justify_content": null,
            "justify_items": null,
            "left": null,
            "margin": null,
            "max_height": null,
            "max_width": null,
            "min_height": null,
            "min_width": null,
            "object_fit": null,
            "object_position": null,
            "order": null,
            "overflow": null,
            "overflow_x": null,
            "overflow_y": null,
            "padding": null,
            "right": null,
            "top": null,
            "visibility": null,
            "width": null
          }
        },
        "17afb452b2fd439f9e6ae7c644398767": {
          "model_module": "@jupyter-widgets/controls",
          "model_name": "ProgressStyleModel",
          "model_module_version": "1.5.0",
          "state": {
            "_model_module": "@jupyter-widgets/controls",
            "_model_module_version": "1.5.0",
            "_model_name": "ProgressStyleModel",
            "_view_count": null,
            "_view_module": "@jupyter-widgets/base",
            "_view_module_version": "1.2.0",
            "_view_name": "StyleView",
            "bar_color": null,
            "description_width": ""
          }
        },
        "e8a0c98d827646c69d37c4a7b02a417c": {
          "model_module": "@jupyter-widgets/base",
          "model_name": "LayoutModel",
          "model_module_version": "1.2.0",
          "state": {
            "_model_module": "@jupyter-widgets/base",
            "_model_module_version": "1.2.0",
            "_model_name": "LayoutModel",
            "_view_count": null,
            "_view_module": "@jupyter-widgets/base",
            "_view_module_version": "1.2.0",
            "_view_name": "LayoutView",
            "align_content": null,
            "align_items": null,
            "align_self": null,
            "border": null,
            "bottom": null,
            "display": null,
            "flex": null,
            "flex_flow": null,
            "grid_area": null,
            "grid_auto_columns": null,
            "grid_auto_flow": null,
            "grid_auto_rows": null,
            "grid_column": null,
            "grid_gap": null,
            "grid_row": null,
            "grid_template_areas": null,
            "grid_template_columns": null,
            "grid_template_rows": null,
            "height": null,
            "justify_content": null,
            "justify_items": null,
            "left": null,
            "margin": null,
            "max_height": null,
            "max_width": null,
            "min_height": null,
            "min_width": null,
            "object_fit": null,
            "object_position": null,
            "order": null,
            "overflow": null,
            "overflow_x": null,
            "overflow_y": null,
            "padding": null,
            "right": null,
            "top": null,
            "visibility": null,
            "width": null
          }
        },
        "83db2d71b4254cdcb7dfae0954fb35ca": {
          "model_module": "@jupyter-widgets/controls",
          "model_name": "DescriptionStyleModel",
          "model_module_version": "1.5.0",
          "state": {
            "_model_module": "@jupyter-widgets/controls",
            "_model_module_version": "1.5.0",
            "_model_name": "DescriptionStyleModel",
            "_view_count": null,
            "_view_module": "@jupyter-widgets/base",
            "_view_module_version": "1.2.0",
            "_view_name": "StyleView",
            "description_width": ""
          }
        },
        "3990b76218734f3fb252e3e1c22b6f2c": {
          "model_module": "@jupyter-widgets/controls",
          "model_name": "HBoxModel",
          "model_module_version": "1.5.0",
          "state": {
            "_dom_classes": [],
            "_model_module": "@jupyter-widgets/controls",
            "_model_module_version": "1.5.0",
            "_model_name": "HBoxModel",
            "_view_count": null,
            "_view_module": "@jupyter-widgets/controls",
            "_view_module_version": "1.5.0",
            "_view_name": "HBoxView",
            "box_style": "",
            "children": [
              "IPY_MODEL_068fe214f3354c95a1768b135c61cfd4",
              "IPY_MODEL_dacc65e69a144be38940b4441396c040",
              "IPY_MODEL_ba3f4ab905c14e93bb7a4d2b974e3439"
            ],
            "layout": "IPY_MODEL_165ac8a865354c2a9ff97ddad1209187"
          }
        },
        "068fe214f3354c95a1768b135c61cfd4": {
          "model_module": "@jupyter-widgets/controls",
          "model_name": "HTMLModel",
          "model_module_version": "1.5.0",
          "state": {
            "_dom_classes": [],
            "_model_module": "@jupyter-widgets/controls",
            "_model_module_version": "1.5.0",
            "_model_name": "HTMLModel",
            "_view_count": null,
            "_view_module": "@jupyter-widgets/controls",
            "_view_module_version": "1.5.0",
            "_view_name": "HTMLView",
            "description": "",
            "description_tooltip": null,
            "layout": "IPY_MODEL_efa21ee52d294b9e92e41e45cb63c734",
            "placeholder": "​",
            "style": "IPY_MODEL_7ca51dbaeba4456f824d1c4bcea47c1d",
            "value": "Map: 100%"
          }
        },
        "dacc65e69a144be38940b4441396c040": {
          "model_module": "@jupyter-widgets/controls",
          "model_name": "FloatProgressModel",
          "model_module_version": "1.5.0",
          "state": {
            "_dom_classes": [],
            "_model_module": "@jupyter-widgets/controls",
            "_model_module_version": "1.5.0",
            "_model_name": "FloatProgressModel",
            "_view_count": null,
            "_view_module": "@jupyter-widgets/controls",
            "_view_module_version": "1.5.0",
            "_view_name": "ProgressView",
            "bar_style": "success",
            "description": "",
            "description_tooltip": null,
            "layout": "IPY_MODEL_6860fc37a6194df0a0cf5c5c7e2f7000",
            "max": 576,
            "min": 0,
            "orientation": "horizontal",
            "style": "IPY_MODEL_8770c8cff01a46daa407ffe7758888a0",
            "value": 576
          }
        },
        "ba3f4ab905c14e93bb7a4d2b974e3439": {
          "model_module": "@jupyter-widgets/controls",
          "model_name": "HTMLModel",
          "model_module_version": "1.5.0",
          "state": {
            "_dom_classes": [],
            "_model_module": "@jupyter-widgets/controls",
            "_model_module_version": "1.5.0",
            "_model_name": "HTMLModel",
            "_view_count": null,
            "_view_module": "@jupyter-widgets/controls",
            "_view_module_version": "1.5.0",
            "_view_name": "HTMLView",
            "description": "",
            "description_tooltip": null,
            "layout": "IPY_MODEL_92fddb018aaf405fa38d2db73e33466e",
            "placeholder": "​",
            "style": "IPY_MODEL_fa1e1fcb65f645418ded90347d2cb0b8",
            "value": " 576/576 [00:00&lt;00:00, 2099.37 examples/s]"
          }
        },
        "165ac8a865354c2a9ff97ddad1209187": {
          "model_module": "@jupyter-widgets/base",
          "model_name": "LayoutModel",
          "model_module_version": "1.2.0",
          "state": {
            "_model_module": "@jupyter-widgets/base",
            "_model_module_version": "1.2.0",
            "_model_name": "LayoutModel",
            "_view_count": null,
            "_view_module": "@jupyter-widgets/base",
            "_view_module_version": "1.2.0",
            "_view_name": "LayoutView",
            "align_content": null,
            "align_items": null,
            "align_self": null,
            "border": null,
            "bottom": null,
            "display": null,
            "flex": null,
            "flex_flow": null,
            "grid_area": null,
            "grid_auto_columns": null,
            "grid_auto_flow": null,
            "grid_auto_rows": null,
            "grid_column": null,
            "grid_gap": null,
            "grid_row": null,
            "grid_template_areas": null,
            "grid_template_columns": null,
            "grid_template_rows": null,
            "height": null,
            "justify_content": null,
            "justify_items": null,
            "left": null,
            "margin": null,
            "max_height": null,
            "max_width": null,
            "min_height": null,
            "min_width": null,
            "object_fit": null,
            "object_position": null,
            "order": null,
            "overflow": null,
            "overflow_x": null,
            "overflow_y": null,
            "padding": null,
            "right": null,
            "top": null,
            "visibility": null,
            "width": null
          }
        },
        "efa21ee52d294b9e92e41e45cb63c734": {
          "model_module": "@jupyter-widgets/base",
          "model_name": "LayoutModel",
          "model_module_version": "1.2.0",
          "state": {
            "_model_module": "@jupyter-widgets/base",
            "_model_module_version": "1.2.0",
            "_model_name": "LayoutModel",
            "_view_count": null,
            "_view_module": "@jupyter-widgets/base",
            "_view_module_version": "1.2.0",
            "_view_name": "LayoutView",
            "align_content": null,
            "align_items": null,
            "align_self": null,
            "border": null,
            "bottom": null,
            "display": null,
            "flex": null,
            "flex_flow": null,
            "grid_area": null,
            "grid_auto_columns": null,
            "grid_auto_flow": null,
            "grid_auto_rows": null,
            "grid_column": null,
            "grid_gap": null,
            "grid_row": null,
            "grid_template_areas": null,
            "grid_template_columns": null,
            "grid_template_rows": null,
            "height": null,
            "justify_content": null,
            "justify_items": null,
            "left": null,
            "margin": null,
            "max_height": null,
            "max_width": null,
            "min_height": null,
            "min_width": null,
            "object_fit": null,
            "object_position": null,
            "order": null,
            "overflow": null,
            "overflow_x": null,
            "overflow_y": null,
            "padding": null,
            "right": null,
            "top": null,
            "visibility": null,
            "width": null
          }
        },
        "7ca51dbaeba4456f824d1c4bcea47c1d": {
          "model_module": "@jupyter-widgets/controls",
          "model_name": "DescriptionStyleModel",
          "model_module_version": "1.5.0",
          "state": {
            "_model_module": "@jupyter-widgets/controls",
            "_model_module_version": "1.5.0",
            "_model_name": "DescriptionStyleModel",
            "_view_count": null,
            "_view_module": "@jupyter-widgets/base",
            "_view_module_version": "1.2.0",
            "_view_name": "StyleView",
            "description_width": ""
          }
        },
        "6860fc37a6194df0a0cf5c5c7e2f7000": {
          "model_module": "@jupyter-widgets/base",
          "model_name": "LayoutModel",
          "model_module_version": "1.2.0",
          "state": {
            "_model_module": "@jupyter-widgets/base",
            "_model_module_version": "1.2.0",
            "_model_name": "LayoutModel",
            "_view_count": null,
            "_view_module": "@jupyter-widgets/base",
            "_view_module_version": "1.2.0",
            "_view_name": "LayoutView",
            "align_content": null,
            "align_items": null,
            "align_self": null,
            "border": null,
            "bottom": null,
            "display": null,
            "flex": null,
            "flex_flow": null,
            "grid_area": null,
            "grid_auto_columns": null,
            "grid_auto_flow": null,
            "grid_auto_rows": null,
            "grid_column": null,
            "grid_gap": null,
            "grid_row": null,
            "grid_template_areas": null,
            "grid_template_columns": null,
            "grid_template_rows": null,
            "height": null,
            "justify_content": null,
            "justify_items": null,
            "left": null,
            "margin": null,
            "max_height": null,
            "max_width": null,
            "min_height": null,
            "min_width": null,
            "object_fit": null,
            "object_position": null,
            "order": null,
            "overflow": null,
            "overflow_x": null,
            "overflow_y": null,
            "padding": null,
            "right": null,
            "top": null,
            "visibility": null,
            "width": null
          }
        },
        "8770c8cff01a46daa407ffe7758888a0": {
          "model_module": "@jupyter-widgets/controls",
          "model_name": "ProgressStyleModel",
          "model_module_version": "1.5.0",
          "state": {
            "_model_module": "@jupyter-widgets/controls",
            "_model_module_version": "1.5.0",
            "_model_name": "ProgressStyleModel",
            "_view_count": null,
            "_view_module": "@jupyter-widgets/base",
            "_view_module_version": "1.2.0",
            "_view_name": "StyleView",
            "bar_color": null,
            "description_width": ""
          }
        },
        "92fddb018aaf405fa38d2db73e33466e": {
          "model_module": "@jupyter-widgets/base",
          "model_name": "LayoutModel",
          "model_module_version": "1.2.0",
          "state": {
            "_model_module": "@jupyter-widgets/base",
            "_model_module_version": "1.2.0",
            "_model_name": "LayoutModel",
            "_view_count": null,
            "_view_module": "@jupyter-widgets/base",
            "_view_module_version": "1.2.0",
            "_view_name": "LayoutView",
            "align_content": null,
            "align_items": null,
            "align_self": null,
            "border": null,
            "bottom": null,
            "display": null,
            "flex": null,
            "flex_flow": null,
            "grid_area": null,
            "grid_auto_columns": null,
            "grid_auto_flow": null,
            "grid_auto_rows": null,
            "grid_column": null,
            "grid_gap": null,
            "grid_row": null,
            "grid_template_areas": null,
            "grid_template_columns": null,
            "grid_template_rows": null,
            "height": null,
            "justify_content": null,
            "justify_items": null,
            "left": null,
            "margin": null,
            "max_height": null,
            "max_width": null,
            "min_height": null,
            "min_width": null,
            "object_fit": null,
            "object_position": null,
            "order": null,
            "overflow": null,
            "overflow_x": null,
            "overflow_y": null,
            "padding": null,
            "right": null,
            "top": null,
            "visibility": null,
            "width": null
          }
        },
        "fa1e1fcb65f645418ded90347d2cb0b8": {
          "model_module": "@jupyter-widgets/controls",
          "model_name": "DescriptionStyleModel",
          "model_module_version": "1.5.0",
          "state": {
            "_model_module": "@jupyter-widgets/controls",
            "_model_module_version": "1.5.0",
            "_model_name": "DescriptionStyleModel",
            "_view_count": null,
            "_view_module": "@jupyter-widgets/base",
            "_view_module_version": "1.2.0",
            "_view_name": "StyleView",
            "description_width": ""
          }
        },
        "663a18fe28744e39afcee85544dc43b3": {
          "model_module": "@jupyter-widgets/controls",
          "model_name": "HBoxModel",
          "model_module_version": "1.5.0",
          "state": {
            "_dom_classes": [],
            "_model_module": "@jupyter-widgets/controls",
            "_model_module_version": "1.5.0",
            "_model_name": "HBoxModel",
            "_view_count": null,
            "_view_module": "@jupyter-widgets/controls",
            "_view_module_version": "1.5.0",
            "_view_name": "HBoxView",
            "box_style": "",
            "children": [
              "IPY_MODEL_fb6360f31fbd45e28869ee43f5e22b61",
              "IPY_MODEL_0f82ca9566834293b5e5e775c34e671c",
              "IPY_MODEL_a548b99c845243f58257ef6402dd761e"
            ],
            "layout": "IPY_MODEL_af7fc1bbc8a8485fa773f7575ee08acb"
          }
        },
        "fb6360f31fbd45e28869ee43f5e22b61": {
          "model_module": "@jupyter-widgets/controls",
          "model_name": "HTMLModel",
          "model_module_version": "1.5.0",
          "state": {
            "_dom_classes": [],
            "_model_module": "@jupyter-widgets/controls",
            "_model_module_version": "1.5.0",
            "_model_name": "HTMLModel",
            "_view_count": null,
            "_view_module": "@jupyter-widgets/controls",
            "_view_module_version": "1.5.0",
            "_view_name": "HTMLView",
            "description": "",
            "description_tooltip": null,
            "layout": "IPY_MODEL_64abb412c84b427db0945a6df617139f",
            "placeholder": "​",
            "style": "IPY_MODEL_d328c7557c944b2cad01d68870699fde",
            "value": "Map: 100%"
          }
        },
        "0f82ca9566834293b5e5e775c34e671c": {
          "model_module": "@jupyter-widgets/controls",
          "model_name": "FloatProgressModel",
          "model_module_version": "1.5.0",
          "state": {
            "_dom_classes": [],
            "_model_module": "@jupyter-widgets/controls",
            "_model_module_version": "1.5.0",
            "_model_name": "FloatProgressModel",
            "_view_count": null,
            "_view_module": "@jupyter-widgets/controls",
            "_view_module_version": "1.5.0",
            "_view_name": "ProgressView",
            "bar_style": "success",
            "description": "",
            "description_tooltip": null,
            "layout": "IPY_MODEL_bd4693b353524e41ad6ef73b7f0ad9f8",
            "max": 144,
            "min": 0,
            "orientation": "horizontal",
            "style": "IPY_MODEL_e0abcb4e61c04437b4f5a1a8f71586e8",
            "value": 144
          }
        },
        "a548b99c845243f58257ef6402dd761e": {
          "model_module": "@jupyter-widgets/controls",
          "model_name": "HTMLModel",
          "model_module_version": "1.5.0",
          "state": {
            "_dom_classes": [],
            "_model_module": "@jupyter-widgets/controls",
            "_model_module_version": "1.5.0",
            "_model_name": "HTMLModel",
            "_view_count": null,
            "_view_module": "@jupyter-widgets/controls",
            "_view_module_version": "1.5.0",
            "_view_name": "HTMLView",
            "description": "",
            "description_tooltip": null,
            "layout": "IPY_MODEL_f048d024d3b642378527de0ae102167f",
            "placeholder": "​",
            "style": "IPY_MODEL_cb64522e2c4c4427a0fa60d266320f2e",
            "value": " 144/144 [00:00&lt;00:00, 2051.08 examples/s]"
          }
        },
        "af7fc1bbc8a8485fa773f7575ee08acb": {
          "model_module": "@jupyter-widgets/base",
          "model_name": "LayoutModel",
          "model_module_version": "1.2.0",
          "state": {
            "_model_module": "@jupyter-widgets/base",
            "_model_module_version": "1.2.0",
            "_model_name": "LayoutModel",
            "_view_count": null,
            "_view_module": "@jupyter-widgets/base",
            "_view_module_version": "1.2.0",
            "_view_name": "LayoutView",
            "align_content": null,
            "align_items": null,
            "align_self": null,
            "border": null,
            "bottom": null,
            "display": null,
            "flex": null,
            "flex_flow": null,
            "grid_area": null,
            "grid_auto_columns": null,
            "grid_auto_flow": null,
            "grid_auto_rows": null,
            "grid_column": null,
            "grid_gap": null,
            "grid_row": null,
            "grid_template_areas": null,
            "grid_template_columns": null,
            "grid_template_rows": null,
            "height": null,
            "justify_content": null,
            "justify_items": null,
            "left": null,
            "margin": null,
            "max_height": null,
            "max_width": null,
            "min_height": null,
            "min_width": null,
            "object_fit": null,
            "object_position": null,
            "order": null,
            "overflow": null,
            "overflow_x": null,
            "overflow_y": null,
            "padding": null,
            "right": null,
            "top": null,
            "visibility": null,
            "width": null
          }
        },
        "64abb412c84b427db0945a6df617139f": {
          "model_module": "@jupyter-widgets/base",
          "model_name": "LayoutModel",
          "model_module_version": "1.2.0",
          "state": {
            "_model_module": "@jupyter-widgets/base",
            "_model_module_version": "1.2.0",
            "_model_name": "LayoutModel",
            "_view_count": null,
            "_view_module": "@jupyter-widgets/base",
            "_view_module_version": "1.2.0",
            "_view_name": "LayoutView",
            "align_content": null,
            "align_items": null,
            "align_self": null,
            "border": null,
            "bottom": null,
            "display": null,
            "flex": null,
            "flex_flow": null,
            "grid_area": null,
            "grid_auto_columns": null,
            "grid_auto_flow": null,
            "grid_auto_rows": null,
            "grid_column": null,
            "grid_gap": null,
            "grid_row": null,
            "grid_template_areas": null,
            "grid_template_columns": null,
            "grid_template_rows": null,
            "height": null,
            "justify_content": null,
            "justify_items": null,
            "left": null,
            "margin": null,
            "max_height": null,
            "max_width": null,
            "min_height": null,
            "min_width": null,
            "object_fit": null,
            "object_position": null,
            "order": null,
            "overflow": null,
            "overflow_x": null,
            "overflow_y": null,
            "padding": null,
            "right": null,
            "top": null,
            "visibility": null,
            "width": null
          }
        },
        "d328c7557c944b2cad01d68870699fde": {
          "model_module": "@jupyter-widgets/controls",
          "model_name": "DescriptionStyleModel",
          "model_module_version": "1.5.0",
          "state": {
            "_model_module": "@jupyter-widgets/controls",
            "_model_module_version": "1.5.0",
            "_model_name": "DescriptionStyleModel",
            "_view_count": null,
            "_view_module": "@jupyter-widgets/base",
            "_view_module_version": "1.2.0",
            "_view_name": "StyleView",
            "description_width": ""
          }
        },
        "bd4693b353524e41ad6ef73b7f0ad9f8": {
          "model_module": "@jupyter-widgets/base",
          "model_name": "LayoutModel",
          "model_module_version": "1.2.0",
          "state": {
            "_model_module": "@jupyter-widgets/base",
            "_model_module_version": "1.2.0",
            "_model_name": "LayoutModel",
            "_view_count": null,
            "_view_module": "@jupyter-widgets/base",
            "_view_module_version": "1.2.0",
            "_view_name": "LayoutView",
            "align_content": null,
            "align_items": null,
            "align_self": null,
            "border": null,
            "bottom": null,
            "display": null,
            "flex": null,
            "flex_flow": null,
            "grid_area": null,
            "grid_auto_columns": null,
            "grid_auto_flow": null,
            "grid_auto_rows": null,
            "grid_column": null,
            "grid_gap": null,
            "grid_row": null,
            "grid_template_areas": null,
            "grid_template_columns": null,
            "grid_template_rows": null,
            "height": null,
            "justify_content": null,
            "justify_items": null,
            "left": null,
            "margin": null,
            "max_height": null,
            "max_width": null,
            "min_height": null,
            "min_width": null,
            "object_fit": null,
            "object_position": null,
            "order": null,
            "overflow": null,
            "overflow_x": null,
            "overflow_y": null,
            "padding": null,
            "right": null,
            "top": null,
            "visibility": null,
            "width": null
          }
        },
        "e0abcb4e61c04437b4f5a1a8f71586e8": {
          "model_module": "@jupyter-widgets/controls",
          "model_name": "ProgressStyleModel",
          "model_module_version": "1.5.0",
          "state": {
            "_model_module": "@jupyter-widgets/controls",
            "_model_module_version": "1.5.0",
            "_model_name": "ProgressStyleModel",
            "_view_count": null,
            "_view_module": "@jupyter-widgets/base",
            "_view_module_version": "1.2.0",
            "_view_name": "StyleView",
            "bar_color": null,
            "description_width": ""
          }
        },
        "f048d024d3b642378527de0ae102167f": {
          "model_module": "@jupyter-widgets/base",
          "model_name": "LayoutModel",
          "model_module_version": "1.2.0",
          "state": {
            "_model_module": "@jupyter-widgets/base",
            "_model_module_version": "1.2.0",
            "_model_name": "LayoutModel",
            "_view_count": null,
            "_view_module": "@jupyter-widgets/base",
            "_view_module_version": "1.2.0",
            "_view_name": "LayoutView",
            "align_content": null,
            "align_items": null,
            "align_self": null,
            "border": null,
            "bottom": null,
            "display": null,
            "flex": null,
            "flex_flow": null,
            "grid_area": null,
            "grid_auto_columns": null,
            "grid_auto_flow": null,
            "grid_auto_rows": null,
            "grid_column": null,
            "grid_gap": null,
            "grid_row": null,
            "grid_template_areas": null,
            "grid_template_columns": null,
            "grid_template_rows": null,
            "height": null,
            "justify_content": null,
            "justify_items": null,
            "left": null,
            "margin": null,
            "max_height": null,
            "max_width": null,
            "min_height": null,
            "min_width": null,
            "object_fit": null,
            "object_position": null,
            "order": null,
            "overflow": null,
            "overflow_x": null,
            "overflow_y": null,
            "padding": null,
            "right": null,
            "top": null,
            "visibility": null,
            "width": null
          }
        },
        "cb64522e2c4c4427a0fa60d266320f2e": {
          "model_module": "@jupyter-widgets/controls",
          "model_name": "DescriptionStyleModel",
          "model_module_version": "1.5.0",
          "state": {
            "_model_module": "@jupyter-widgets/controls",
            "_model_module_version": "1.5.0",
            "_model_name": "DescriptionStyleModel",
            "_view_count": null,
            "_view_module": "@jupyter-widgets/base",
            "_view_module_version": "1.2.0",
            "_view_name": "StyleView",
            "description_width": ""
          }
        },
        "29dc84908550499ab7f3407a2d9876d6": {
          "model_module": "@jupyter-widgets/controls",
          "model_name": "HBoxModel",
          "model_module_version": "1.5.0",
          "state": {
            "_dom_classes": [],
            "_model_module": "@jupyter-widgets/controls",
            "_model_module_version": "1.5.0",
            "_model_name": "HBoxModel",
            "_view_count": null,
            "_view_module": "@jupyter-widgets/controls",
            "_view_module_version": "1.5.0",
            "_view_name": "HBoxView",
            "box_style": "",
            "children": [
              "IPY_MODEL_ff5def51e7064c0989a6db9f124455f5",
              "IPY_MODEL_2549da54370a4bce87ac825290ced194",
              "IPY_MODEL_a7a10a7fd813442bb5f087ef81e9b4ee"
            ],
            "layout": "IPY_MODEL_f533455b6dbd4346a6ec5a6a67e4be81"
          }
        },
        "ff5def51e7064c0989a6db9f124455f5": {
          "model_module": "@jupyter-widgets/controls",
          "model_name": "HTMLModel",
          "model_module_version": "1.5.0",
          "state": {
            "_dom_classes": [],
            "_model_module": "@jupyter-widgets/controls",
            "_model_module_version": "1.5.0",
            "_model_name": "HTMLModel",
            "_view_count": null,
            "_view_module": "@jupyter-widgets/controls",
            "_view_module_version": "1.5.0",
            "_view_name": "HTMLView",
            "description": "",
            "description_tooltip": null,
            "layout": "IPY_MODEL_8f6d3e5f87654dda8427fba6293071d9",
            "placeholder": "​",
            "style": "IPY_MODEL_034b4ff249aa4a219fd649853c1ddbd9",
            "value": "Loading checkpoint shards: 100%"
          }
        },
        "2549da54370a4bce87ac825290ced194": {
          "model_module": "@jupyter-widgets/controls",
          "model_name": "FloatProgressModel",
          "model_module_version": "1.5.0",
          "state": {
            "_dom_classes": [],
            "_model_module": "@jupyter-widgets/controls",
            "_model_module_version": "1.5.0",
            "_model_name": "FloatProgressModel",
            "_view_count": null,
            "_view_module": "@jupyter-widgets/controls",
            "_view_module_version": "1.5.0",
            "_view_name": "ProgressView",
            "bar_style": "success",
            "description": "",
            "description_tooltip": null,
            "layout": "IPY_MODEL_75015818d50847f4815e032b8a0b1c68",
            "max": 2,
            "min": 0,
            "orientation": "horizontal",
            "style": "IPY_MODEL_09c1dfb22d89425790480869bfaca17a",
            "value": 2
          }
        },
        "a7a10a7fd813442bb5f087ef81e9b4ee": {
          "model_module": "@jupyter-widgets/controls",
          "model_name": "HTMLModel",
          "model_module_version": "1.5.0",
          "state": {
            "_dom_classes": [],
            "_model_module": "@jupyter-widgets/controls",
            "_model_module_version": "1.5.0",
            "_model_name": "HTMLModel",
            "_view_count": null,
            "_view_module": "@jupyter-widgets/controls",
            "_view_module_version": "1.5.0",
            "_view_name": "HTMLView",
            "description": "",
            "description_tooltip": null,
            "layout": "IPY_MODEL_7f0e65fb7077422fb9e9a149cfb6dadd",
            "placeholder": "​",
            "style": "IPY_MODEL_2bd42f3f12434f68a50f4c0c767d643b",
            "value": " 2/2 [00:20&lt;00:00,  8.91s/it]"
          }
        },
        "f533455b6dbd4346a6ec5a6a67e4be81": {
          "model_module": "@jupyter-widgets/base",
          "model_name": "LayoutModel",
          "model_module_version": "1.2.0",
          "state": {
            "_model_module": "@jupyter-widgets/base",
            "_model_module_version": "1.2.0",
            "_model_name": "LayoutModel",
            "_view_count": null,
            "_view_module": "@jupyter-widgets/base",
            "_view_module_version": "1.2.0",
            "_view_name": "LayoutView",
            "align_content": null,
            "align_items": null,
            "align_self": null,
            "border": null,
            "bottom": null,
            "display": null,
            "flex": null,
            "flex_flow": null,
            "grid_area": null,
            "grid_auto_columns": null,
            "grid_auto_flow": null,
            "grid_auto_rows": null,
            "grid_column": null,
            "grid_gap": null,
            "grid_row": null,
            "grid_template_areas": null,
            "grid_template_columns": null,
            "grid_template_rows": null,
            "height": null,
            "justify_content": null,
            "justify_items": null,
            "left": null,
            "margin": null,
            "max_height": null,
            "max_width": null,
            "min_height": null,
            "min_width": null,
            "object_fit": null,
            "object_position": null,
            "order": null,
            "overflow": null,
            "overflow_x": null,
            "overflow_y": null,
            "padding": null,
            "right": null,
            "top": null,
            "visibility": null,
            "width": null
          }
        },
        "8f6d3e5f87654dda8427fba6293071d9": {
          "model_module": "@jupyter-widgets/base",
          "model_name": "LayoutModel",
          "model_module_version": "1.2.0",
          "state": {
            "_model_module": "@jupyter-widgets/base",
            "_model_module_version": "1.2.0",
            "_model_name": "LayoutModel",
            "_view_count": null,
            "_view_module": "@jupyter-widgets/base",
            "_view_module_version": "1.2.0",
            "_view_name": "LayoutView",
            "align_content": null,
            "align_items": null,
            "align_self": null,
            "border": null,
            "bottom": null,
            "display": null,
            "flex": null,
            "flex_flow": null,
            "grid_area": null,
            "grid_auto_columns": null,
            "grid_auto_flow": null,
            "grid_auto_rows": null,
            "grid_column": null,
            "grid_gap": null,
            "grid_row": null,
            "grid_template_areas": null,
            "grid_template_columns": null,
            "grid_template_rows": null,
            "height": null,
            "justify_content": null,
            "justify_items": null,
            "left": null,
            "margin": null,
            "max_height": null,
            "max_width": null,
            "min_height": null,
            "min_width": null,
            "object_fit": null,
            "object_position": null,
            "order": null,
            "overflow": null,
            "overflow_x": null,
            "overflow_y": null,
            "padding": null,
            "right": null,
            "top": null,
            "visibility": null,
            "width": null
          }
        },
        "034b4ff249aa4a219fd649853c1ddbd9": {
          "model_module": "@jupyter-widgets/controls",
          "model_name": "DescriptionStyleModel",
          "model_module_version": "1.5.0",
          "state": {
            "_model_module": "@jupyter-widgets/controls",
            "_model_module_version": "1.5.0",
            "_model_name": "DescriptionStyleModel",
            "_view_count": null,
            "_view_module": "@jupyter-widgets/base",
            "_view_module_version": "1.2.0",
            "_view_name": "StyleView",
            "description_width": ""
          }
        },
        "75015818d50847f4815e032b8a0b1c68": {
          "model_module": "@jupyter-widgets/base",
          "model_name": "LayoutModel",
          "model_module_version": "1.2.0",
          "state": {
            "_model_module": "@jupyter-widgets/base",
            "_model_module_version": "1.2.0",
            "_model_name": "LayoutModel",
            "_view_count": null,
            "_view_module": "@jupyter-widgets/base",
            "_view_module_version": "1.2.0",
            "_view_name": "LayoutView",
            "align_content": null,
            "align_items": null,
            "align_self": null,
            "border": null,
            "bottom": null,
            "display": null,
            "flex": null,
            "flex_flow": null,
            "grid_area": null,
            "grid_auto_columns": null,
            "grid_auto_flow": null,
            "grid_auto_rows": null,
            "grid_column": null,
            "grid_gap": null,
            "grid_row": null,
            "grid_template_areas": null,
            "grid_template_columns": null,
            "grid_template_rows": null,
            "height": null,
            "justify_content": null,
            "justify_items": null,
            "left": null,
            "margin": null,
            "max_height": null,
            "max_width": null,
            "min_height": null,
            "min_width": null,
            "object_fit": null,
            "object_position": null,
            "order": null,
            "overflow": null,
            "overflow_x": null,
            "overflow_y": null,
            "padding": null,
            "right": null,
            "top": null,
            "visibility": null,
            "width": null
          }
        },
        "09c1dfb22d89425790480869bfaca17a": {
          "model_module": "@jupyter-widgets/controls",
          "model_name": "ProgressStyleModel",
          "model_module_version": "1.5.0",
          "state": {
            "_model_module": "@jupyter-widgets/controls",
            "_model_module_version": "1.5.0",
            "_model_name": "ProgressStyleModel",
            "_view_count": null,
            "_view_module": "@jupyter-widgets/base",
            "_view_module_version": "1.2.0",
            "_view_name": "StyleView",
            "bar_color": null,
            "description_width": ""
          }
        },
        "7f0e65fb7077422fb9e9a149cfb6dadd": {
          "model_module": "@jupyter-widgets/base",
          "model_name": "LayoutModel",
          "model_module_version": "1.2.0",
          "state": {
            "_model_module": "@jupyter-widgets/base",
            "_model_module_version": "1.2.0",
            "_model_name": "LayoutModel",
            "_view_count": null,
            "_view_module": "@jupyter-widgets/base",
            "_view_module_version": "1.2.0",
            "_view_name": "LayoutView",
            "align_content": null,
            "align_items": null,
            "align_self": null,
            "border": null,
            "bottom": null,
            "display": null,
            "flex": null,
            "flex_flow": null,
            "grid_area": null,
            "grid_auto_columns": null,
            "grid_auto_flow": null,
            "grid_auto_rows": null,
            "grid_column": null,
            "grid_gap": null,
            "grid_row": null,
            "grid_template_areas": null,
            "grid_template_columns": null,
            "grid_template_rows": null,
            "height": null,
            "justify_content": null,
            "justify_items": null,
            "left": null,
            "margin": null,
            "max_height": null,
            "max_width": null,
            "min_height": null,
            "min_width": null,
            "object_fit": null,
            "object_position": null,
            "order": null,
            "overflow": null,
            "overflow_x": null,
            "overflow_y": null,
            "padding": null,
            "right": null,
            "top": null,
            "visibility": null,
            "width": null
          }
        },
        "2bd42f3f12434f68a50f4c0c767d643b": {
          "model_module": "@jupyter-widgets/controls",
          "model_name": "DescriptionStyleModel",
          "model_module_version": "1.5.0",
          "state": {
            "_model_module": "@jupyter-widgets/controls",
            "_model_module_version": "1.5.0",
            "_model_name": "DescriptionStyleModel",
            "_view_count": null,
            "_view_module": "@jupyter-widgets/base",
            "_view_module_version": "1.2.0",
            "_view_name": "StyleView",
            "description_width": ""
          }
        },
        "7edc84e43640415fbcb5732814ad357f": {
          "model_module": "@jupyter-widgets/controls",
          "model_name": "HBoxModel",
          "model_module_version": "1.5.0",
          "state": {
            "_dom_classes": [],
            "_model_module": "@jupyter-widgets/controls",
            "_model_module_version": "1.5.0",
            "_model_name": "HBoxModel",
            "_view_count": null,
            "_view_module": "@jupyter-widgets/controls",
            "_view_module_version": "1.5.0",
            "_view_name": "HBoxView",
            "box_style": "",
            "children": [
              "IPY_MODEL_f4468a13747f448091263aaa9e89a50d",
              "IPY_MODEL_a505ef4a50b7490eb63f34e7924820f1",
              "IPY_MODEL_dd00b04d2b53412191fea60aa7fc66a6"
            ],
            "layout": "IPY_MODEL_f0045a7083b24ab7afe77d169172e8d0"
          }
        },
        "f4468a13747f448091263aaa9e89a50d": {
          "model_module": "@jupyter-widgets/controls",
          "model_name": "HTMLModel",
          "model_module_version": "1.5.0",
          "state": {
            "_dom_classes": [],
            "_model_module": "@jupyter-widgets/controls",
            "_model_module_version": "1.5.0",
            "_model_name": "HTMLModel",
            "_view_count": null,
            "_view_module": "@jupyter-widgets/controls",
            "_view_module_version": "1.5.0",
            "_view_name": "HTMLView",
            "description": "",
            "description_tooltip": null,
            "layout": "IPY_MODEL_bd72ed075d164bc69062ab4c5d1f7e8a",
            "placeholder": "​",
            "style": "IPY_MODEL_5e56feca106e4e1eb06ad8335efcf299",
            "value": "Loading checkpoint shards: 100%"
          }
        },
        "a505ef4a50b7490eb63f34e7924820f1": {
          "model_module": "@jupyter-widgets/controls",
          "model_name": "FloatProgressModel",
          "model_module_version": "1.5.0",
          "state": {
            "_dom_classes": [],
            "_model_module": "@jupyter-widgets/controls",
            "_model_module_version": "1.5.0",
            "_model_name": "FloatProgressModel",
            "_view_count": null,
            "_view_module": "@jupyter-widgets/controls",
            "_view_module_version": "1.5.0",
            "_view_name": "ProgressView",
            "bar_style": "success",
            "description": "",
            "description_tooltip": null,
            "layout": "IPY_MODEL_d1737116fe104aff836422ab45693195",
            "max": 2,
            "min": 0,
            "orientation": "horizontal",
            "style": "IPY_MODEL_2df41b30a50d4d0aa374d574b198c8dc",
            "value": 2
          }
        },
        "dd00b04d2b53412191fea60aa7fc66a6": {
          "model_module": "@jupyter-widgets/controls",
          "model_name": "HTMLModel",
          "model_module_version": "1.5.0",
          "state": {
            "_dom_classes": [],
            "_model_module": "@jupyter-widgets/controls",
            "_model_module_version": "1.5.0",
            "_model_name": "HTMLModel",
            "_view_count": null,
            "_view_module": "@jupyter-widgets/controls",
            "_view_module_version": "1.5.0",
            "_view_name": "HTMLView",
            "description": "",
            "description_tooltip": null,
            "layout": "IPY_MODEL_6d1d72d4752c46f8a469ef2739831bdd",
            "placeholder": "​",
            "style": "IPY_MODEL_4700a19aed764b8a993abc348bec5894",
            "value": " 2/2 [00:24&lt;00:00, 10.54s/it]"
          }
        },
        "f0045a7083b24ab7afe77d169172e8d0": {
          "model_module": "@jupyter-widgets/base",
          "model_name": "LayoutModel",
          "model_module_version": "1.2.0",
          "state": {
            "_model_module": "@jupyter-widgets/base",
            "_model_module_version": "1.2.0",
            "_model_name": "LayoutModel",
            "_view_count": null,
            "_view_module": "@jupyter-widgets/base",
            "_view_module_version": "1.2.0",
            "_view_name": "LayoutView",
            "align_content": null,
            "align_items": null,
            "align_self": null,
            "border": null,
            "bottom": null,
            "display": null,
            "flex": null,
            "flex_flow": null,
            "grid_area": null,
            "grid_auto_columns": null,
            "grid_auto_flow": null,
            "grid_auto_rows": null,
            "grid_column": null,
            "grid_gap": null,
            "grid_row": null,
            "grid_template_areas": null,
            "grid_template_columns": null,
            "grid_template_rows": null,
            "height": null,
            "justify_content": null,
            "justify_items": null,
            "left": null,
            "margin": null,
            "max_height": null,
            "max_width": null,
            "min_height": null,
            "min_width": null,
            "object_fit": null,
            "object_position": null,
            "order": null,
            "overflow": null,
            "overflow_x": null,
            "overflow_y": null,
            "padding": null,
            "right": null,
            "top": null,
            "visibility": null,
            "width": null
          }
        },
        "bd72ed075d164bc69062ab4c5d1f7e8a": {
          "model_module": "@jupyter-widgets/base",
          "model_name": "LayoutModel",
          "model_module_version": "1.2.0",
          "state": {
            "_model_module": "@jupyter-widgets/base",
            "_model_module_version": "1.2.0",
            "_model_name": "LayoutModel",
            "_view_count": null,
            "_view_module": "@jupyter-widgets/base",
            "_view_module_version": "1.2.0",
            "_view_name": "LayoutView",
            "align_content": null,
            "align_items": null,
            "align_self": null,
            "border": null,
            "bottom": null,
            "display": null,
            "flex": null,
            "flex_flow": null,
            "grid_area": null,
            "grid_auto_columns": null,
            "grid_auto_flow": null,
            "grid_auto_rows": null,
            "grid_column": null,
            "grid_gap": null,
            "grid_row": null,
            "grid_template_areas": null,
            "grid_template_columns": null,
            "grid_template_rows": null,
            "height": null,
            "justify_content": null,
            "justify_items": null,
            "left": null,
            "margin": null,
            "max_height": null,
            "max_width": null,
            "min_height": null,
            "min_width": null,
            "object_fit": null,
            "object_position": null,
            "order": null,
            "overflow": null,
            "overflow_x": null,
            "overflow_y": null,
            "padding": null,
            "right": null,
            "top": null,
            "visibility": null,
            "width": null
          }
        },
        "5e56feca106e4e1eb06ad8335efcf299": {
          "model_module": "@jupyter-widgets/controls",
          "model_name": "DescriptionStyleModel",
          "model_module_version": "1.5.0",
          "state": {
            "_model_module": "@jupyter-widgets/controls",
            "_model_module_version": "1.5.0",
            "_model_name": "DescriptionStyleModel",
            "_view_count": null,
            "_view_module": "@jupyter-widgets/base",
            "_view_module_version": "1.2.0",
            "_view_name": "StyleView",
            "description_width": ""
          }
        },
        "d1737116fe104aff836422ab45693195": {
          "model_module": "@jupyter-widgets/base",
          "model_name": "LayoutModel",
          "model_module_version": "1.2.0",
          "state": {
            "_model_module": "@jupyter-widgets/base",
            "_model_module_version": "1.2.0",
            "_model_name": "LayoutModel",
            "_view_count": null,
            "_view_module": "@jupyter-widgets/base",
            "_view_module_version": "1.2.0",
            "_view_name": "LayoutView",
            "align_content": null,
            "align_items": null,
            "align_self": null,
            "border": null,
            "bottom": null,
            "display": null,
            "flex": null,
            "flex_flow": null,
            "grid_area": null,
            "grid_auto_columns": null,
            "grid_auto_flow": null,
            "grid_auto_rows": null,
            "grid_column": null,
            "grid_gap": null,
            "grid_row": null,
            "grid_template_areas": null,
            "grid_template_columns": null,
            "grid_template_rows": null,
            "height": null,
            "justify_content": null,
            "justify_items": null,
            "left": null,
            "margin": null,
            "max_height": null,
            "max_width": null,
            "min_height": null,
            "min_width": null,
            "object_fit": null,
            "object_position": null,
            "order": null,
            "overflow": null,
            "overflow_x": null,
            "overflow_y": null,
            "padding": null,
            "right": null,
            "top": null,
            "visibility": null,
            "width": null
          }
        },
        "2df41b30a50d4d0aa374d574b198c8dc": {
          "model_module": "@jupyter-widgets/controls",
          "model_name": "ProgressStyleModel",
          "model_module_version": "1.5.0",
          "state": {
            "_model_module": "@jupyter-widgets/controls",
            "_model_module_version": "1.5.0",
            "_model_name": "ProgressStyleModel",
            "_view_count": null,
            "_view_module": "@jupyter-widgets/base",
            "_view_module_version": "1.2.0",
            "_view_name": "StyleView",
            "bar_color": null,
            "description_width": ""
          }
        },
        "6d1d72d4752c46f8a469ef2739831bdd": {
          "model_module": "@jupyter-widgets/base",
          "model_name": "LayoutModel",
          "model_module_version": "1.2.0",
          "state": {
            "_model_module": "@jupyter-widgets/base",
            "_model_module_version": "1.2.0",
            "_model_name": "LayoutModel",
            "_view_count": null,
            "_view_module": "@jupyter-widgets/base",
            "_view_module_version": "1.2.0",
            "_view_name": "LayoutView",
            "align_content": null,
            "align_items": null,
            "align_self": null,
            "border": null,
            "bottom": null,
            "display": null,
            "flex": null,
            "flex_flow": null,
            "grid_area": null,
            "grid_auto_columns": null,
            "grid_auto_flow": null,
            "grid_auto_rows": null,
            "grid_column": null,
            "grid_gap": null,
            "grid_row": null,
            "grid_template_areas": null,
            "grid_template_columns": null,
            "grid_template_rows": null,
            "height": null,
            "justify_content": null,
            "justify_items": null,
            "left": null,
            "margin": null,
            "max_height": null,
            "max_width": null,
            "min_height": null,
            "min_width": null,
            "object_fit": null,
            "object_position": null,
            "order": null,
            "overflow": null,
            "overflow_x": null,
            "overflow_y": null,
            "padding": null,
            "right": null,
            "top": null,
            "visibility": null,
            "width": null
          }
        },
        "4700a19aed764b8a993abc348bec5894": {
          "model_module": "@jupyter-widgets/controls",
          "model_name": "DescriptionStyleModel",
          "model_module_version": "1.5.0",
          "state": {
            "_model_module": "@jupyter-widgets/controls",
            "_model_module_version": "1.5.0",
            "_model_name": "DescriptionStyleModel",
            "_view_count": null,
            "_view_module": "@jupyter-widgets/base",
            "_view_module_version": "1.2.0",
            "_view_name": "StyleView",
            "description_width": ""
          }
        }
      }
    }
  },
  "nbformat": 4,
  "nbformat_minor": 5
}